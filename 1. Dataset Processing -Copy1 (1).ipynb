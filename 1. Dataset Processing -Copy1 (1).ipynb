{
 "cells": [
  {
   "cell_type": "markdown",
   "metadata": {},
   "source": [
    "### Imports"
   ]
  },
  {
   "cell_type": "code",
   "execution_count": 1,
   "metadata": {},
   "outputs": [
    {
     "data": {
      "text/plain": [
       "'3.8.12 (default, Oct 12 2021, 13:49:34) \\n[GCC 7.5.0]'"
      ]
     },
     "execution_count": 1,
     "metadata": {},
     "output_type": "execute_result"
    }
   ],
   "source": [
    "import sys\n",
    "sys.version"
   ]
  },
  {
   "cell_type": "code",
   "execution_count": 2,
   "metadata": {},
   "outputs": [],
   "source": [
    "# libraries importation\n",
    "from collections import Counter\n",
    "import pandas as pd\n",
    "import pandas_schema\n",
    "from pandas_schema import Column\n",
    "from pandas_schema.validation import CustomElementValidation\n",
    "from decimal import *\n",
    "import numpy as np\n",
    "from matplotlib.ticker import ScalarFormatter, FormatStrFormatter\n",
    "from pandas_profiling import ProfileReport\n",
    "import seaborn as sns\n",
    "%matplotlib inline\n",
    "import matplotlib.pyplot as plt\n",
    "pd.options.display.max_columns = None\n",
    "from dfply import *\n",
    "from plotly.subplots import make_subplots\n",
    "import plotly.graph_objs as go\n",
    "from scipy import stats\n",
    "from statsmodels.graphics.gofplots import qqplot\n",
    "from sklearn import preprocessing\n",
    "#pd.options.display.max_rows = None"
   ]
  },
  {
   "cell_type": "markdown",
   "metadata": {},
   "source": [
    "### Read csv. files"
   ]
  },
  {
   "cell_type": "code",
   "execution_count": 3,
   "metadata": {},
   "outputs": [],
   "source": [
    "# Read clinical data\n",
    "df = pd.read_csv('filemaker_data_nov2022.csv.gz')\n",
    "df = df.rename(columns={'Codigo': 'Code'})\n",
    "df = df.set_index(\"Code\")"
   ]
  },
  {
   "cell_type": "code",
   "execution_count": 4,
   "metadata": {},
   "outputs": [],
   "source": [
    "# Copy original clinical data\n",
    "df_original = df.copy(deep = True)"
   ]
  },
  {
   "cell_type": "markdown",
   "metadata": {},
   "source": [
    "### Drop EA cases "
   ]
  },
  {
   "cell_type": "code",
   "execution_count": 5,
   "metadata": {},
   "outputs": [],
   "source": [
    "# Index of samples that are not considered autism cases \n",
    "df = df.reset_index()"
   ]
  },
  {
   "cell_type": "code",
   "execution_count": 6,
   "metadata": {},
   "outputs": [
    {
     "data": {
      "text/plain": [
       "Int64Index([617, 641, 650, 651, 653, 655, 656, 660, 661, 674, 689, 690, 691,\n",
       "            693, 696, 700, 701, 708, 710, 712, 715, 716, 720, 722, 724, 731,\n",
       "            734, 740, 741, 745, 748, 757, 763, 770, 771, 777, 784, 788, 795,\n",
       "            796, 797, 802, 805, 815, 819, 821, 822, 823, 826, 827, 839, 844,\n",
       "            845, 846, 848, 857, 860, 866, 867, 868, 872, 875, 876, 877, 881],\n",
       "           dtype='int64')"
      ]
     },
     "execution_count": 6,
     "metadata": {},
     "output_type": "execute_result"
    }
   ],
   "source": [
    "# Index of samples with code as EA \n",
    "cod_ea = df[(df['Code'].str.contains('EA', regex=False, case=False, na=False))].index\n",
    "cod_ea"
   ]
  },
  {
   "cell_type": "code",
   "execution_count": 7,
   "metadata": {},
   "outputs": [],
   "source": [
    "# Drop samples with code as EA\n",
    "df.drop(cod_ea, inplace = True)"
   ]
  },
  {
   "cell_type": "code",
   "execution_count": 8,
   "metadata": {},
   "outputs": [
    {
     "data": {
      "text/plain": [
       "Int64Index([284, 549], dtype='int64')"
      ]
     },
     "execution_count": 8,
     "metadata": {},
     "output_type": "execute_result"
    }
   ],
   "source": [
    "# Index of samples that were annulled\n",
    "cod_null = df[(df['Code'].str.contains('anulad', regex=False, case=False, na=False))].index\n",
    "cod_null"
   ]
  },
  {
   "cell_type": "code",
   "execution_count": 9,
   "metadata": {},
   "outputs": [],
   "source": [
    "# Drop samples with code as EA\n",
    "df.drop(cod_null, inplace = True)"
   ]
  },
  {
   "cell_type": "code",
   "execution_count": 10,
   "metadata": {},
   "outputs": [],
   "source": [
    "# Reset index\n",
    "df = df.set_index(\"Code\")"
   ]
  },
  {
   "cell_type": "code",
   "execution_count": 11,
   "metadata": {},
   "outputs": [],
   "source": [
    "# Drop the sample (was highlighted has not being viable)\n",
    "df.drop('AA913', inplace = True)"
   ]
  },
  {
   "cell_type": "markdown",
   "metadata": {},
   "source": [
    "###  Adjust Columns Names and Values "
   ]
  },
  {
   "cell_type": "markdown",
   "metadata": {},
   "source": [
    "#### Change Columns' Names"
   ]
  },
  {
   "cell_type": "code",
   "execution_count": 12,
   "metadata": {},
   "outputs": [],
   "source": [
    "# rename ADIR columns\n",
    "df = df.rename(columns={'ADIR_B_10':'ADIR_Soc', 'ADIR_D_3': 'ADIR_RRB', 'ADIR_AD_1': 'ADIR_AbDev'})\n",
    "df_original = df_original.rename(columns={'ADIR_B_10': 'ADIR_Soc', 'ADIR_D_3': 'ADIR_RRB', 'ADIR_AD_1': 'ADIR_AbDev'})"
   ]
  },
  {
   "cell_type": "code",
   "execution_count": 13,
   "metadata": {},
   "outputs": [],
   "source": [
    "# rename VABS columns\n",
    "df = df.rename(columns={'CP_Comunicação_Vin': 'VABS_Com', 'CP_Socialização_Vin': 'VABS_Soc', 'CP_Autonomia_Vin': 'VABS_Aut'})\n",
    "df_original = df_original.rename(columns={'CP_Comunicação_Vin': 'VABS_Com', 'CP_Socialização_Vin': 'VABS_Soc', 'CP_Autonomia_Vin': 'VABS_Aut'})"
   ]
  },
  {
   "cell_type": "code",
   "execution_count": 14,
   "metadata": {},
   "outputs": [],
   "source": [
    "# rename QD columns\n",
    "df = df.rename(columns ={'QD_P/S': 'QD_PS', 'QD_O/M': 'QD_EH', 'QD_R/P': 'QD_PR',\n",
    "                         'QDAFreav': 'QDLreav', 'QDOMreav': 'QDEHreav'})\n",
    "df_original = df_original.rename(columns={'QD_P/S': 'QD_PS', 'QD_O/M': 'QD_EH','QD_R/P': 'QD_PR',\n",
    "                                          'QDAFreav': 'QDLreav', 'QDOMreav': 'QDEHreav'})"
   ]
  },
  {
   "cell_type": "code",
   "execution_count": 15,
   "metadata": {},
   "outputs": [],
   "source": [
    "# rename columns\n",
    "df = df.rename(columns={'Apgar_1º': 'Apgar_1', 'Apgar_5º': 'Apgar_5',\n",
    "                        'Andar': 'Walk_Age','Primeiras_Palavras': 'First_Words_Age',\n",
    "                        'Primeiras_Frases': 'First_Phrases_Age', 'Idade_Diag.': 'Diag_Age',\n",
    "                        'PC': 'HC', 'ADOS_resultado': 'ADOS_Sev','ADIR_cotação': 'ADIR_quot',\n",
    "                        'Dismorfismos': 'Dysmorphysm', 'Regressão_Linguagem': 'Language_Regr', \n",
    "                        'Atraso_DPM_sempre': 'PMD_Delay','História_Familiar_Pos': 'Psyc_Family_Hist',\n",
    "                        'Regressão_DPM': 'PMD_Regression', 'Sexo': 'Gender', \n",
    "                        'Audição': 'Audition', 'Visão': 'Vision', 'Raça': 'Race', \n",
    "                        })\n",
    "df_original = df_original.rename(columns={'Apgar_1º': 'Apgar_1', 'Apgar_5º': 'Apgar_5',\n",
    "                        'Andar': 'Walk_Age','Primeiras_Palavras': 'First_Words_Age',\n",
    "                        'Primeiras_Frases': 'First_Phrases_Age', 'Idade_Diag.': 'Diag_Age',\n",
    "                        'PC': 'HC', 'ADOS_resultado': 'ADOS_Sev','ADIR_cotação': 'ADIR_quot',\n",
    "                        'Dismorfismos': 'Dysmorphysm', 'Regressão_Linguagem': 'Language_Regr', \n",
    "                        'Atraso_DPM_sempre': 'PMD_Delay','História_Familiar_Pos': 'Psyc_Family_Hist',\n",
    "                        'Regressão_DPM': 'PMD_Regression', 'Sexo': 'Gender', \n",
    "                        'Audição': 'Audition', 'Visão': 'Vision', 'Raça': 'Race', \n",
    "                        'Diagnostico_secundario': 'ID'})"
   ]
  },
  {
   "cell_type": "code",
   "execution_count": 16,
   "metadata": {},
   "outputs": [],
   "source": [
    "df = df.rename(columns={'Diagnótico_principal':'Main_Diagnosis',\n",
    "                        'Diagnostico_secundario': 'Secondary_Diagnosis',\n",
    "                        'Diagnóstico_clinico_3': 'Clinical_Diagnosis', \n",
    "                        'Cariótipo_Resultado':'Karyotype_Result',\n",
    "                        'FRAXA_Resultado': 'FRAXA_Result',\n",
    "                        'FRAXE_Resultado': 'FRAXE_Result',\n",
    "                        'IdadeQDQI': 'QDQI_Age',\n",
    "                        'DN': 'BD', \n",
    "                        'Data_observação': 'Observation_Date'})\n",
    "df_original = df_original.rename(columns={'Diagnótico_principal':'Main_Diagnosis',\n",
    "                                          'Diagnostico_secundario': 'Secondary_Diagnosis',\n",
    "                                          'Diagnóstico_clinico_3': 'Clinical_Diagnosis',\n",
    "                                          'Cariótipo_Resultado':'Karyotype_Result',\n",
    "                                          'FRAXA_Resultado': 'FRAXA_Result',\n",
    "                                          'FRAXE_Resultado': 'FRAXE_Result',\n",
    "                                          'IdadeQDQI': 'QDQI_Age',\n",
    "                                          'DN': 'BD',\n",
    "                                          'Data_observação': 'Observation_Date'})"
   ]
  },
  {
   "cell_type": "markdown",
   "metadata": {},
   "source": [
    "#### Change Data Type"
   ]
  },
  {
   "cell_type": "code",
   "execution_count": 17,
   "metadata": {},
   "outputs": [
    {
     "data": {
      "text/plain": [
       "Counter({dtype('float64'): 90, dtype('O'): 215, dtype('int64'): 1})"
      ]
     },
     "execution_count": 17,
     "metadata": {},
     "output_type": "execute_result"
    }
   ],
   "source": [
    "# see columns data type\n",
    "Counter(df.dtypes)"
   ]
  },
  {
   "cell_type": "code",
   "execution_count": 18,
   "metadata": {},
   "outputs": [],
   "source": [
    "# column of object data type\n",
    "obj_col = list(df.select_dtypes(['O', 'object']).columns)"
   ]
  },
  {
   "cell_type": "code",
   "execution_count": 19,
   "metadata": {},
   "outputs": [],
   "source": [
    "# select columns of object data type that should be int type\n",
    "obj_col = ['ADIR_C_7', 'ADIR_C_8',\n",
    "           'Ano_Diag.','Apgar_1','Apgar_5',\n",
    "           'VABS_Aut','VABS_Com', 'CP_Global_Vin','VABS_Soc',\n",
    "           'Griffiths_QD_Global', \n",
    "           'IM_G','IM_L','IM_M','IM_O/M','IM_P/S','IM_R','IM_R/P', \n",
    "           'Diag_Age', 'Idade_Gestacional_','Idade_de_início', 'QDQI_Age',\n",
    "           'HC','PC_(ALTA)','PC__P', 'Peso_','Peso_(ALTA)','Peso_P',\n",
    "           'First_Words_Age','First_Phrases_Age',\n",
    "           'QD/QILing','QD_L','QD_M', 'QD_EH','QD_PS','QD_R',\n",
    "           'QDLreav','QDMreav', 'QDEHreav','QDPSreav','QDRreav',\n",
    "           'Vineland_abr_Autonomia_DP-P','Vineland_abr_Socialização_DP-P',\n",
    "           'Vineland_abr_comunicação_DP-_P',\n",
    "           'Vineland_abr_global_DP-P','Vineland_abr_motricidade_DP-P',\n",
    "           'Vineland_ext_autonomia_DP-P',\n",
    "           'Vineland_ext_comunicação_DP-P','Vineland_ext_global_DP-P',\n",
    "           'Vineland_ext_socialização_DP-P',\n",
    "           'WISCIII_Pcv','WISCIII_Pop',\n",
    "           'WISCIII_Pvp','WPPSI-R_QIec',\n",
    "           'WPPSI-R_QIr','WPPSI-R_QIv',\n",
    "           'nivel_autonomia_V']"
   ]
  },
  {
   "cell_type": "code",
   "execution_count": 20,
   "metadata": {},
   "outputs": [],
   "source": [
    "# Transform selected columns of object data type to int type\n",
    "for v in obj_col:\n",
    "    df[v] = df[v].apply(pd.to_numeric, errors='coerce')\n",
    "    df_original[v] = df_original[v].apply(pd.to_numeric, errors='coerce')"
   ]
  },
  {
   "cell_type": "markdown",
   "metadata": {},
   "source": [
    "#### Change Values' Names"
   ]
  },
  {
   "cell_type": "markdown",
   "metadata": {},
   "source": [
    "##### Race"
   ]
  },
  {
   "cell_type": "code",
   "execution_count": 21,
   "metadata": {},
   "outputs": [
    {
     "data": {
      "text/plain": [
       "array(['Caucasiano', 'Africano', nan, 'Asiático', 'Hispânico', 'Brasil'],\n",
       "      dtype=object)"
      ]
     },
     "execution_count": 21,
     "metadata": {},
     "output_type": "execute_result"
    }
   ],
   "source": [
    "df['Race'].unique()"
   ]
  },
  {
   "cell_type": "code",
   "execution_count": 22,
   "metadata": {},
   "outputs": [],
   "source": [
    "df['Race'] = df['Race'].replace(['Hispânico', 'Brasil', np.nan, 'nan'], pd.NA)\n",
    "df_original['Race'] = df_original['Race'].replace(['Hispânico', 'Brasil', np.nan], pd.NA)"
   ]
  },
  {
   "cell_type": "code",
   "execution_count": 23,
   "metadata": {},
   "outputs": [],
   "source": [
    "df['Race'] = df['Race'].replace(['Caucasiano'], 'White')\n",
    "df_original['Race'] = df_original['Race'].replace(['Caucasiano'], 'White')"
   ]
  },
  {
   "cell_type": "code",
   "execution_count": 24,
   "metadata": {},
   "outputs": [],
   "source": [
    "df['Race'] = df['Race'].replace(['Africano'], 'African American')\n",
    "df_original['Race'] = df_original['Race'].replace(['Africano'], 'African American')"
   ]
  },
  {
   "cell_type": "code",
   "execution_count": 25,
   "metadata": {},
   "outputs": [],
   "source": [
    "df['Race'] = df['Race'].replace(['Asiático'], 'Asian')\n",
    "df_original['Race'] = df_original['Race'].replace(['Asiático'], 'Asian')"
   ]
  },
  {
   "cell_type": "markdown",
   "metadata": {},
   "source": [
    "##### ADOS Severity"
   ]
  },
  {
   "cell_type": "code",
   "execution_count": 26,
   "metadata": {},
   "outputs": [
    {
     "data": {
      "text/plain": [
       "array([nan, 'Autismo', 'Pos', 'PEA', 'Ñ Autismo'], dtype=object)"
      ]
     },
     "execution_count": 26,
     "metadata": {},
     "output_type": "execute_result"
    }
   ],
   "source": [
    "df.ADOS_Sev.unique()"
   ]
  },
  {
   "cell_type": "code",
   "execution_count": 27,
   "metadata": {},
   "outputs": [],
   "source": [
    "df['ADOS_Sev'] = df['ADOS_Sev'].replace(['nan', np.nan], pd.NA)\n",
    "df_original['ADOS_Sev'] = df_original['ADOS_Sev'].replace(['nan', np.nan], pd.NA)"
   ]
  },
  {
   "cell_type": "code",
   "execution_count": 28,
   "metadata": {},
   "outputs": [],
   "source": [
    "df['ADOS_Sev'] = df['ADOS_Sev'].replace(['Autismo', 'Pos'], 'Autism')\n",
    "df_original['ADOS_Sev'] = df_original['ADOS_Sev'].replace(['Autismo', 'Pos'], 'Autism')"
   ]
  },
  {
   "cell_type": "code",
   "execution_count": 29,
   "metadata": {},
   "outputs": [],
   "source": [
    "df['ADOS_Sev'] = df['ADOS_Sev'].replace(['PEA'], 'ASD')\n",
    "df_original['ADOS_Sev'] = df_original['ADOS_Sev'].replace(['PEA'], 'ASD')"
   ]
  },
  {
   "cell_type": "code",
   "execution_count": 30,
   "metadata": {},
   "outputs": [],
   "source": [
    "df['ADOS_Sev'] = df['ADOS_Sev'].replace(['Ñ Autismo'], 'Non Spectrum')\n",
    "df_original['ADOS_Sev'] = df_original['ADOS_Sev'].replace(['Ñ Autismo'], 'Non Spectrum')"
   ]
  },
  {
   "cell_type": "markdown",
   "metadata": {},
   "source": [
    "##### ADIR Quotation"
   ]
  },
  {
   "cell_type": "code",
   "execution_count": 31,
   "metadata": {},
   "outputs": [
    {
     "data": {
      "text/plain": [
       "array(['Pos', 'pos', nan, 'Neg', 'Duv'], dtype=object)"
      ]
     },
     "execution_count": 31,
     "metadata": {},
     "output_type": "execute_result"
    }
   ],
   "source": [
    "df.ADIR_quot.unique()"
   ]
  },
  {
   "cell_type": "code",
   "execution_count": 32,
   "metadata": {},
   "outputs": [],
   "source": [
    "df['ADIR_quot'] = df['ADIR_quot'].replace(['nan', np.nan], pd.NA)\n",
    "df_original['ADIR_quot'] = df_original['ADIR_quot'].replace(['nan', np.nan], pd.NA)"
   ]
  },
  {
   "cell_type": "code",
   "execution_count": 33,
   "metadata": {},
   "outputs": [],
   "source": [
    "df['ADIR_quot'] = df['ADIR_quot'].replace(['Pos', 'pos'], 'Positive')\n",
    "df_original['ADIR_quot'] = df_original['ADIR_quot'].replace(['Pos', 'pos'], 'Positive')"
   ]
  },
  {
   "cell_type": "code",
   "execution_count": 34,
   "metadata": {},
   "outputs": [],
   "source": [
    "df['ADIR_quot'] = df['ADIR_quot'].replace(['Neg', 'Duv'], 'Negative')\n",
    "df_original['ADIR_quot'] = df_original['ADIR_quot'].replace(['Neg', 'Duv'], 'Negative')"
   ]
  },
  {
   "cell_type": "markdown",
   "metadata": {},
   "source": [
    "#### Verbal"
   ]
  },
  {
   "cell_type": "code",
   "execution_count": 35,
   "metadata": {},
   "outputs": [
    {
     "data": {
      "text/plain": [
       "array(['n', 's', 'N', nan], dtype=object)"
      ]
     },
     "execution_count": 35,
     "metadata": {},
     "output_type": "execute_result"
    }
   ],
   "source": [
    "df.verbal.unique()"
   ]
  },
  {
   "cell_type": "code",
   "execution_count": 36,
   "metadata": {},
   "outputs": [],
   "source": [
    "df['verbal'] = df['verbal'].replace(['nan', np.nan], pd.NA)\n",
    "df_original['verbal'] = df_original['verbal'].replace(['nan', np.nan], pd.NA)"
   ]
  },
  {
   "cell_type": "code",
   "execution_count": 37,
   "metadata": {},
   "outputs": [],
   "source": [
    "df['verbal'] = df['verbal'].replace(['n','N'], 'No')\n",
    "df_original['verbal'] = df_original['verbal'].replace(['n','N'], 'No')"
   ]
  },
  {
   "cell_type": "code",
   "execution_count": 38,
   "metadata": {},
   "outputs": [],
   "source": [
    "df['verbal'] = df['verbal'].replace(['s'], 'Yes')\n",
    "df_original['verbal'] = df_original['verbal'].replace(['s'], 'Yes')"
   ]
  },
  {
   "cell_type": "markdown",
   "metadata": {},
   "source": [
    "### Initial Observations"
   ]
  },
  {
   "cell_type": "code",
   "execution_count": 39,
   "metadata": {},
   "outputs": [
    {
     "data": {
      "text/plain": [
       "array(['Autismo1', 'Autismoatipico', 'Autismoduvidoso',\n",
       "       'Evoluçãonãoautismo', 'Problemas Comportamento', 'Autismo'],\n",
       "      dtype=object)"
      ]
     },
     "execution_count": 39,
     "metadata": {},
     "output_type": "execute_result"
    }
   ],
   "source": [
    "df.Main_Diagnosis.unique()"
   ]
  },
  {
   "cell_type": "code",
   "execution_count": 40,
   "metadata": {},
   "outputs": [],
   "source": [
    "# index from samples with Main_Diagnosis Evoluçãonãoautismo\n",
    "main_diag_ev = df[(df['Main_Diagnosis'] == 'Evoluçãonãoautismo')].index"
   ]
  },
  {
   "cell_type": "code",
   "execution_count": 41,
   "metadata": {},
   "outputs": [
    {
     "data": {
      "text/plain": [
       "Index(['AA783', 'AA839'], dtype='object', name='Code')"
      ]
     },
     "execution_count": 41,
     "metadata": {},
     "output_type": "execute_result"
    }
   ],
   "source": [
    "main_diag_ev"
   ]
  },
  {
   "cell_type": "code",
   "execution_count": 42,
   "metadata": {},
   "outputs": [],
   "source": [
    "# index from samples with a doubtful Main_Diagnosis\n",
    "main_diag_doub = df[(df['Main_Diagnosis'] == 'Autismoduvidoso')].index"
   ]
  },
  {
   "cell_type": "code",
   "execution_count": 43,
   "metadata": {},
   "outputs": [
    {
     "name": "stdout",
     "output_type": "stream",
     "text": [
      "{'AA676': 'ASD', 'AA715': 'Non Spectrum', 'AA626': 'ASD', 'AA652': 'Autism', 'AA752': 'ASD', 'AA713': 'ASD', 'AA708': 'ASD', 'AA740': 'Autism', 'AA702': 'Autism', 'AA685': 'Autism', 'AA732': 'ASD', 'AA792': 'ASD'}\n"
     ]
    }
   ],
   "source": [
    "# index from samples with a doubtful Main_Diagnosis and the respective ADOS result\n",
    "ados_main_diag_doub = {}\n",
    "for code in main_diag_doub:\n",
    "    ados_main_diag_doub[code] = df.ADOS_Sev[code]\n",
    "print(ados_main_diag_doub)"
   ]
  },
  {
   "cell_type": "code",
   "execution_count": 44,
   "metadata": {},
   "outputs": [
    {
     "name": "stdout",
     "output_type": "stream",
     "text": [
      "{'AA676': 'Negative', 'AA715': 'Positive', 'AA626': 'Negative', 'AA652': 'Negative', 'AA752': 'Negative', 'AA713': 'Negative', 'AA708': 'Negative', 'AA740': 'Negative', 'AA702': 'Negative', 'AA685': 'Negative', 'AA732': 'Negative', 'AA792': 'Negative'}\n"
     ]
    }
   ],
   "source": [
    "# index from samples with a doubtful Main_Diagnosis and the respective ADIR result\n",
    "adir_main_diag_doub = {}\n",
    "for code in main_diag_doub:\n",
    "    adir_main_diag_doub[code] = df.ADIR_quot[code]\n",
    "print(adir_main_diag_doub)"
   ]
  },
  {
   "cell_type": "code",
   "execution_count": 45,
   "metadata": {},
   "outputs": [
    {
     "data": {
      "application/vnd.jupyter.widget-view+json": {
       "model_id": "0c02b73b996c449b969a9eca5cdc8054",
       "version_major": 2,
       "version_minor": 0
      },
      "text/plain": [
       "Summarize dataset:   0%|          | 0/5 [00:00<?, ?it/s]"
      ]
     },
     "metadata": {},
     "output_type": "display_data"
    },
    {
     "name": "stderr",
     "output_type": "stream",
     "text": [
      "/home/aalmeida/miniconda3/envs/clinical_data/lib/python3.8/site-packages/numpy/core/_methods.py:262: RuntimeWarning: Degrees of freedom <= 0 for slice\n",
      "  ret = _var(a, axis=axis, dtype=dtype, out=out, ddof=ddof,\n",
      "/home/aalmeida/miniconda3/envs/clinical_data/lib/python3.8/site-packages/numpy/core/_methods.py:254: RuntimeWarning: invalid value encountered in double_scalars\n",
      "  ret = ret.dtype.type(ret / rcount)\n",
      "/home/aalmeida/miniconda3/envs/clinical_data/lib/python3.8/site-packages/numpy/core/fromnumeric.py:3723: RuntimeWarning: Degrees of freedom <= 0 for slice\n",
      "  return _methods._var(a, axis=axis, dtype=dtype, out=out, ddof=ddof,\n"
     ]
    },
    {
     "data": {
      "application/vnd.jupyter.widget-view+json": {
       "model_id": "0d23abb2feda4c9a87021ec38b6ddea7",
       "version_major": 2,
       "version_minor": 0
      },
      "text/plain": [
       "Generate report structure:   0%|          | 0/1 [00:00<?, ?it/s]"
      ]
     },
     "metadata": {},
     "output_type": "display_data"
    },
    {
     "data": {
      "application/vnd.jupyter.widget-view+json": {
       "model_id": "236bb9744f33408cb39dfad6cded1b54",
       "version_major": 2,
       "version_minor": 0
      },
      "text/plain": [
       "Render HTML:   0%|          | 0/1 [00:00<?, ?it/s]"
      ]
     },
     "metadata": {},
     "output_type": "display_data"
    },
    {
     "name": "stderr",
     "output_type": "stream",
     "text": [
      "/home/aalmeida/miniconda3/envs/clinical_data/lib/python3.8/site-packages/pandas_profiling/profile_report.py:262: UserWarning: Extension  not supported. For now we assume .html was intended. To remove this warning, please use .html or .json.\n",
      "  warnings.warn(\n"
     ]
    },
    {
     "data": {
      "application/vnd.jupyter.widget-view+json": {
       "model_id": "a3fec5f45b0043fb96ff8b248fc2c5b9",
       "version_major": 2,
       "version_minor": 0
      },
      "text/plain": [
       "Export report to file:   0%|          | 0/1 [00:00<?, ?it/s]"
      ]
     },
     "metadata": {},
     "output_type": "display_data"
    }
   ],
   "source": [
    "# profile report of dataset\n",
    "profile = ProfileReport(df, title='Initial Dataset Profile', minimal = True)\n",
    "# export profile report \n",
    "profile.to_file(\"Initial Dataset Profile\")"
   ]
  },
  {
   "cell_type": "markdown",
   "metadata": {},
   "source": [
    "### Exclusion of Samples with  Negative ADIR/ADOS  Results"
   ]
  },
  {
   "cell_type": "code",
   "execution_count": 46,
   "metadata": {},
   "outputs": [],
   "source": [
    "# index from null samples for both ADIR and ADOS\n",
    "adir_ados_null = df[(df['ADIR_quot'].isnull())\n",
    "                    &(df['ADOS_Sev'].isnull())].index"
   ]
  },
  {
   "cell_type": "code",
   "execution_count": 47,
   "metadata": {},
   "outputs": [
    {
     "data": {
      "text/plain": [
       "Index(['AA4', 'AA24', 'AA30', 'AA44', 'AA76', 'AA179', 'AA188', 'AA609',\n",
       "       'AA770', 'AA940', 'AA811', 'AA833', 'AA875', 'AA869', 'AA857', 'AA863',\n",
       "       'AA918', 'AA926', 'AA939', 'AA933', 'AA948', 'AA949', 'AA947', 'AA952',\n",
       "       'AA950', 'AA951'],\n",
       "      dtype='object', name='Code')"
      ]
     },
     "execution_count": 47,
     "metadata": {},
     "output_type": "execute_result"
    }
   ],
   "source": [
    "adir_ados_null"
   ]
  },
  {
   "cell_type": "code",
   "execution_count": 48,
   "metadata": {
    "scrolled": true
   },
   "outputs": [
    {
     "name": "stdout",
     "output_type": "stream",
     "text": [
      "{'AA4': 'Autismo1', 'AA24': 'Autismo1', 'AA30': 'Autismo1', 'AA44': 'Autismo1', 'AA76': 'Autismo1', 'AA179': 'Autismo1', 'AA188': 'Autismo1', 'AA609': 'Autismo1', 'AA770': 'Autismo1', 'AA940': 'Autismo1', 'AA811': 'Autismo1', 'AA833': 'Autismo1', 'AA875': 'Autismo1', 'AA869': 'Autismo1', 'AA857': 'Autismo1', 'AA863': 'Autismo1', 'AA918': 'Autismo1', 'AA926': 'Autismo1', 'AA939': 'Autismo1', 'AA933': 'Autismo1', 'AA948': 'Autismo1', 'AA949': 'Autismo1', 'AA947': 'Autismo1', 'AA952': 'Autismo1', 'AA950': 'Autismo1', 'AA951': 'Autismo1'}\n"
     ]
    }
   ],
   "source": [
    "# index from null samples for ADIR and ADOS and the respective result of Diagnostico_principal\n",
    "adir_ados_null_dic = {}\n",
    "for code in adir_ados_null:\n",
    "    adir_ados_null_dic[code] = df.Main_Diagnosis[code]\n",
    "print(adir_ados_null_dic)"
   ]
  },
  {
   "cell_type": "code",
   "execution_count": 49,
   "metadata": {},
   "outputs": [],
   "source": [
    "# index from samples with ADIR negative \n",
    "adir_neg = df[(df['ADIR_quot'] == 'Negative')].index"
   ]
  },
  {
   "cell_type": "code",
   "execution_count": 50,
   "metadata": {},
   "outputs": [
    {
     "name": "stdout",
     "output_type": "stream",
     "text": [
      "{'AA71': <NA>, 'AA108': <NA>, 'AA162': <NA>, 'AA340': 'Autism', 'AA349': 'ASD', 'AA805': 'ASD', 'AA475': 'Autism', 'AA428': 'Autism', 'AA409': 'ASD', 'AA547': 'Autism', 'AA540': 'ASD', 'AA584': 'Autism', 'AA552': 'ASD', 'AA627': 'Autism', 'AA698': 'ASD', 'AA671': <NA>, 'AA595': 'Autism', 'AA546': <NA>, 'AA570': 'Autism', 'AA810': 'Autism', 'AA541': 'ASD', 'AA558': 'Autism', 'AA556': <NA>, 'AA585': 'Autism', 'AA676': 'ASD', 'AA579': 'ASD', 'AA610': <NA>, 'AA548': 'Autism', 'AA582': <NA>, 'AA561': 'Autism', 'AA566': 'Autism', 'AA743': 'Autism', 'AA925': 'ASD', 'AA611': 'Autism', 'AA800': 'Autism', 'AA626': 'ASD', 'AA651': 'ASD', 'AA597': 'ASD', 'AA622': 'Autism', 'AA666': <NA>, 'AA813': 'Non Spectrum', 'AA637': 'Autism', 'AA612': <NA>, 'AA642': 'ASD', 'AA628': 'Non Spectrum', 'AA662': 'Non Spectrum', 'AA654': 'Autism', 'AA652': 'Autism', 'AA667': 'Autism', 'AA673': 'ASD', 'AA703': 'Autism', 'AA752': 'ASD', 'AA665': 'ASD', 'AA663': 'ASD', 'AA713': 'ASD', 'AA658': 'Autism', 'AA684': 'Autism', 'AA708': 'ASD', 'AA714': 'Autism', 'AA835': 'Autism', 'AA740': 'Autism', 'AA783': 'ASD', 'AA755': 'Autism', 'AA702': 'Autism', 'AA801': 'Autism', 'AA685': 'Autism', 'AA738': 'Autism', 'AA736': 'Non Spectrum', 'AA744': 'Autism', 'AA775': 'Non Spectrum', 'AA781': 'ASD', 'AA750': 'Autism', 'AA732': 'ASD', 'AA849': 'ASD', 'AA757': 'ASD', 'AA816': 'ASD', 'AA792': 'ASD', 'AA893': 'Non Spectrum', 'AA823': 'ASD', 'AA829': 'Autism', 'AA896': 'Autism', 'AA890': 'ASD', 'AA877': 'Autism', 'AA842': 'ASD', 'AA856': 'ASD', 'AA908': 'Autism', 'AA848': 'Autism', 'AA859': 'ASD', 'AA855': 'Autism', 'AA874': 'Autism', 'AA861': 'Autism', 'AA899': 'ASD', 'AA905': 'ASD', 'AA880': 'ASD', 'AA892': 'Autism', 'AA894': 'Autism', 'AA903': 'Autism', 'AA922': 'ASD'}\n"
     ]
    }
   ],
   "source": [
    "# index from samples with ADIR negative and the respective ADOS result\n",
    "adir_neg_dic = {}\n",
    "for code in adir_neg:\n",
    "    adir_neg_dic[code] = df.ADOS_Sev[code]\n",
    "print(adir_neg_dic)"
   ]
  },
  {
   "cell_type": "code",
   "execution_count": 51,
   "metadata": {},
   "outputs": [],
   "source": [
    "# index from samples with ADOS negative\n",
    "ados_neg = df[(df['ADOS_Sev'] == 'Non Spectrum')].index"
   ]
  },
  {
   "cell_type": "code",
   "execution_count": 52,
   "metadata": {},
   "outputs": [
    {
     "name": "stdout",
     "output_type": "stream",
     "text": [
      "{'AA109': 'Positive', 'AA751': 'Positive', 'AA587': 'Positive', 'AA715': 'Positive', 'AA813': 'Negative', 'AA628': 'Negative', 'AA662': 'Negative', 'AA736': 'Negative', 'AA775': 'Negative', 'AA893': 'Negative', 'AA919': <NA>, 'AA886': <NA>, 'AA839': <NA>, 'AA876': 'Positive', 'AA889': <NA>, 'AA900': 'Positive', 'AA929': <NA>}\n"
     ]
    }
   ],
   "source": [
    "# index from samples with ADOS negative and the respective ADIR result\n",
    "ados_neg_dic = {}\n",
    "for code in ados_neg:\n",
    "    ados_neg_dic[code] = df.ADIR_quot[code]\n",
    "print(ados_neg_dic)"
   ]
  },
  {
   "cell_type": "code",
   "execution_count": 53,
   "metadata": {},
   "outputs": [],
   "source": [
    "# index from samples with ADIR or ADOS negative\n",
    "adir_neg_ados_neg = df[(df['ADIR_quot'] == 'Negative')&(df['ADOS_Sev'] == 'Non Spectrum')\n",
    "                       |(df['ADIR_quot'] == 'Negative')&(df['ADOS_Sev'].isnull())\n",
    "                       |(df['ADIR_quot'].isnull())&(df['ADOS_Sev'] == 'Non Spectrum')].index"
   ]
  },
  {
   "cell_type": "code",
   "execution_count": 54,
   "metadata": {},
   "outputs": [
    {
     "data": {
      "text/plain": [
       "21"
      ]
     },
     "execution_count": 54,
     "metadata": {},
     "output_type": "execute_result"
    }
   ],
   "source": [
    "# how many cases of samples with ADIR or ADOS negative\n",
    "len(adir_neg_ados_neg)"
   ]
  },
  {
   "cell_type": "code",
   "execution_count": 55,
   "metadata": {},
   "outputs": [],
   "source": [
    "# drop samples with ADIR or ADOS negative\n",
    "df.drop(adir_neg_ados_neg, inplace = True)"
   ]
  },
  {
   "cell_type": "code",
   "execution_count": 56,
   "metadata": {},
   "outputs": [],
   "source": [
    "# index of null ADOS samples\n",
    "ados_null = df[(df['ADOS_Sev'].isnull())].index"
   ]
  },
  {
   "cell_type": "code",
   "execution_count": 57,
   "metadata": {},
   "outputs": [
    {
     "data": {
      "text/plain": [
       "217"
      ]
     },
     "execution_count": 57,
     "metadata": {},
     "output_type": "execute_result"
    }
   ],
   "source": [
    "# how many cases of null ADOS samples\n",
    "len(ados_null)"
   ]
  },
  {
   "cell_type": "code",
   "execution_count": 58,
   "metadata": {},
   "outputs": [],
   "source": [
    "# index of null ADIR samples \n",
    "adir_null = df[(df['ADIR_quot'].isnull())].index"
   ]
  },
  {
   "cell_type": "code",
   "execution_count": 59,
   "metadata": {},
   "outputs": [
    {
     "data": {
      "text/plain": [
       "77"
      ]
     },
     "execution_count": 59,
     "metadata": {},
     "output_type": "execute_result"
    }
   ],
   "source": [
    "# how many cases of null ADIR samples\n",
    "len(adir_null)"
   ]
  },
  {
   "cell_type": "code",
   "execution_count": 60,
   "metadata": {},
   "outputs": [],
   "source": [
    "# index of null ADIR and ADOS samples\n",
    "adir_ados_null = df[(df['ADIR_quot'].isnull())\n",
    "                    &(df['ADOS_Sev'].isnull())].index"
   ]
  },
  {
   "cell_type": "code",
   "execution_count": 61,
   "metadata": {},
   "outputs": [
    {
     "data": {
      "text/plain": [
       "26"
      ]
     },
     "execution_count": 61,
     "metadata": {},
     "output_type": "execute_result"
    }
   ],
   "source": [
    "# how many cases of null ADIR and ADOS samples\n",
    "len(adir_ados_null)"
   ]
  },
  {
   "cell_type": "code",
   "execution_count": 62,
   "metadata": {},
   "outputs": [],
   "source": [
    "# index of positive samples for ADIR and null for ADOS\n",
    "adir_pos_ados_null = df[((df['ADIR_quot'] == 'Positive')\n",
    "                         &(df['ADOS_Sev'].isnull()))].index"
   ]
  },
  {
   "cell_type": "code",
   "execution_count": 63,
   "metadata": {},
   "outputs": [
    {
     "data": {
      "text/plain": [
       "191"
      ]
     },
     "execution_count": 63,
     "metadata": {},
     "output_type": "execute_result"
    }
   ],
   "source": [
    "# how many cases of positive samples for ADIR and null for ADOS\n",
    "len(adir_pos_ados_null)"
   ]
  },
  {
   "cell_type": "code",
   "execution_count": 64,
   "metadata": {},
   "outputs": [],
   "source": [
    "# index of positve samples for ADOS and null for ADIR\n",
    "adir_null_ados_pos = df[((df['ADIR_quot'].isnull())&(df['ADOS_Sev'] == 'Autism'))\n",
    "                        |((df['ADIR_quot'].isnull())&(df['ADOS_Sev'] == 'ASD'))].index"
   ]
  },
  {
   "cell_type": "code",
   "execution_count": 65,
   "metadata": {},
   "outputs": [
    {
     "data": {
      "text/plain": [
       "51"
      ]
     },
     "execution_count": 65,
     "metadata": {},
     "output_type": "execute_result"
    }
   ],
   "source": [
    "# how many cases of positve samples for ADOS and null for ADIR\n",
    "len(adir_null_ados_pos)"
   ]
  },
  {
   "cell_type": "code",
   "execution_count": 66,
   "metadata": {},
   "outputs": [
    {
     "data": {
      "text/plain": [
       "Counter({'Autismo1': 805,\n",
       "         'Autismoatipico': 109,\n",
       "         'Autismoduvidoso': 12,\n",
       "         'Evoluçãonãoautismo': 1,\n",
       "         'Autismo': 1})"
      ]
     },
     "execution_count": 66,
     "metadata": {},
     "output_type": "execute_result"
    }
   ],
   "source": [
    "# see values in column Main Diagnosis\n",
    "Counter(df['Main_Diagnosis'])"
   ]
  },
  {
   "cell_type": "code",
   "execution_count": 67,
   "metadata": {},
   "outputs": [],
   "source": [
    "# index of samples with Diagnostico_principal duvidoso\n",
    "main_diag_doubt = df[(df['Main_Diagnosis'] == 'Autismoduvidoso')].index"
   ]
  },
  {
   "cell_type": "code",
   "execution_count": 68,
   "metadata": {},
   "outputs": [
    {
     "name": "stdout",
     "output_type": "stream",
     "text": [
      "{'AA676': 'ASD', 'AA715': 'Non Spectrum', 'AA626': 'ASD', 'AA652': 'Autism', 'AA752': 'ASD', 'AA713': 'ASD', 'AA708': 'ASD', 'AA740': 'Autism', 'AA702': 'Autism', 'AA685': 'Autism', 'AA732': 'ASD', 'AA792': 'ASD'}\n"
     ]
    }
   ],
   "source": [
    "# index from samples with Diagnostico_principal duvidoso and the respective ADOS result\n",
    "main_diag_doubt_dic = {}\n",
    "for code in main_diag_doubt:\n",
    "    main_diag_doubt_dic[code] = df.ADOS_Sev[code]\n",
    "print(main_diag_doubt_dic)"
   ]
  },
  {
   "cell_type": "code",
   "execution_count": 69,
   "metadata": {},
   "outputs": [
    {
     "name": "stdout",
     "output_type": "stream",
     "text": [
      "{'AA676': 'Negative', 'AA715': 'Positive', 'AA626': 'Negative', 'AA652': 'Negative', 'AA752': 'Negative', 'AA713': 'Negative', 'AA708': 'Negative', 'AA740': 'Negative', 'AA702': 'Negative', 'AA685': 'Negative', 'AA732': 'Negative', 'AA792': 'Negative'}\n"
     ]
    }
   ],
   "source": [
    "# index from samples with Diagnostico_principal duvidoso and the respective ADIR result\n",
    "main_diag_doubt_dic = {}\n",
    "for code in main_diag_doubt:\n",
    "    main_diag_doubt_dic[code] = df.ADIR_quot[code]\n",
    "print(main_diag_doubt_dic)"
   ]
  },
  {
   "cell_type": "code",
   "execution_count": 70,
   "metadata": {},
   "outputs": [
    {
     "data": {
      "text/plain": [
       "928"
      ]
     },
     "execution_count": 70,
     "metadata": {},
     "output_type": "execute_result"
    }
   ],
   "source": [
    "len(df)"
   ]
  },
  {
   "cell_type": "markdown",
   "metadata": {},
   "source": [
    "### Exclusion of Samples with Altered Karyotype and FRAXE/FRAXE Results"
   ]
  },
  {
   "cell_type": "markdown",
   "metadata": {},
   "source": [
    "#### Karyotype"
   ]
  },
  {
   "cell_type": "code",
   "execution_count": 71,
   "metadata": {},
   "outputs": [
    {
     "data": {
      "text/plain": [
       "array(['Normal ',\n",
       "       'Cariótipo alterado_x001D_FISH cr15-N_x001D_CMV gain ANXA1',\n",
       "       'Normal _x001D_Fish 16 N / Fish cr 15 N',\n",
       "       'Normal _x001D_FISH cr15-N',\n",
       "       'Normal _x001D_FISH cr15 e subteloméricas -N',\n",
       "       'Normal _x001D_FISH cr15-N_x001D_Pack Autism  kit P343 (ch15,16,22) e P245 (Microdeletion S) - N  _x001D_Subtelomericas - N',\n",
       "       'Normal _x001D_Pack Autism  kit P343 (ch15,16,22) e P245 (Microdeletion S) - N  _x001D_Subtelomericas - N',\n",
       "       'alterado_x001D_47xyy, 45x', 'alterado_x001D_FISH cr15 alterado',\n",
       "       'Normal _x001D_MLPA cr15 e subteloméricas - N',\n",
       "       'Cariótipo normal ', nan, 'Normal _x001D_MLPA cr15 - N',\n",
       "       'Normal _x001D_subteloméricas e FISH cr15 - N',\n",
       "       'Normal _x001D_FISH cr15-N_x001D_Array CGH- N (46,XX.arr(1-22,)x2(,XX)x1',\n",
       "       'Array CGH alterado_x001D_FISH cr15-N_x001D_KCNQ3 gene on chromosome 8q24 encoding the voltage-gated potassium channel KV7.3 subunit ',\n",
       "       'FISH cr15-N normal_x001D_subteloméricas-N',\n",
       "       'Array CGH alterado_x001D_6q26 loss mat Park2_x000B_',\n",
       "       'Normal _x001D_FISH cr15-N_x001D_CNV AGP',\n",
       "       'Normal _x001D_FISH cr15-N_x001D_genes TSC1 e TSC2 ( esclerose tuberosa)- N',\n",
       "       'Normal _x001D_Array CGH- N (46,XY.arr(1-22,)x2,(XY)x1',\n",
       "       ' alterado_x001D_duplicação cr 5',\n",
       "       '46xy - normal_x001D_FISH cr15-N',\n",
       "       'aguarda_x001D_Não foi possivel completar o estudo por baixo indice mitotico.  ',\n",
       "       'alt cr 9 alterado_x001D_S 9p-',\n",
       "       'FISH cr15-N normal_x001D_Regiões subteloméricas-N_x001D_Cariótipo alterado_x001D_Array CGH alterado',\n",
       "       'Normal _x001D_FISH cr15 e MPLA cr15 - N',\n",
       "       'alterado_x001D_Pack Autism  kit P343 (ch15,16,22) e P245 (Microdeletion S) - N  _x001D_start 21788416- end22351124_x000B_Loss size 562709 bp pat_x000B_16p12.1 microdeletion associated with childhood developmental delay_x000B_EEF2K,C16orf65,CDR2,POLR3E,C16orf52,UQCRC2,VWA3A',\n",
       "       'Normal _x001D_pesquisada locus elastina cr 7-normal',\n",
       "       'FISH cr15-N_x001D_Normal ',\n",
       "       'Normal _x001D_FISH cr15-N_x001D_16p13',\n",
       "       'Normal _x001D_46,XY,3qh+ (igual à mãe) polimorfismo?_x001D_Array CGH alterado_x001D_6q26 loss mat Park2',\n",
       "       'Normal _x001D_subteloméricase, MPLA e MPLA cr15 -N',\n",
       "       'Normal _x001D_46xy',\n",
       "       'Normal _x001D_Pack Autism kit P343 (ch15,16,22) e P245 (Microdeletion S)_x001D_Subtelomericas',\n",
       "       'Normal _x001D_FISH cr15-N_x001D_Array CGH- N (46,XY.arr(1-22,)x2,(XY)x1',\n",
       "       'FISH cr15-N_x001D_Pack Autismo kit P343 (ch15,16,22) e P245 (Microdeletion S) - alterado_x001D_arraymlpa15q13.2-15q13.3loss_x001D_mlpa15q13.2-q13.3(MTMR15,TRPM1,KLF13,CHRNA7)x1pat_x000B__x000B_deleção de 1.3 Mb envolvendo os genes MTMR15,TRPM1,KLF13,CHRNA7 de origem paterna',\n",
       "       'Normal _x001D_FISH cr15-N_x001D_Array CGH alterado',\n",
       "       'Normal _x001D_FISH cr15-N_x001D_6q26 loss pat Park2_x001D_Array CGH alterado',\n",
       "       'Cariótipo normal _x001D_FISH cr15-N',\n",
       "       'Array CGH alterado_x001D_arr(19hg)12q24.12q24.13(112,164,081-112,303,168)x3; 139kb; ACAD19. ALDH2, MAPKAPK% classe IIIA',\n",
       "       'alterado_x001D_FISH cr15 alterado_x001D_ 46,xx, dup (15)q11q13.ishdup(15)(q11.2q11.2)_x001D_dup R proximal cr 15',\n",
       "       'Cariótipo normal _x001D_Pack Autism  kit P343 (ch15,16,22) e P245 (Microdeletion S) - N  _x001D_Subtelomericas - N',\n",
       "       \"Cariótipo alterado_x001D_trissomia parcial 6qter_x001D_10 Mb duplication 6q25.3-q27, de novo, 46,XX.ish der(22)t(6;22)(6q25.3;p11.2)pat(6qtel+)10 Mb duplication 6q25.3-q27, de novo, identified with SNP array. High resolution karyotype was normal; subtelomere FISH analysis revealed a 6q terminal duplication arising from a paternal balanced translocation, 46,XY, t(6;22)(q25.3;p11.2). The father is healthy. The patient's karyotype is: 46,XX.ish der(22)t(6;22)(6q25.3;p11.2)pat(6qtel+)_x000B_\",\n",
       "       'alterado_x001D_FISH cr15-N_x001D_Pack Autismo kit P343 (ch15,16,22) e P245 (Microdeletion S) - alterado_x001D_mlpa 22 q11.21(ZNF74,KLHL22,MED15P,SNAP29,LZTR1) x3mat 604Kb',\n",
       "       'Normal _x001D_FISH cr15-N_x001D_16p13.11 microdeletion syndrome_x000B_',\n",
       "       'Normal _x001D_FISH cr15-N_x001D_MLPA cr15 - N',\n",
       "       'Array CGH alterado_x001D_Estudar pais',\n",
       "       'Normal _x001D_FISH cr15-N_x001D_Array CGH alterado_x001D_SHANK3 deletion in patient 14291_4120, involving exons 9-13 (chr22:49468716-49485255, hg18). SHANK3 exonic deletion, de novo (exons 9-13)',\n",
       "       'Normal _x001D_FISH cr15-N_x001D_Array CGH alterado interpretação duvidosa_x001D_Del 18q23 (18q23 loss (72085223-73670156); 1584934: GALR1,LOC284276,MBP,ZNF236,ZNF516,',\n",
       "       'Cariótipo alterado_x001D_FISH cr15-N_x001D_CNV AGP',\n",
       "       'Cariótipo normal _x001D_Normal _x001D__x001D_Array CGH- N (46,XY.arr(1-22,)x2,(XY)x1',\n",
       "       'Normal _x001D_FISH cr15 e c22 - N',\n",
       "       'Normal _x001D_FISH cr15-N_x001D_Subtelomericas - N',\n",
       "       'Normal _x001D_FISH cr15-N_x001D_Array CGH alterado_x001D_6q26 loss mat Park2',\n",
       "       'Normal _x001D_FISH cr15 q11-13 - N',\n",
       "       'Normal _x001D_MLPAcr15 - N_x001D_Array CGH alterado_x001D_6q26 loss mat ParK2',\n",
       "       'Normal _x001D_MLPA cr15 - N_x001D_16p13.11 microdeletion, maternal_x000B_',\n",
       "       'Normal _x001D_FISH cr15 e subteloméricas-N',\n",
       "       'Subtelomericas - N_x001D_Pack Autism  kit P343 (ch15,16,22) e P245 (Microdeletion S) - N  _x001D_Cariótipo normal ',\n",
       "       'Normal _x001D_FISH cr15-N_x001D_SMARCB1 (Coffin-Siris syndrome) duplication, significance unknown',\n",
       "       'Normal _x001D_Array CGH- N (46,XX.arr(1-22,)x2(,XX)x1',\n",
       "       'Cariótipo normal _x001D_MLPA cr15 - N',\n",
       "       'Normal _x001D_MLPA cr15 - N_x001D_Pack Autism  kit P343 (ch15,16,22) e P245 (Microdeletion S) - N  _x001D_Subtelomericas - N',\n",
       "       'Normal _x001D_Pack Autism  kit P343 (ch15,16,22) e P245 (Microdeletion S) - N  ',\n",
       "       'Array CGH- N (46,XX.arr(1-22,)x2(,XX)x1',\n",
       "       'FISH cr 22 - N_x001D_FISH cr15-N_x001D_Cariótipo normal ',\n",
       "       'repetir - não cultivou_x001D_Pack Autism  kit P343 (ch15,16,22) e P245 (Microdeletion S) - N  ',\n",
       "       'Cariótipo normal _x001D_MLPA cr15 e subteloméricas - N',\n",
       "       'Cariótipo normal _x001D_Pack Autism  kit P343 (ch15,16,22) e P245 (Microdeletion S) - N  ',\n",
       "       'Pack Autism  kit P343 (ch15,16,22) e P245 (Microdeletion S) - N  _x001D_Cariótipo normal _x001D_Subtelomericas - N',\n",
       "       'Array CGH- N (46,XY.arr(1-22,)x2,(XY)x1',\n",
       "       'Array CGH alterado_x001D_arr(hg19)7q35(164,213,130-146,294,787)x1; 81Kb; 1 gene OMIM Morbid Map (OMIM ID:604569-CNTNAP2), CLASSE II_x001D_Pais a ser estudados sangue pedido INSA mãe sem CNV, pai não colheu ',\n",
       "       'Subtelomericas - N_x001D_Pack Autism  kit P343 (ch15,16,22) e P245 (Microdeletion S) - N  ',\n",
       "       'Normal _x001D_FISH cr15 e MPLA -N_x001D_AGParrayalterado',\n",
       "       'Cariótipo normal _x001D_Subtelomericas - N_x001D_Pack Autism  kit P343 (ch15,16,22) e P245 (Microdeletion S) - N  ',\n",
       "       'Cariótipo normal _x001D_MLPA cr15 - N_x001D_Subtelomericas - N',\n",
       "       'Normal _x001D_MPLA sem DNA - repetir',\n",
       "       'Cariótipo alterado_x001D_47,XY,+mar.ish der(13/21)(D13Z1/D21Z1+)mat ',\n",
       "       'Subtelomericas - N_x001D_Pack Autism  kit P343 (ch15,16,22) e P245 (Microdeletion S) - N  _x001D_Cariótipo normal _x001D_Array CGH alterado_x000B_delecção 16p13.11  não patogenica',\n",
       "       '_x001D_subteloméricas - N',\n",
       "       'Pack Autism  kit P343 (ch15,16,22) e P245 (Microdeletion S) - N  _x001D_MLPA cr15 - N_x001D_Subtelomericas - N',\n",
       "       'Cariótipo normal _x001D_Pack Autismo kit P343 (ch15,16,22) e P245 (Microdeletion S) - alterado_x001D_mlpa22q13.33 (SHANK3,ACR,RABL2B) x3',\n",
       "       'alterado_x001D_MLPA cr15 del 15 (q11-q13) loci NIPA1 e TUBGCP5X1mat',\n",
       "       'Array CGH alterado interpretação duvidosa_x001D_dup 8 (p21.1) entre posições nucleotidicas 27,727,852  e 27,910,672, extensão 182Kb( não confirmada por outra técnica) que envolve 3 genes , 1 descrito na base de dados OMIM (OMIM ID:611306-SCARA 5) dn',\n",
       "       'Pack Autism  kit P343 (ch15,16,22) e P245 (Microdeletion S) - N  _x001D_Subtelomericas - N_x001D_Cariótipo normal ',\n",
       "       'Cariótipo normal _x001D_Pack Autism  kit P343 (ch15,16,22) e P245 (Microdeletion S) - N  _x001D__x001D_Subtelomericas - N',\n",
       "       'Array CGH alterado_x001D_arr(hg19)20p12.3(6.317.254-8.575520)x3_x001D_Origem materna',\n",
       "       'Pack Autism  kit P343 (ch15,16,22) e P245 (Microdeletion S) - N  _x001D_Subtelomericas - N_x001D_Cariótipo normal _x001D_Array CGH FCT 2012',\n",
       "       'Array CGH alterado_x001D_ACGH- CNVdel XP11.21 - 3kb-  posições nucleotidicas 54,927,062-54,964417.  (OMIM ID-300132-TRO, 311790-PFKFB1), IIIA.',\n",
       "       'Array CGH alterado_x001D_4q13.3(74,140,055-75,725,163)x3, 1,5Mb, 20 genes, 2 OMIM ID: 103600-ALB, 104150-AFP) , II',\n",
       "       'Array CGH alterado_x001D_deleção no braço curto do_x000B_cromossoma 1(p33), correspondendo a uma extensão de aproximadamente 234 Kb e envolvendo uma_x000B_porção intragénica do gene AGBL4. A análise revelou ainda 2 duplicações no cromossoma 2 (q33.1). Uma_x000B_numa extensão de aproximadamente 138 Kb envolvendo o gene GTF3C3 e o gene PGAP1. Outra duplicação_x000B_numa extensão de aproximadamente 140 Kb , envolvendo o gene ANKRD44. Estas alterações não foram_x000B_consideradas patogénicas por serem alterações de origem paterna e até a data, e de acordo com os dados_x000B_da literatura e das diferentes bases de dados consultadas, estas alterações não estão reportadas como_x000B_estando associadas ao fenótipo da Sara Catarina.',\n",
       "       'Cariótipo normal _x001D_FISH cr15-N_x001D_Pack Autism  kit P343 (ch15,16,22) e P245 (Microdeletion S) - N  _x001D_Subtelomericas - N',\n",
       "       'Subtelomericas - N_x001D_Pack Autism  kit P343 (ch15,16,22) e P245 (Microdeletion S) - N  _x001D_Array CGH alterado_x001D_ deleção 11q24.3 (l 128726448-128741769)  parte do gene KCNJ1, associado a Bartter síndrome tipo 2. O significado desta deleção deve ser interpretado em contexto clínico, podendo constituir um diagnóstico etiológico. Sugere-se pesquisa da alteração nos pais para interpretação mais clara do resultado.    ',\n",
       "       'Array CGH- N (46,XY.arr(1-22,)x2,(XY)x1_x001D_Subtelomericas - N_x001D_Pack Autism  kit P343 (ch15,16,22) e P245 (Microdeletion S) - N  ',\n",
       "       'Pack Autism  kit P343 (ch15,16,22) e P245 (Microdeletion S) - N  _x001D_Subtelomericas - N_x001D_Cariótipo normal _x001D_Array CGH alterado_x000B_aCGH: 46,XY.arr 3q13.31(114,569,742-115,868,436)x1 dn -> que corresponde a uma delecção no braço longo do cromossoma 3(q13.31) entre as posições nucleotídicas 114,569,742 e 115,868,436 de aproximadamente 1,3Mb, envolvendo 3 genes descritos na base de dados OMIM (OMIM ID: ZBTB20 - 606025, GAP43 - 12060, LSAMP - 603241). ',\n",
       "       'Cariótipo normal _x001D_Subtelomericas - N_x001D_Array CGH FCT 2012_x001D_Pack Autism  kit P343 (ch15,16,22) e P245 (Microdeletion S) - N  ',\n",
       "       'Array CGH alterado_x001D_arr(hg19)13q34(113,779,833-113,899,252)x3;119Kb, 4 gene OMIM ID: 613872-F10,176895-PROZ,613713-PCID2, 603137-CUL4A)  e 2 genes OMIM morbid Map (OMIM ID: 613872-F10, 176895-PROZ) CLASSE II_x000B_e_x000B_15q13.2 (30,921,917 e 31,077,833), 155Kb, 2 genes (ARHGAP11B e LOC100288637 reportada em individuos normais na DGV._x000B__x000B_CLASSE IIIA_x000B__x001D_Pais a ser estudados sangue pedido INSA_x001D_Avisar pai e mãe',\n",
       "       'Cariótipo normal _x001D_Pack Autism  kit P343 (ch15,16,22) e P245 (Microdeletion S) - N  _x001D_Subtelomericas - N_x001D_Array CGH FCT 2012',\n",
       "       'Array CGH alterado_x001D_Arr(hg19)_x000B_3p14.2(60,445,746-60,487,020)x1;41kb_x000B_E_x000B_13q12.11(20,339,905-20,559,032)x3, 219Kb.Gene FHIT, OMIM:601153; classe II._x000B_E _x000B_3 genes , 2 OMIM: 612408-pspc1; 602221-zmym2) classe IIIA_x000B_ _x000B__x001D_Pais a ser estudados sangue pedido INSA',\n",
       "       'Pack Autism  kit P343 (ch15,16,22) e P245 (Microdeletion S) - N  _x001D_Subtelomericas - N_x001D__x001D_array CGH [46,XY.arr 6p21.32(32,679,008-32,908,075)x1 dn',\n",
       "       'Pack Autism  kit P343 (ch15,16,22) e P245 (Microdeletion S) - N  _x001D_Subtelomericas - N_x001D_Array CGH FCT 2012',\n",
       "       'Cariótipo normal _x001D_Array CGH- N (46,XY.arr(1-22,)x2,(XY)x1',\n",
       "       'Cariótipo normal _x001D_Pack Autism  kit P343 (ch15,16,22) e P245 (Microdeletion S) - N  _x001D_Array CGH- N (46,XY.arr(1-22,)x2,(XY)x1',\n",
       "       'Array CGH alterado_x001D_Subtelomericas - N Pack Autism  kit P343 (ch15,16,22) e P245 (Microdeletion S) - N _x001D_del 22 (q11.22) mat_x000B_ _x001D_22q11.22 (localização 22313128 - 22556733 pb) que engloba parte da sequência do gene TOP3B. A deleção inclui-se numa região cromossómica associada a síndrome de deleção 22q11 (síndrome velocardiofacial/ DiGeorge) e síndrome de duplicação 22q11. O gene TOP3B tem sido descrito associado a autismo, défice intelectual e dismorfismos e problemas de comportamento. A proteína codificada pelo gene TOP3B interage com a FMRP, alterada na síndrome de X frágil. Alterações no cromossoma 22q11.22 estão descritas raramente em bases de dados de populações controlo (DGV e AGP). Esta alteração poderá constituir um diagnóstico etiológico, e a pesquisa destas alterações nos pais poderá contribuir para uma interpretação mais clara do resultado. ',\n",
       "       'Array CGH alterado_x001D_8p23.1, (7,074,585-8,079,920-7579847-7618132pb) x3 inserida na região descrita para a S de duplicação 8p23. Confirmar por outros métodos. 17q21.31(44,399,456-44,717,962), inserida na região descrita para a S de microduplicação 17q21.31 (S Koolen de Vries) - a deleção não incluiu o gene KANSL1 que se pensa ser responsável pela S.  interpretação não conclusiva.',\n",
       "       'Array CGH FCT 2012',\n",
       "       'Cariótipo normal _x001D_Subtelomericas - N_x001D_Pack Autism  kit P343 (ch15,16,22) e P245 (Microdeletion S) - N  _x001D_Array CGH FCT 2012',\n",
       "       'MLPA cr15 - N',\n",
       "       'Cariótipo normal _x001D_Pack Autism  kit P343 (ch15,16,22) e P245 (Microdeletion S) - N  _x001D_Pack Autism  kit P343 (ch15,16,22) e P245 (Microdeletion S) - N  _x001D_Subtelomericas - N',\n",
       "       'Array CGH alterado interpretação duvidosa_x001D_Array CGH-180K- 3 dup regiões baixa frequencia de CNVs em duplicação reportadas em individuos normais na Database of genomic Variants:_x000B_x(p22.33)(393,089-822,429)x2;y(p11.32)(343,089-772,429)x2, 429kb, gene SHOX(OMIM ID:400020) - significado clinico incerto._x000B_3(q29)(195,539,700-196,562,814)x2,24kb, gene PAK2, OMIM ID:605022_x000B_7(q11.21)(65,405,820-65,515,822),110kb, 2 genes OMIM ID: 608838-VKORC1L1 e 611499-GUSB) o GUSB na mOrbid Map está associado a mucopolissacaridose.Classe IIIA',\n",
       "       'Array CGH',\n",
       "       'Array CGH alterado interpretação duvidosa_x001D_del12(p12.3), (16,349,455-16,688,106) 338Kb, 2 genes , 1 OMIMID:138330 IIIA',\n",
       "       'Array CGH alterado interpretação duvidosa_x001D_ arr 5p15.1 (6,119,482 - 16,248,563)(CNVGain 5(p15.1) x 316,119,482 - 16,248,563 129 Kb  gene MARCH11 classe II',\n",
       "       '_x001D_Pack Autism  kit P343 (ch15,16,22) e P245 (Microdeletion S) - N  _x001D_Subtelomericas - N_x001D_Array CGH FCT 2012',\n",
       "       'Pack Autism  kit P343 (ch15,16,22) e P245 (Microdeletion S) - N  _x001D_Subtelomericas - N_x001D_Array CGH alterado interpretação duvidosa_x001D_8p21.3x3mat, 22,210,096-22,370,282, 160Kb, 3 genes OMIM ID: 610312-PIWIL2, 608736-SCL39A14, 114107-PPP3CC, IIIA',\n",
       "       'Cariótipo normal _x001D_Pack Autism  kit P343 (ch15,16,22) e P245 (Microdeletion S) - N  _x001D_Regiões subteloméricas-N_x001D_Array CGH FCT 2012',\n",
       "       'Array CGH alterado interpretação duvidosa_x001D_1q21-21.2x3_x001D_arr(hg19)1q21.1q21.2(145,896,277-148,809,863)x3dn_x001D_dn',\n",
       "       'Array CGH alterado interpretação duvidosa_x001D_arr(1-22)x2, (XY)x1; dup21(q22.3), 43,969,027-44, 230, 615, 261Kb. 2 genes, , OMIM ID: 608094, PDE9A-602973, região baixa freq CNVS em ind normais. Classe IIIA.Mat',\n",
       "       'Array CGH alterado_x001D_16p11.2,x1,28,824,794-29,044,776,219kb,12 genes, atxn2l,tufm,sh2b1,atp2a1,rabep2,cd19,nfatc2ip,spns1,lat,tufm,atp2a1,cd19,II',\n",
       "       'Array CGH alterado_x001D_arr(hg19)6p21.1(45,159,504-45,273,428)x1 mat113Kb 2 genes um decsrito base OMIM (OMIM ID:602947) classe II_x001D_Pais estudados sangue veio INSA',\n",
       "       'Array CGH alterado_x001D_22q11.21 (localização 18661724 - 19010508 pb) sobreponível com a região associada a síndrome de deleção 22q11 (síndrome velocardiofacial/DiGeorge) e síndrome de duplicação 22q11. genes gene DGCR10 e os genes GGT3P, DGCR6, PRODH, DGCR5, DGCR9_x001D_NOVA REINTERPRETAÇAO  NORMAL',\n",
       "       'Cariótipo normal _x001D_Pack Autism  kit P343 (ch15,16,22) e P245 (Microdeletion S) - N  _x001D_Array CGH alterado interpretação duvidosa_x001D_deleção braço longo cromossoma 19 (q13.31) 44,419,139-44,490,601, 71 Kb III A',\n",
       "       'Array CGH alterado_x001D_CGH com 180K - 2(p16.1) (55,432,617-55,550,125)x3117Kb, 6 genes, 3 OMIM ID: 191343-RPS27A; 603766-MTIF2;609736-CCDC88A), mat.',\n",
       "       'Array CGH alterado interpretação duvidosa_x001D_3p14.1(60,941,845-61,011,222)x1; 69Kb, 1 gene OMIM-FHIT e 8q11.23(53,276,957-53,607,735)x3; 330Kb;3 genes , 1 OMIM morbid map(rb1cc1),IIIA, pat_x001D__x001D_Pai portador',\n",
       "       'Cariótipo normal _x001D_Array CGH alterado_x001D_Xp22.31 gain  22q11.21 gain pat_x001D_arr[hg19]_x000B_Xp22.31(6,453,313-8,115,153)x2,22q11.21(19,317,114-19,319,816)x3], que identificou uma duplicação de_x000B_aproximadamente 1,6Mb no braço curto do cromossoma X(p22.31), que envolve cerca de 6 genes, 4 dos_x000B_quais descritos na base OMIM e 1 na OMIM Morbid Map (gene STS) e uma duplicação de aproximadamente_x000B_2Kb no braço longo do cromossoma 22(q11.21), que envolve 1 gene descrito na base OMIM (gene HIRA). O_x000B_estudo dos progenitores, cujo resultado consta em relatório próprio, permitiu concluir que a duplicação no_x000B_cromossoma X(p22.31) e a duplicação no cromossoma 22(q11.21) foram herdadas',\n",
       "       'Array CGH alterado_x001D_46, XY, array del 4p16.2 (gene STK32B)_x001D_arr(hg19)4p16.2(5,131,230-5,310,322)x1, 179Kb, gene stk32b, CLASSE II._x001D_Pais a ser estudados sangue pedido INSA',\n",
       "       'Array CGH alterado_x001D_del braço curto cromossoma X ( p11.23)(47,330,212-47,335,227)x0_x001D_arr(hg19)xp11.23(47,3330-47,335,227)x0mat; 5kb, gene ZNF41, OMIM Morbid Map- 314995, associado atraso mental ligado ao X, classe II_x001D_materna',\n",
       "       'Array CGH alterado_x001D_arr(hg19) 4q26(119,265,105-119,324,440)x1; 59kb; exão, e intrão gene prss12; classe IIIA_x000B_ de novo_x000B_deleção no cromossoma 15q13.3 (chr:32462642-32615660) sobreponível com a região do síndrome de microdeleção 15q13.3 anteriormente reportado em associação com um quadro de deficiência intelectual e PEA; a deleção inclui sequências dos genes ARHGAP11 e GOLGA8N._x001D_de novo',\n",
       "       'Array CGH- N (46,XY.arr(1-22,)x2,(XY)x1_x001D_Cariótipo normal ',\n",
       "       'Array CGH alterado interpretação duvidosa_x001D_del15(q13.2)30,652,489-31,089,985, 437Kb, envolve 5 genes m, OMIMID: 609756-CHRFAM7A III A_x001D_origem materna_x001D_CHRFAM7A',\n",
       "       'Array CGH FCT 2012_x001D_avisar pais ruisonia1977@hotmail.com',\n",
       "       'Array CGH alterado interpretação duvidosa_x001D_ Arr[hg19 ]9p24.2(2711186-27904189)x1 pat;79Kb, IIIA, gene OMIM Morbid Map KCNV2 _x001D_Pais estudados sangue veio INSA',\n",
       "       'Array CGH- N (46,XX.arr(1-22,)x2(,XX)x1_x001D__x001D__x001D_Repetições trinucleótido CGG - lelo 28 e alelo com 48. Alelo intermedio do gene FMR1 - maior freq de alelos intermedios em individuos com defice intelectual e autismo (Aziz et al, Am J Med Genet B, 2003,121:119-127), outros são de opinião contraria (Madrigal e al,Eur J Hum Genet 2011,19:921-923)',\n",
       "       'Array CGH alterado_x001D_arr(hg19)14q31.1(79355630-79495634)x1 pat',\n",
       "       'Array CGH alterado interpretação duvidosa_x001D_Arr[hg19 ]_x000B_16(q23.2) 81,244,958 -81,285,370)x1; - 40kborigem pat  III_x000B_A_x000B_IIIA, 2  genes OMIM: PKD1L2   BCMO1 _x000B__x001D_Arr[hg19 ]_x000B_16(q23.2) 81,244,958 -81,285,370)x1; - 40kborigem pat  III_x000B_A_x000B_IIIA, 2  genes OMIM: PKD1L2   BCMO1  paterno',\n",
       "       'Array CGH alterado_x001D_Arr(hg19)11p11.2-12 (47858424-49157287)x3;1.3Mb_x000B_E _x000B_9q21.13(75528992-76149642)x3, 620Kb. Pat II _x000B__x001D_11 genes, 2 OMIM- 607614- nup160; 600925-ptprj; 1 gene OMIM morbid Map-600925-ptprj_x000B_E 9q21.13(75528992-76149642)x3_x000B_2 genes OMIM 100640 aldh1A1 e 151690-ANXA1, pat_x000B__x001D_ ',\n",
       "       'Array CGH alterado interpretação duvidosa_x001D_9q33.1(119484432-119527383)x1;43Kb, 1 gene OMIM 612856-ASTN2, classe IIIA_x001D_pat_x001D_Considera-se que a alteração no cromossomas 9q33.1 constituirá um possível diagnóstico etiológico. A pesquisa da alteração desta alteração nos pais mostrou uma herança paterna desta deleção.',\n",
       "       'Array CGH alterado interpretação duvidosa_x001D_dup8(q22.1q22.2) x2; 98,883,135-99,078,510); 195 Kb; genes OMIM ID: MATN2-602108, RPL30) IIIA origem paterna_x001D_origem paterna_x001D_significado duvidoso. Não reportado como causa do fenotipo',\n",
       "       'Array CGH alterado interpretação duvidosa_x001D_Arr(hg19)1p23.1 (158,530,023-158,885,029)x1; 355Kb; 10 genes 2 OMIM(spta1 e mnda), 1 OMIM Morbid Map (spta1), IIIA pat_x001D_ ',\n",
       "       'Array CGH FCT 2012_x001D_1q44( (localização 245822574- 245915490 pb) x3 mat; 1q44_x001D_Array CGH alterado_x001D_del 1q43q44; dup 1q44 (localização 245822574- 245915490 pb)  genes KIF26B  SMYD3; dup 1q44 (localização 246365605- 246811220 pb)   genes SMYD3, TFB2M e CNST; del1q44 (localização 248727929- 248785562 pb)   genes OR2T34 e OR2T10.  Gene OR2T10 - lista de genes candidatos para autismo da SFARI  O gene SMYD3  sugerido como responsável por microcefalia no síndrome de microdeleção 1q43q44. _x000B_Dup 10q21.1 (localização 56452411-56468820 pb)   gene PCDH15 (16Kb) -  associado a surdez não sindrómica e síndrome de Usher, pat. Del_x000B_13q21.2 (localização 60439304 - 60683942 pb)  gene DIAPH3. mat._x000B_Dup _x000B_11q24.3 (localização 128726448-128741769)   gene CLCNKB, associado a Bartter síndrome clássico.',\n",
       "       'Array CGH FCT 2012_x001D_Array CGH alterado_x001D_del  22q11.22 (localização 22313128 - 22556733 pb)  gene TOP3B. A duplicação  associado síndrome deleção 22q11 (síndrome velocardiofacial/ DiGeorge) síndrome de duplicação 22q11. O gene TOP3B tem sido descrito associado a autismo, défice intelectual e dismorfismos e problemas de comportamento. A proteína codificada pelo gene TOP3B interage com a FMRP, alterada na síndrome de X frágil. Alterações no cromossoma 22q11.22 estão descritas raramente em bases de dados de populações controlo (DGV e AGP). Esta alteração poderá constituir um diagnóstico etiológico.._x000B_Gain 10q21.1 (localização 56452411-56468820 pb)  gene PCDH15. O gene PCDH15  associado a surdez não sindrómica e síndrome de Usher. _x000B_dup 8p23.1 (localização 7239491-8094773) _x001D_2 triplicações 10(q21.1 e 22q11.22 significado clinico desconhecido pat',\n",
       "       'Array CGH alterado interpretação duvidosa_x001D_arr(1-22)x2(XY)x1 9p24.3, 204 104-459076)x3; 254Kb, 2 genes, 1 OMIM Mornid Map-611432-DOCK8._x000B_Classe III A, pat_x001D_Genomics. 2008 February ; 91(2): 195–202._x001D_Disease exome by CGC geneticas -N',\n",
       "       'Array CGH alterado_x001D_Xp22.33q28 dup start 60701 - end154668354 (dimensão 154607654 pb) classe I_x001D_pais N',\n",
       "       'Array CGH alterado_x001D_arrhg19Xp21.2(30,875,237-31,069,736)x2, 194kb, gene TAB3 (OMIM ID-300480) mat_x001D__x001D_gene PTEN-N',\n",
       "       'Array CGH alterado_x001D_arr(ag19)10q11.22q11.23(49,390,075-52,432,990)x3; 3Mb; 33 genes, 14 OMIM_x000B_(613323-frmpd2, 601158-mapk8, 610585-arhgap22,613316-wdfy4,606701-drgx,609413-ercc6,118490-chat,60336-slc18a3,603501-parg, 157145-msmb, 601984-ncoa4,605034-timm23,611202-asah2,611573-sgms1) e 4 genes OMIM Morbid map (609413-ercc6, 118490-chat,157145-msmb, 601984-ncoa4), CLASSE II_x000B__x001D_origem materna',\n",
       "       'Array CGH alterado_x001D_13(q12.11)(20,246,074-20,482,767)x2, 236Kb, 3 genes, 2 OMIM-MPHOSPH8 , PSPC1), classe IIIA',\n",
       "       'Array CGH FCT 2012_x001D_Array CGH- N (46,XY.arr(1-22,)x2,(XY)x1',\n",
       "       'Array CGH alterado_x001D_16 p11.2 (34482042-347277349)x3,  locus gene LOC283914- alterações nesta região estão associadas a S microdeleção e microduplicação 16p11.2-p12.2. interpretação não conclusiva._x000B_5q13.2 (69426248-70613301)x1, engloba SMN1 e SMN2. SMN1em homozigotia está associado a atrofia espinhal anterior  ',\n",
       "       'Cariótipo normal _x001D_Array CGH alterado_x001D_arr(hg19)11q12.1(57088569-57578.850) x3classe II de novo_x000B_15q11.2(22.765,628 e 22,873,747)x3 108Kb gene tubgcp5 - 608147 mat_x001D_cr 11 de novo cr 15 mat',\n",
       "       'Array CGH alterado_x001D_arr(hg19) 15q11.2(22,765,628-23,300,287)x1, 534kb, 8 genes, 4 OMIM(tubgcp5,cyfip1,nipa2,nipa1) CLASSE II_x001D_Pais a ser estudados sangue pedido INSA',\n",
       "       'Cariótipo normal _x001D_Array CGH_x000B_Consulta Genética_x001D_Array CGH- N (46,XY.arr(1-22,)x2,(XY)x1',\n",
       "       'Array CGH alterado interpretação duvidosa_x001D_arr(1-22)x2(XY)x1_x001D_dup região pseudo autossomica do braço curto do cr x(p22.33) gene SHOX OMIM ID:312865 significado incerto, classe IIIA. Mat_x001D_ ',\n",
       "       'Array CGH alterado_x001D_Arr[hg19 ]_x000B_11p15.5 (1126807-11448989)X3;322KB_x000B_E_x000B_15q21.3(58424052-58483661)x1-Mat_x000B__x001D_ ',\n",
       "       'Array CGH alterado_x001D_Arr(hg19)9p24.3(229,198-500,584)x1;271Kb; 2 genes, OMIM MOrbid Map DOCK8 e KANK1_x000B_3q29(196,058,185-196,650,399)x1; 592Kb, 12 genes; 8 OMIM _x000B_(rnf168,wdr53,fbx045,nrros,cep19, pigx,pak2,senp5) 1OMIM morbid map (rnf168) IIIA.Mat_x000B_',\n",
       "       'Array CGH alterado_x001D_Xq26.2(132983366-133023226) 39Kb, 1 gene OMIM morbid map 300037-GPC3, classe II',\n",
       "       'Array CGH_x001D_Sem alteraçoes de significado clínico',\n",
       "       'Array CGH alterado_x001D_A-arr(h19)21q21.1(18,758,577-19,106,7709X3, 349kB, 3 GENES, 2 omim:602621-cxadr,605674-btg3)_x000B_B-3q28(191,931,840-192,021,105;86Kb, gene FGF12OMIN601513_x000B_C-20p12.3(5449902-5688939), 239Kb, 3 genes, 1 OMIM:614124-CPCPD1._x000B__x000B__x001D_Pais a ser estudados sangue pedido INSA',\n",
       "       'Array CGH alterado_x001D_13q21.2x1,60,524,322-60,706,32413,182kb,geneDIAPH3,II ; xq21.2q21.31,85,923,471-86,257,677,334kb,DACH2, II; 16p13.3,7,017,522-7,046,219,28kb,gene RBFOX1-A2BP1,III_x001D_estudar pais',\n",
       "       'Array CGH alterado_x001D_3q26.31q26.32x1,175,105,979-175,745,370, 339kb, 3 genes NAAALADL2-608806,II',\n",
       "       'Array CGH alterado_x001D_22q12.3x3,33,527,053-33,852,735,325kb, e gene, 1OMIM morbid map - 603590-LARGE,II',\n",
       "       'Array CGH alterado_x001D_arr(hg19)2p11.2(86,289,130-86,509,326)x3; 10p11.21(34,835,589-35,154,914)x3;15q13.2(30,653,877-31,077,833)x1. Classe IImat_x001D_REEP1; PARD3; CHRFAM7A_x001D_ ',\n",
       "       'Array CGH FCT 2012_x001D_Array CGH alterado_x001D_amplificação Xp26.1(localização 129440317- 129510697 pb) que engloba o gene SLC25A14. O gene SLC25A14 codifica para um transportador mitocondrial cuja disfunção poderá levar a doença mitocondrial Classe I. amplificação (classe IV) no cromossoma 16p11.2 (localização 34482042- 34701983 pb) que engloba o gene LOC283914. Esta alteração não engloba a região crítica associada a síndrome de microdeleção e microduplicação 16p11.2 (no genoma de referência GRCh37/hg19)',\n",
       "       'Array CGH alterado_x001D_18p11.32; 901,047-1,342,515; 441kb mat',\n",
       "       'Cariótipo normal _x001D_Array CGH - N',\n",
       "       'Cariótipo normal _x001D_Subtelomericas - N_x001D_Array CGH alterado interpretação duvidosa_x001D_deleção intronica 2p16.3, 50,501,939-50,513,070, 11kb, gene NRXN1 OMIM ID 600565, IIIA',\n",
       "       'Array CGH FCT 2012_x001D_Array CGH alterado_x001D_6q26(162,777,193-163,050,403)x3, gene PARK2; 16p11.2(344,820,42-347,273,49)x3,  S microdeleção/microduplicação 16p11.2; 17p13.3(536,147-751,254)x1, VPS53,NXN,FAM57A,GEMIN4, DBIL5p, CLOD4,RNMTL1._x001D_6q26 mãe ; 17p13.3 pai; 16p11.2 desc',\n",
       "       'Array CGH alterado_x001D_  PAIS Não estudados_x001D_15q15.1 (41618528-41752277)_x000B_133Kb_x000B_4 genes OMIM:606020-OIP5; 612818-NUSAP1;606934-NDUFAF1;611633-RTF1); 1 OMIM Morbid Map (606934-NDUFAF1) II_x000B_xq13.1',\n",
       "       'Array CGH alterado_x001D_16p13.112 12652287-12708245 (55959) IIIA gene SNX29 (RefSeq NM: 032167.4),mat',\n",
       "       'Array CGH FCT 2012_x001D_Array CGH_x001D_Sem alterações',\n",
       "       'Array CGH FCT 2012_x001D_Array CGH- N (46,XY.arr(1-22,)x2,(XY)x1_x001D_sem relatorio da FMUC_x001D_del 7q34 genes PRSS1 PRSS2 - pancreatite hereditária?',\n",
       "       'Array CGH FCT 2012_x001D_Array CGH alterado_x001D_1p36.13 (localização 16364728 - 16387805 pb) pais não conclusivos',\n",
       "       'Array CGH alterado', 'Array CGH alterado_x001D_ESTUDAR PAIS',\n",
       "       'Array CGH FCT 2012_x001D_Normal (exterior)',\n",
       "       'Array CGH alterado_x001D_Xp21.1(142328008-142487154)x1, incide intrão gene DMD responsável distrofia muscular Duchenne e Becker. Resulatdo não conclusivo pela del ser um intrão. 7q34 (142328008-142487154)x 1, genes PRSS1 e PRSS2.  alt gnestes genes são responsáveis por pancreatite crónica.',\n",
       "       'Array CGH_x001D_Sem alterações',\n",
       "       'Array CGH FCT 2012_x001D_Array CGH alterado_x001D_16p11.1-p11.2 (34482042 - 34727349) x3 genes LOC283914 e LOC146481, classe II: a 22q11.23 (25664618 - 25903543) x3q os genes IGLL3P, LRP5L e CRYBB2P1, classe II Pedi sangue INSA 4 7 2017 alterações consideradas benignas pela FMUC_x001D_Mais que um CNV',\n",
       "       'Array CGH alterado_x001D_3q29(196539,700-196,563,814)x3; 24kb, exões 11 a 15 gene PAK2, classe IIIA_x000B_10p15.3p15.2(2,903,856-3,611,091)x3, 446 kb, , gene LOC1, class IIIA, mat_x001D_ ',\n",
       "       'Cariótipo normal _x001D_Array CGH FCT 2012',\n",
       "       'Array CGH alterado interpretação duvidosa_x001D_del 1q44 (localização 248727929-248785563) sobreponível à região deletada na síndrome de microdeleção 1q43-44 associada a atraso de desenvolvimento de défice intelectual. A região é menor e engloba um exão do gene OR2T10; duas variantes que potencialmente levam a perda de função da proteína estão descritas em dois pacientes com autismo na base de dados da SFARI, no entanto não existem estudos funcionais que comprovem um significado patológico. A alteração é muito rara em controlos. Análise nos pais revelou que a alteração está presente em ambos. pat mat_x001D_6q25.3 (localização 157891169 - 157968773 pb), sobreponível à região deletada na síndrome de microdeleção 6q25.1-q25.3. A região amplificada, no entanto, é muito mais curta do que tem sido descrito nesta síndrome, e engloba apenas parte da sequência dos genes ZDHHC14 e o gene MIR3692, para os quais não existe evidência descrita de envolvimento no autismo',\n",
       "       'Array CGH FCT 2012_x001D_1p36 (localização 16380607-16387767 pb) que engloba parcialmente os genes FAM131C e CLCNKB classe I_x000B_1p36 (localização 16380607-16387767 pb) que engloba parcialmente os genes FAM131C e CLCNKB_x001D_pais ser estudados ADN INSA 30 jan 2017_x001D_Array CGH  no Lab citogenetica considerado normal',\n",
       "       'Array CGH_x001D_Array CGH alterado_x001D_6q11.1, 62,636,835-62,749.113,112Kb, del KHDRBS2, IIIA',\n",
       "       'Array CGH_x001D_Array CGH alterado_x001D_arr(hg19) 11q24.2(126,467,318-126,654,804)x3,187kb, intrao 1 gene KIRREL3- classe II',\n",
       "       'Array CGH alterado_x001D_arr(hg19) 2q24.124.2( 159,654,414-19,947,639)x3;293kb, 2 genes - 1 OMIM - TANC1. Ponto quebra inicial intrao 1 gene DAPL1, ponro quebra final intrao 3 dos 2 transcritos gene TANC1, classe IIIA. Paterno _x001D_mãe-N; pai - mesma dup',\n",
       "       'Array CGH alterado_x001D_20q12, 41,408,577 - 41,480,130 x 1, 71Kb, gene PTPRT OMIM ID 608712. Classe II. pat',\n",
       "       'Array CGH alterado interpretação duvidosa_x001D_del 10(q24.2) 100,723,474-100, 909, 85; 186Kb, gene HPSE2 - OMIM morbid map  - associado a S urofacial; IIIA',\n",
       "       'Array CGH alterado interpretação duvidosa_x001D_Dupxp21.1; 31,989,964-32,190,220; 200Kbgene DMD OMIM morbid map -300377; II._x000B_Fenoripo condicionado pelo padrão inativação cr X., mat',\n",
       "       'Array CGH alterado_x001D_yq11.222, 20707618-20936561, 228KB, 4 genes, i1 OMIM ID:4000-HSFY1;IIIA._x000B_Pat_x001D_pedido sangue pai 2 maio 17 para oligoarray',\n",
       "       'Array CGH alterado_x001D_4q12(56,797,194-57,405,357)x3, 608Kb, 9 genes, 6 OMIM e 2 OMIM Morbid Map ( 614423-CEP135,602122-SRP72), II. Mat',\n",
       "       'Array CGH_x001D_Cariótipo alterado_x001D_deleção 7(q21.11)',\n",
       "       'Array CGH_x001D_Cariótipo alterado_x001D_duplicação terminal 3(q29)',\n",
       "       'Array CGH_x001D_Cariótipo normal ',\n",
       "       'Array CGH alterado_x001D_6 q23.3x2, 135.811.718-135.877.640., 65Kb,  gen AHI1 - OMIM ID: 608894- S joubert? classe II',\n",
       "       'Array CGH_x001D_Cariótipo alterado_x001D_duplicação no braço curto do cromossoma 4(p16.1); triplicação no barço longo do cromossoma 11(q14.2); duplicação no braço longo do cromossoma 8(q22.1q.22.2)',\n",
       "       'Cariótipo alterado_x001D_deleção no braço longo do cromossoma 2(q31.2)_x000B_',\n",
       "       'Array CGH alterado interpretação duvidosa_x001D_6p21.33, triplicação 31963-32006923,43Kb, 9 genes, 3 OMIM morbid map: 120820 CaB, 120810-C4A, 613815-CYp21A2 , IIIA._x000B_yq11.223q11.23, 25296959-26275993, 979 kb.x2. 400003 daz1, 4000-CDy1 IIIa_x000B_ ',\n",
       "       'Array CGH_x001D_Cariótipo alterado_x001D_duplicação 6(q21)',\n",
       "       'Array CGH alterado interpretação duvidosa_x001D_arrhg19Xq24(118426094-118555644)x0 - gene SLC25A43 mat',\n",
       "       'Array CGH_x001D_array significado duvidoso (ver analise)_x001D_duplicação no braço longo do cromossoma 11(q22.3)_x000B_',\n",
       "       'Array CGH alterado_x001D_arr(GRch37)2p16.3(51148508-51212338)x1, 64kb, gene NRXN1; xp22.33oryp11.32(1728468-1821317)or1678468-17713117)x3, 93kb, gene ASMT. significado clinico desconhecido, provavelmente patogenica, mat_x001D_pais estudado, herança mat',\n",
       "       'Cariótipo normal _x001D_Array CGH- N (46,XX.arr(1-22,)x2(,XX)x1',\n",
       "       'Array CGH_x001D_Cariótipo alterado_x001D_dup a(q21.3q22.1); dup15(q11.2); del16(p13.3)',\n",
       "       'Array CGH_x001D_Cariótipo alterado_x001D_del 3(p12,1) e del 7(q31.1)',\n",
       "       'Array CGH_x001D_Cariótipo alterado_x001D_del7(q31.1)',\n",
       "       'Array CGH_x001D_duplicação no braço longo do cromossoma 1 (q22q23.1)',\n",
       "       'Array CGH alterado interpretação duvidosa_x001D_Dup 14q24.2; 73,483,623-73,535,976; 52Kb gene ZFYVE1, gene RBM25 OMIM ID: 605471, 612427. IIIA'],\n",
       "      dtype=object)"
      ]
     },
     "execution_count": 71,
     "metadata": {},
     "output_type": "execute_result"
    }
   ],
   "source": [
    "# see values of column Cariótipo_Resultado\n",
    "df.Karyotype_Result.unique()"
   ]
  },
  {
   "cell_type": "code",
   "execution_count": 72,
   "metadata": {},
   "outputs": [],
   "source": [
    "# index of samples with altered Cariótipo_Resultado, but do not contain the word normal and array\n",
    "index_alt = df[(df['Karyotype_Result'].str.contains('alterado', regex=False, case=False, na=False)) \n",
    "               & ~(df['Karyotype_Result'].str.contains('array', regex=False, case=False, na=False)) \n",
    "               & ~(df['Karyotype_Result'].str.contains('normal', regex=False, case=False, na=False))].index"
   ]
  },
  {
   "cell_type": "code",
   "execution_count": 73,
   "metadata": {},
   "outputs": [
    {
     "data": {
      "text/plain": [
       "12"
      ]
     },
     "execution_count": 73,
     "metadata": {},
     "output_type": "execute_result"
    }
   ],
   "source": [
    "# how many samples with altered Cariótipo_Resultado, but do not contain the word normal and array\n",
    "len(index_alt)"
   ]
  },
  {
   "cell_type": "code",
   "execution_count": 74,
   "metadata": {},
   "outputs": [],
   "source": [
    "# drop samples with altered Cariótipo_Resultado, but do not contain the word normal and array\n",
    "df.drop(index_alt, inplace = True)"
   ]
  },
  {
   "cell_type": "code",
   "execution_count": 75,
   "metadata": {},
   "outputs": [
    {
     "data": {
      "text/plain": [
       "array(['FISH cr15-N normal_x001D_Regiões subteloméricas-N_x001D_Cariótipo alterado_x001D_Array CGH alterado',\n",
       "       \"Cariótipo alterado_x001D_trissomia parcial 6qter_x001D_10 Mb duplication 6q25.3-q27, de novo, 46,XX.ish der(22)t(6;22)(6q25.3;p11.2)pat(6qtel+)10 Mb duplication 6q25.3-q27, de novo, identified with SNP array. High resolution karyotype was normal; subtelomere FISH analysis revealed a 6q terminal duplication arising from a paternal balanced translocation, 46,XY, t(6;22)(q25.3;p11.2). The father is healthy. The patient's karyotype is: 46,XX.ish der(22)t(6;22)(6q25.3;p11.2)pat(6qtel+)_x000B_\",\n",
       "       'Array CGH_x001D_Cariótipo alterado_x001D_deleção 7(q21.11)',\n",
       "       'Array CGH_x001D_Cariótipo alterado_x001D_duplicação terminal 3(q29)',\n",
       "       'Array CGH_x001D_Cariótipo alterado_x001D_duplicação no braço curto do cromossoma 4(p16.1); triplicação no barço longo do cromossoma 11(q14.2); duplicação no braço longo do cromossoma 8(q22.1q.22.2)',\n",
       "       'Array CGH_x001D_Cariótipo alterado_x001D_duplicação 6(q21)',\n",
       "       'Array CGH_x001D_Cariótipo alterado_x001D_dup a(q21.3q22.1); dup15(q11.2); del16(p13.3)',\n",
       "       'Array CGH_x001D_Cariótipo alterado_x001D_del 3(p12,1) e del 7(q31.1)',\n",
       "       'Array CGH_x001D_Cariótipo alterado_x001D_del7(q31.1)'],\n",
       "      dtype=object)"
      ]
     },
     "execution_count": 75,
     "metadata": {},
     "output_type": "execute_result"
    }
   ],
   "source": [
    "# see potential samples that were not droped\n",
    "df_car_alt = df[(df['Karyotype_Result'].str.contains('cariótipo alterado', regex=False, case=False, na=False))]\n",
    "df_car_alt.Karyotype_Result.unique()"
   ]
  },
  {
   "cell_type": "code",
   "execution_count": 76,
   "metadata": {},
   "outputs": [],
   "source": [
    "# index of samples which contain an alteread Cariótipo_Resultado\n",
    "car_alt = df[(df['Karyotype_Result'].str.contains('cariótipo alterado', regex=False, case=False, na=False))].index"
   ]
  },
  {
   "cell_type": "code",
   "execution_count": 77,
   "metadata": {},
   "outputs": [
    {
     "data": {
      "text/plain": [
       "9"
      ]
     },
     "execution_count": 77,
     "metadata": {},
     "output_type": "execute_result"
    }
   ],
   "source": [
    "# how many samples which contain an alteread Cariótipo_Resultado\n",
    "len(car_alt)"
   ]
  },
  {
   "cell_type": "code",
   "execution_count": 78,
   "metadata": {},
   "outputs": [],
   "source": [
    "# drop samples which contain an alteread Cariótipo_Resultado\n",
    "df.drop(car_alt, inplace = True)"
   ]
  },
  {
   "cell_type": "markdown",
   "metadata": {},
   "source": [
    "#### FRAXA "
   ]
  },
  {
   "cell_type": "code",
   "execution_count": 79,
   "metadata": {},
   "outputs": [
    {
     "data": {
      "text/plain": [
       "array(['Normal', nan, 'não cultivou', 'aguarda', 'Repetir',\n",
       "       'alterado , aumento nº tripletos CGG, compatível mutações mais frequentes ',\n",
       "       'alterado', 'amostra insuficiente',\n",
       "       'pre-mutação do gene FMR1 (57 repetições)',\n",
       "       'mutação completa >200 repetições',\n",
       "       'alterado alelo intermedio 43 repetições CGG',\n",
       "       'alelo intermedio 43 repetições CGG',\n",
       "       'alterado um alelo normal 28 e um intermedio 48 repetições CGG ',\n",
       "       'alterado alelo intermedio 41 repetições CGG',\n",
       "       'Normal 28 repetições CGG',\n",
       "       'alterado alelo intermedio 48 repetições CGG', 'Normal (fora)',\n",
       "       'alterado alelo intermedio 45 repetições CGG', 'Normal (exterior)'],\n",
       "      dtype=object)"
      ]
     },
     "execution_count": 79,
     "metadata": {},
     "output_type": "execute_result"
    }
   ],
   "source": [
    "# see values in column FRAXA_Resultado\n",
    "df.FRAXA_Result.unique()"
   ]
  },
  {
   "cell_type": "code",
   "execution_count": 80,
   "metadata": {},
   "outputs": [],
   "source": [
    "# index from samples with altered FRAXA result\n",
    "fraxa_alt = df[(df['FRAXA_Result'].str.contains('alterado', regex=False, case=False, na=False))].index"
   ]
  },
  {
   "cell_type": "code",
   "execution_count": 81,
   "metadata": {},
   "outputs": [
    {
     "data": {
      "text/plain": [
       "9"
      ]
     },
     "execution_count": 81,
     "metadata": {},
     "output_type": "execute_result"
    }
   ],
   "source": [
    "# how many samples with altered FRAXA result\n",
    "len(fraxa_alt)"
   ]
  },
  {
   "cell_type": "code",
   "execution_count": 82,
   "metadata": {},
   "outputs": [],
   "source": [
    "# drop samples with altered FRAXA result\n",
    "df.drop(fraxa_alt, inplace = True)"
   ]
  },
  {
   "cell_type": "code",
   "execution_count": 83,
   "metadata": {},
   "outputs": [
    {
     "data": {
      "text/plain": [
       "Counter({'Normal': 777,\n",
       "         nan: 109,\n",
       "         'não cultivou': 1,\n",
       "         'aguarda': 1,\n",
       "         'Repetir': 3,\n",
       "         'amostra insuficiente': 1,\n",
       "         'pre-mutação do gene FMR1 (57 repetições)': 1,\n",
       "         'mutação completa >200 repetições': 1,\n",
       "         'alelo intermedio 43 repetições CGG': 1,\n",
       "         'Normal 28 repetições CGG': 1,\n",
       "         'Normal (fora)': 1,\n",
       "         'Normal (exterior)': 1})"
      ]
     },
     "execution_count": 83,
     "metadata": {},
     "output_type": "execute_result"
    }
   ],
   "source": [
    "# see values in column FRAXA_Resultado\n",
    "Counter(df.FRAXA_Result)"
   ]
  },
  {
   "cell_type": "code",
   "execution_count": 84,
   "metadata": {},
   "outputs": [],
   "source": [
    "# index of samples that also contain an altered FRAXA result\n",
    "fraxa_alt_2 = df[df['FRAXA_Result'].isin(['pre-mutação do gene FMR1 (57 repetições)', \n",
    "                                             'mutação completa >200 repetições', \n",
    "                                             'alelo intermedio 43 repetições CGG'])].index"
   ]
  },
  {
   "cell_type": "code",
   "execution_count": 85,
   "metadata": {},
   "outputs": [
    {
     "data": {
      "text/plain": [
       "3"
      ]
     },
     "execution_count": 85,
     "metadata": {},
     "output_type": "execute_result"
    }
   ],
   "source": [
    "# how many samples with altered FRAXA result\n",
    "len(fraxa_alt_2)"
   ]
  },
  {
   "cell_type": "code",
   "execution_count": 86,
   "metadata": {},
   "outputs": [],
   "source": [
    "# drop samples with altered FRAXA result\n",
    "df.drop(fraxa_alt_2, inplace = True)"
   ]
  },
  {
   "cell_type": "markdown",
   "metadata": {},
   "source": [
    "#### FRAXE"
   ]
  },
  {
   "cell_type": "code",
   "execution_count": 87,
   "metadata": {},
   "outputs": [
    {
     "data": {
      "text/plain": [
       "Counter({'Normal': 384,\n",
       "         nan: 505,\n",
       "         'repetir': 4,\n",
       "         'hipermetilação e >200 repetições': 1,\n",
       "         'amostra insuficiente': 1})"
      ]
     },
     "execution_count": 87,
     "metadata": {},
     "output_type": "execute_result"
    }
   ],
   "source": [
    "# see values in column FRAXE_Resultado\n",
    "Counter(df.FRAXE_Result)"
   ]
  },
  {
   "cell_type": "code",
   "execution_count": 88,
   "metadata": {},
   "outputs": [],
   "source": [
    "# index from samples with altered FRAXE results\n",
    "fraxe_alt = df[(df['FRAXE_Result'].str.contains('hipermetilação', regex=False, case=False, na=False))].index"
   ]
  },
  {
   "cell_type": "code",
   "execution_count": 89,
   "metadata": {},
   "outputs": [
    {
     "data": {
      "text/plain": [
       "1"
      ]
     },
     "execution_count": 89,
     "metadata": {},
     "output_type": "execute_result"
    }
   ],
   "source": [
    "# how many samples with altered FRAXE results\n",
    "len(fraxe_alt)"
   ]
  },
  {
   "cell_type": "code",
   "execution_count": 90,
   "metadata": {},
   "outputs": [],
   "source": [
    "# drop samples with altered FRAXE results\n",
    "df.drop(fraxe_alt, inplace = True)"
   ]
  },
  {
   "cell_type": "markdown",
   "metadata": {},
   "source": [
    "### Exclusion of Samples with severe Intelectual Deficiency (ID) "
   ]
  },
  {
   "cell_type": "code",
   "execution_count": 91,
   "metadata": {},
   "outputs": [
    {
     "data": {
      "text/plain": [
       "Counter({nan: 840,\n",
       "         'Surdez': 2,\n",
       "         'Epilepsia': 11,\n",
       "         'Autismoatipico': 1,\n",
       "         'Asperger': 28,\n",
       "         'Evoluçãonãoautismo': 4,\n",
       "         'Perturbação tiques': 2,\n",
       "         'Sem deficiênciamental (>70)': 2,\n",
       "         'DM ligeira (50-69)': 2,\n",
       "         'AGDPM': 1,\n",
       "         'DM moderada (35-49)': 1})"
      ]
     },
     "execution_count": 91,
     "metadata": {},
     "output_type": "execute_result"
    }
   ],
   "source": [
    "# see cases of severee ID (DM and AGDPM)\n",
    "Counter(df.Clinical_Diagnosis)"
   ]
  },
  {
   "cell_type": "code",
   "execution_count": 92,
   "metadata": {},
   "outputs": [],
   "source": [
    "# index of samples with severe ID\n",
    "sev_id = df[(df['Clinical_Diagnosis'] == 'AGDPM')].index"
   ]
  },
  {
   "cell_type": "code",
   "execution_count": 93,
   "metadata": {},
   "outputs": [],
   "source": [
    "# drop samples with severe ID\n",
    "df.drop(sev_id, inplace = True)"
   ]
  },
  {
   "cell_type": "code",
   "execution_count": 94,
   "metadata": {},
   "outputs": [
    {
     "data": {
      "text/plain": [
       "Counter({'DM severa a profunda': 25,\n",
       "         'DM severa a profunda (<34)': 28,\n",
       "         'DM moderada (35-49)': 99,\n",
       "         'DM ligeira a moderada': 53,\n",
       "         'Sem deficiênciamental (>70)': 308,\n",
       "         'DM ligeira (50-69)': 178,\n",
       "         'DM moderada': 1,\n",
       "         'Sem deficiênciamental': 83,\n",
       "         'Nivel funcional desc': 9,\n",
       "         'DM ligeira a moderada_x001D__x001D_FALECIDO': 1,\n",
       "         'DM severa a profunda (<34)_x001D__x001D_Surdez NS profunda': 1,\n",
       "         'Sem deficiênciamental_x001D_ ': 1,\n",
       "         'DM ligeira a moderada ': 4,\n",
       "         'Nivel funcional desc_x001D__x001D_???': 1,\n",
       "         'DM ligeira a moderada _x001D__x001D_???': 1,\n",
       "         'Sem deficiênciamental ': 21,\n",
       "         'DM ligeira (50-69)_x001D__x001D_???': 1,\n",
       "         'Nivel intelectual borderline': 14,\n",
       "         'Sem deficiênciamental (>70)_x001D__x001D_Disfunçao cerebral mínima': 1,\n",
       "         'Défice Intelectual': 9,\n",
       "         'DM': 4,\n",
       "         'AGDPM': 11,\n",
       "         nan: 35,\n",
       "         'P Desenv Linguagem': 1,\n",
       "         ' ': 1,\n",
       "         'Autismo': 1,\n",
       "         'Em estudo': 1})"
      ]
     },
     "execution_count": 94,
     "metadata": {},
     "output_type": "execute_result"
    }
   ],
   "source": [
    "# see cases of severe ID (DM and AGDPM)\n",
    "Counter(df.Secondary_Diagnosis)"
   ]
  },
  {
   "cell_type": "code",
   "execution_count": 95,
   "metadata": {},
   "outputs": [],
   "source": [
    "# index of samples with severe ID\n",
    "sev_id_2 = df[((df['Secondary_Diagnosis'] == 'DM') | (df['Secondary_Diagnosis'] == 'AGDPM'))].index"
   ]
  },
  {
   "cell_type": "code",
   "execution_count": 96,
   "metadata": {},
   "outputs": [],
   "source": [
    "# drop samples with severe ID\n",
    "df.drop(sev_id_2, inplace = True)"
   ]
  },
  {
   "cell_type": "code",
   "execution_count": 97,
   "metadata": {},
   "outputs": [
    {
     "data": {
      "text/plain": [
       "878"
      ]
     },
     "execution_count": 97,
     "metadata": {},
     "output_type": "execute_result"
    }
   ],
   "source": [
    "len(df)"
   ]
  },
  {
   "cell_type": "code",
   "execution_count": 98,
   "metadata": {},
   "outputs": [
    {
     "data": {
      "application/vnd.jupyter.widget-view+json": {
       "model_id": "5d65190254b34306837124af375e971e",
       "version_major": 2,
       "version_minor": 0
      },
      "text/plain": [
       "Summarize dataset:   0%|          | 0/5 [00:00<?, ?it/s]"
      ]
     },
     "metadata": {},
     "output_type": "display_data"
    },
    {
     "name": "stderr",
     "output_type": "stream",
     "text": [
      "/home/aalmeida/miniconda3/envs/clinical_data/lib/python3.8/site-packages/numpy/core/_methods.py:262: RuntimeWarning: Degrees of freedom <= 0 for slice\n",
      "  ret = _var(a, axis=axis, dtype=dtype, out=out, ddof=ddof,\n",
      "/home/aalmeida/miniconda3/envs/clinical_data/lib/python3.8/site-packages/numpy/core/_methods.py:254: RuntimeWarning: invalid value encountered in double_scalars\n",
      "  ret = ret.dtype.type(ret / rcount)\n",
      "/home/aalmeida/miniconda3/envs/clinical_data/lib/python3.8/site-packages/numpy/core/fromnumeric.py:3723: RuntimeWarning: Degrees of freedom <= 0 for slice\n",
      "  return _methods._var(a, axis=axis, dtype=dtype, out=out, ddof=ddof,\n"
     ]
    },
    {
     "data": {
      "application/vnd.jupyter.widget-view+json": {
       "model_id": "e1c98193e8c840489d34405917bf3752",
       "version_major": 2,
       "version_minor": 0
      },
      "text/plain": [
       "Generate report structure:   0%|          | 0/1 [00:00<?, ?it/s]"
      ]
     },
     "metadata": {},
     "output_type": "display_data"
    },
    {
     "data": {
      "application/vnd.jupyter.widget-view+json": {
       "model_id": "e5e5d053716240aca3d92c65ec4d351a",
       "version_major": 2,
       "version_minor": 0
      },
      "text/plain": [
       "Render HTML:   0%|          | 0/1 [00:00<?, ?it/s]"
      ]
     },
     "metadata": {},
     "output_type": "display_data"
    },
    {
     "name": "stderr",
     "output_type": "stream",
     "text": [
      "/home/aalmeida/miniconda3/envs/clinical_data/lib/python3.8/site-packages/pandas_profiling/profile_report.py:262: UserWarning: Extension  not supported. For now we assume .html was intended. To remove this warning, please use .html or .json.\n",
      "  warnings.warn(\n"
     ]
    },
    {
     "data": {
      "application/vnd.jupyter.widget-view+json": {
       "model_id": "d208ebb308b64cfbab2d7f5af6cc1dec",
       "version_major": 2,
       "version_minor": 0
      },
      "text/plain": [
       "Export report to file:   0%|          | 0/1 [00:00<?, ?it/s]"
      ]
     },
     "metadata": {},
     "output_type": "display_data"
    }
   ],
   "source": [
    "# profile report of dataset\n",
    "profile = ProfileReport(df, title='Dataset After Samples Removal Profile', minimal = True)\n",
    "# export profile report \n",
    "profile.to_file(\"Dataset After Samples Removal Profile\")"
   ]
  },
  {
   "cell_type": "markdown",
   "metadata": {},
   "source": [
    "### Create New Verbal Column Based on ADIR Communication Values"
   ]
  },
  {
   "cell_type": "code",
   "execution_count": 99,
   "metadata": {},
   "outputs": [
    {
     "data": {
      "text/plain": [
       "Counter({'No': 383, 'Yes': 173, <NA>: 322})"
      ]
     },
     "execution_count": 99,
     "metadata": {},
     "output_type": "execute_result"
    }
   ],
   "source": [
    "# see values in column verbal\n",
    "Counter(df.verbal)"
   ]
  },
  {
   "cell_type": "code",
   "execution_count": 100,
   "metadata": {},
   "outputs": [],
   "source": [
    "# index of non verbal samples \n",
    "not_verbal = df[ (df['verbal'] == 'No') | (df['verbal'].isnull())].index.tolist()"
   ]
  },
  {
   "cell_type": "code",
   "execution_count": 101,
   "metadata": {},
   "outputs": [
    {
     "data": {
      "text/plain": [
       "705"
      ]
     },
     "execution_count": 101,
     "metadata": {},
     "output_type": "execute_result"
    }
   ],
   "source": [
    "# how many non verbal samples\n",
    "len(not_verbal)"
   ]
  },
  {
   "cell_type": "code",
   "execution_count": 102,
   "metadata": {},
   "outputs": [],
   "source": [
    "# index of verbal samples\n",
    "verbal = df[(df['verbal'] == 'Yes')|(df['verbal'].isnull())].index.tolist()"
   ]
  },
  {
   "cell_type": "code",
   "execution_count": 103,
   "metadata": {},
   "outputs": [
    {
     "data": {
      "text/plain": [
       "495"
      ]
     },
     "execution_count": 103,
     "metadata": {},
     "output_type": "execute_result"
    }
   ],
   "source": [
    "# how many verbal samples\n",
    "len(verbal)"
   ]
  },
  {
   "cell_type": "code",
   "execution_count": 104,
   "metadata": {},
   "outputs": [
    {
     "data": {
      "text/plain": [
       "array([14., 12., 13., nan, 11.,  8.,  9., 10., 18.,  7.,  6.,  5., 16.,\n",
       "        4.,  3.,  1.,  2.])"
      ]
     },
     "execution_count": 104,
     "metadata": {},
     "output_type": "execute_result"
    }
   ],
   "source": [
    "# see values in column ADIR_C_7\n",
    "df.ADIR_C_7.unique()"
   ]
  },
  {
   "cell_type": "code",
   "execution_count": 105,
   "metadata": {},
   "outputs": [
    {
     "data": {
      "text/plain": [
       "array([nan, 24.,  8., 20., 18., 14., 13., 22., 17., 23., 26., 12.,  9.,\n",
       "       21., 15., 16., 19., 25., 11., 10.,  2.,  4.,  3.,  5.,  6.,  7.,\n",
       "        0.])"
      ]
     },
     "execution_count": 105,
     "metadata": {},
     "output_type": "execute_result"
    }
   ],
   "source": [
    "# see values in column ADIR_C_8\n",
    "df.ADIR_C_8.unique()"
   ]
  },
  {
   "cell_type": "code",
   "execution_count": 106,
   "metadata": {},
   "outputs": [],
   "source": [
    "# make True if there are values for verbal (ADIR_C_8) and false if there are values for non verbal (ADIR_C_7)\n",
    "def set_verbal(verbal, nverbal):\n",
    "    if (~(pd.isnull(verbal)) & pd.isnull(nverbal)):\n",
    "        verbal = True\n",
    "    elif (pd.isnull(verbal) & pd.isnull(nverbal)):\n",
    "        verbal = pd.NA\n",
    "    else:\n",
    "        verbal= False\n",
    "    return verbal"
   ]
  },
  {
   "cell_type": "code",
   "execution_count": 107,
   "metadata": {},
   "outputs": [],
   "source": [
    "# creat new column Verbal \n",
    "df['Verbal'] = df.apply(lambda x: set_verbal(x['ADIR_C_8'], x['ADIR_C_7']), axis=1)\n",
    "df_original['Verbal'] = df.apply(lambda x: set_verbal(x['ADIR_C_8'], x['ADIR_C_7']), axis=1)"
   ]
  },
  {
   "cell_type": "code",
   "execution_count": 108,
   "metadata": {},
   "outputs": [
    {
     "data": {
      "text/plain": [
       "Counter({False: 433, True: 369, <NA>: 76})"
      ]
     },
     "execution_count": 108,
     "metadata": {},
     "output_type": "execute_result"
    }
   ],
   "source": [
    "# see values of column Verbal\n",
    "Counter(df.Verbal)"
   ]
  },
  {
   "cell_type": "code",
   "execution_count": 109,
   "metadata": {},
   "outputs": [],
   "source": [
    "# Index of samples classified as verbal in ADIR_C_8\n",
    "verbal_true = df.Verbal[df.Verbal == True].index.tolist()"
   ]
  },
  {
   "cell_type": "code",
   "execution_count": 110,
   "metadata": {},
   "outputs": [],
   "source": [
    "# Index of samples classified as non verbal in ADIR_C_7\n",
    "verbal_false = df.Verbal[df.Verbal == False].index.tolist()"
   ]
  },
  {
   "cell_type": "code",
   "execution_count": 111,
   "metadata": {},
   "outputs": [
    {
     "name": "stdout",
     "output_type": "stream",
     "text": [
      "Yes, not_verbal contains all elements of verbal_false\n"
     ]
    }
   ],
   "source": [
    "# check if lists of non verabl samples are in agreenment \n",
    "check_not_verbal =  all(item in not_verbal for item in verbal_false)\n",
    " \n",
    "if check_not_verbal is True:\n",
    "    print('Yes, not_verbal contains all elements of verbal_false')    \n",
    "else :\n",
    "    print('No, not_verbal doesn\\'t have all elements of verbal_false.')"
   ]
  },
  {
   "cell_type": "code",
   "execution_count": 112,
   "metadata": {},
   "outputs": [
    {
     "name": "stdout",
     "output_type": "stream",
     "text": [
      "No, verbal doesn't have all elements of the verbal_true.\n"
     ]
    }
   ],
   "source": [
    "# check of lists with information for verabl samples are in agreenment  \n",
    "check_verbal =  all(item in verbal for item in verbal_true)\n",
    " \n",
    "if check_verbal is True:\n",
    "    print(\"Yes, verbal contains all elements of verbal_true.\")    \n",
    "else :\n",
    "    print(\"No, verbal doesn't have all elements of the verbal_true.\")"
   ]
  },
  {
   "cell_type": "code",
   "execution_count": 113,
   "metadata": {},
   "outputs": [
    {
     "data": {
      "text/plain": [
       "['AA285', 'AA934', 'AA252', 'AA292', 'AA300', 'AA510', 'AA261']"
      ]
     },
     "execution_count": 113,
     "metadata": {},
     "output_type": "execute_result"
    }
   ],
   "source": [
    "# create list with codes from verbal samples that do not agree \n",
    "main_list = list(set(verbal_true) - set(verbal))\n",
    "main_list"
   ]
  },
  {
   "cell_type": "code",
   "execution_count": 114,
   "metadata": {},
   "outputs": [
    {
     "data": {
      "text/html": [
       "<div>\n",
       "<style scoped>\n",
       "    .dataframe tbody tr th:only-of-type {\n",
       "        vertical-align: middle;\n",
       "    }\n",
       "\n",
       "    .dataframe tbody tr th {\n",
       "        vertical-align: top;\n",
       "    }\n",
       "\n",
       "    .dataframe thead th {\n",
       "        text-align: right;\n",
       "    }\n",
       "</style>\n",
       "<table border=\"1\" class=\"dataframe\">\n",
       "  <thead>\n",
       "    <tr style=\"text-align: right;\">\n",
       "      <th></th>\n",
       "      <th>QDMreav</th>\n",
       "      <th>QDPSreav</th>\n",
       "      <th>QDLreav</th>\n",
       "      <th>QDEHreav</th>\n",
       "      <th>QDRreav</th>\n",
       "      <th>QD_M</th>\n",
       "      <th>QD_PS</th>\n",
       "      <th>QD_L</th>\n",
       "      <th>QD_EH</th>\n",
       "      <th>QD_R</th>\n",
       "      <th>Diag_Age</th>\n",
       "      <th>QDQI_Age</th>\n",
       "      <th>Verbal</th>\n",
       "      <th>verbal</th>\n",
       "    </tr>\n",
       "    <tr>\n",
       "      <th>Code</th>\n",
       "      <th></th>\n",
       "      <th></th>\n",
       "      <th></th>\n",
       "      <th></th>\n",
       "      <th></th>\n",
       "      <th></th>\n",
       "      <th></th>\n",
       "      <th></th>\n",
       "      <th></th>\n",
       "      <th></th>\n",
       "      <th></th>\n",
       "      <th></th>\n",
       "      <th></th>\n",
       "      <th></th>\n",
       "    </tr>\n",
       "  </thead>\n",
       "  <tbody>\n",
       "    <tr>\n",
       "      <th>AA300</th>\n",
       "      <td>116.0</td>\n",
       "      <td>116.0</td>\n",
       "      <td>120.0</td>\n",
       "      <td>130.0</td>\n",
       "      <td>136.0</td>\n",
       "      <td>138.0</td>\n",
       "      <td>74.0</td>\n",
       "      <td>42.0</td>\n",
       "      <td>60.0</td>\n",
       "      <td>79.0</td>\n",
       "      <td>2.0</td>\n",
       "      <td>32.0</td>\n",
       "      <td>True</td>\n",
       "      <td>No</td>\n",
       "    </tr>\n",
       "    <tr>\n",
       "      <th>AA510</th>\n",
       "      <td>NaN</td>\n",
       "      <td>NaN</td>\n",
       "      <td>NaN</td>\n",
       "      <td>NaN</td>\n",
       "      <td>NaN</td>\n",
       "      <td>157.0</td>\n",
       "      <td>102.0</td>\n",
       "      <td>72.0</td>\n",
       "      <td>104.0</td>\n",
       "      <td>104.0</td>\n",
       "      <td>2.0</td>\n",
       "      <td>22.0</td>\n",
       "      <td>True</td>\n",
       "      <td>No</td>\n",
       "    </tr>\n",
       "    <tr>\n",
       "      <th>AA292</th>\n",
       "      <td>NaN</td>\n",
       "      <td>NaN</td>\n",
       "      <td>NaN</td>\n",
       "      <td>NaN</td>\n",
       "      <td>NaN</td>\n",
       "      <td>106.0</td>\n",
       "      <td>95.0</td>\n",
       "      <td>54.0</td>\n",
       "      <td>78.0</td>\n",
       "      <td>82.0</td>\n",
       "      <td>4.0</td>\n",
       "      <td>58.0</td>\n",
       "      <td>True</td>\n",
       "      <td>No</td>\n",
       "    </tr>\n",
       "    <tr>\n",
       "      <th>AA934</th>\n",
       "      <td>NaN</td>\n",
       "      <td>NaN</td>\n",
       "      <td>NaN</td>\n",
       "      <td>NaN</td>\n",
       "      <td>NaN</td>\n",
       "      <td>58.0</td>\n",
       "      <td>40.0</td>\n",
       "      <td>20.0</td>\n",
       "      <td>31.0</td>\n",
       "      <td>34.0</td>\n",
       "      <td>NaN</td>\n",
       "      <td>86.0</td>\n",
       "      <td>True</td>\n",
       "      <td>No</td>\n",
       "    </tr>\n",
       "    <tr>\n",
       "      <th>AA285</th>\n",
       "      <td>NaN</td>\n",
       "      <td>NaN</td>\n",
       "      <td>NaN</td>\n",
       "      <td>NaN</td>\n",
       "      <td>NaN</td>\n",
       "      <td>83.0</td>\n",
       "      <td>71.0</td>\n",
       "      <td>71.0</td>\n",
       "      <td>81.0</td>\n",
       "      <td>68.0</td>\n",
       "      <td>4.0</td>\n",
       "      <td>66.0</td>\n",
       "      <td>True</td>\n",
       "      <td>No</td>\n",
       "    </tr>\n",
       "    <tr>\n",
       "      <th>AA261</th>\n",
       "      <td>NaN</td>\n",
       "      <td>NaN</td>\n",
       "      <td>NaN</td>\n",
       "      <td>NaN</td>\n",
       "      <td>NaN</td>\n",
       "      <td>108.0</td>\n",
       "      <td>102.0</td>\n",
       "      <td>95.0</td>\n",
       "      <td>119.0</td>\n",
       "      <td>95.0</td>\n",
       "      <td>2.0</td>\n",
       "      <td>59.0</td>\n",
       "      <td>True</td>\n",
       "      <td>No</td>\n",
       "    </tr>\n",
       "    <tr>\n",
       "      <th>AA252</th>\n",
       "      <td>NaN</td>\n",
       "      <td>NaN</td>\n",
       "      <td>NaN</td>\n",
       "      <td>NaN</td>\n",
       "      <td>NaN</td>\n",
       "      <td>76.0</td>\n",
       "      <td>57.0</td>\n",
       "      <td>59.0</td>\n",
       "      <td>69.0</td>\n",
       "      <td>67.0</td>\n",
       "      <td>2.0</td>\n",
       "      <td>29.0</td>\n",
       "      <td>True</td>\n",
       "      <td>No</td>\n",
       "    </tr>\n",
       "  </tbody>\n",
       "</table>\n",
       "</div>"
      ],
      "text/plain": [
       "       QDMreav  QDPSreav  QDLreav  QDEHreav  QDRreav   QD_M  QD_PS  QD_L  \\\n",
       "Code                                                                       \n",
       "AA300    116.0     116.0    120.0     130.0    136.0  138.0   74.0  42.0   \n",
       "AA510      NaN       NaN      NaN       NaN      NaN  157.0  102.0  72.0   \n",
       "AA292      NaN       NaN      NaN       NaN      NaN  106.0   95.0  54.0   \n",
       "AA934      NaN       NaN      NaN       NaN      NaN   58.0   40.0  20.0   \n",
       "AA285      NaN       NaN      NaN       NaN      NaN   83.0   71.0  71.0   \n",
       "AA261      NaN       NaN      NaN       NaN      NaN  108.0  102.0  95.0   \n",
       "AA252      NaN       NaN      NaN       NaN      NaN   76.0   57.0  59.0   \n",
       "\n",
       "       QD_EH   QD_R  Diag_Age  QDQI_Age Verbal verbal  \n",
       "Code                                                   \n",
       "AA300   60.0   79.0       2.0      32.0   True     No  \n",
       "AA510  104.0  104.0       2.0      22.0   True     No  \n",
       "AA292   78.0   82.0       4.0      58.0   True     No  \n",
       "AA934   31.0   34.0       NaN      86.0   True     No  \n",
       "AA285   81.0   68.0       4.0      66.0   True     No  \n",
       "AA261  119.0   95.0       2.0      59.0   True     No  \n",
       "AA252   69.0   67.0       2.0      29.0   True     No  "
      ]
     },
     "execution_count": 114,
     "metadata": {},
     "output_type": "execute_result"
    }
   ],
   "source": [
    "df.loc[['AA300', 'AA510', 'AA292', 'AA934', 'AA285', 'AA261', 'AA252'],\n",
    "       ['QDMreav', 'QDPSreav', 'QDLreav', 'QDEHreav','QDRreav',\n",
    "        'QD_M', 'QD_PS', 'QD_L', 'QD_EH', 'QD_R',\n",
    "        'Diag_Age', 'QDQI_Age', 'Verbal', 'verbal']]"
   ]
  },
  {
   "cell_type": "code",
   "execution_count": 115,
   "metadata": {},
   "outputs": [],
   "source": [
    "# replace values of column Verbal\n",
    "df.Verbal = df.Verbal.replace({True: 'Yes', False: 'No'})\n",
    "df_original.Verbal = df_original.Verbal.replace({True: 'Yes', False: 'No'})"
   ]
  },
  {
   "cell_type": "markdown",
   "metadata": {},
   "source": [
    "### Update QD Columns with Reavaluation Values "
   ]
  },
  {
   "cell_type": "code",
   "execution_count": 116,
   "metadata": {},
   "outputs": [
    {
     "data": {
      "text/html": [
       "<div>\n",
       "<style scoped>\n",
       "    .dataframe tbody tr th:only-of-type {\n",
       "        vertical-align: middle;\n",
       "    }\n",
       "\n",
       "    .dataframe tbody tr th {\n",
       "        vertical-align: top;\n",
       "    }\n",
       "\n",
       "    .dataframe thead th {\n",
       "        text-align: right;\n",
       "    }\n",
       "</style>\n",
       "<table border=\"1\" class=\"dataframe\">\n",
       "  <thead>\n",
       "    <tr style=\"text-align: right;\">\n",
       "      <th></th>\n",
       "      <th>QDMreav</th>\n",
       "      <th>QDPSreav</th>\n",
       "      <th>QDLreav</th>\n",
       "      <th>QDEHreav</th>\n",
       "      <th>QDRreav</th>\n",
       "      <th>QD_M</th>\n",
       "      <th>QD_PS</th>\n",
       "      <th>QD_L</th>\n",
       "      <th>QD_EH</th>\n",
       "      <th>QD_R</th>\n",
       "    </tr>\n",
       "    <tr>\n",
       "      <th>Code</th>\n",
       "      <th></th>\n",
       "      <th></th>\n",
       "      <th></th>\n",
       "      <th></th>\n",
       "      <th></th>\n",
       "      <th></th>\n",
       "      <th></th>\n",
       "      <th></th>\n",
       "      <th></th>\n",
       "      <th></th>\n",
       "    </tr>\n",
       "  </thead>\n",
       "  <tbody>\n",
       "    <tr>\n",
       "      <th>AA605</th>\n",
       "      <td>82.0</td>\n",
       "      <td>68.0</td>\n",
       "      <td>68.0</td>\n",
       "      <td>80.0</td>\n",
       "      <td>80.0</td>\n",
       "      <td>NaN</td>\n",
       "      <td>57.0</td>\n",
       "      <td>70.0</td>\n",
       "      <td>54.0</td>\n",
       "      <td>60.0</td>\n",
       "    </tr>\n",
       "    <tr>\n",
       "      <th>AA625</th>\n",
       "      <td>91.0</td>\n",
       "      <td>88.0</td>\n",
       "      <td>76.0</td>\n",
       "      <td>102.0</td>\n",
       "      <td>132.0</td>\n",
       "      <td>68.0</td>\n",
       "      <td>63.0</td>\n",
       "      <td>NaN</td>\n",
       "      <td>77.0</td>\n",
       "      <td>86.0</td>\n",
       "    </tr>\n",
       "    <tr>\n",
       "      <th>AA300</th>\n",
       "      <td>116.0</td>\n",
       "      <td>116.0</td>\n",
       "      <td>120.0</td>\n",
       "      <td>130.0</td>\n",
       "      <td>136.0</td>\n",
       "      <td>138.0</td>\n",
       "      <td>74.0</td>\n",
       "      <td>42.0</td>\n",
       "      <td>60.0</td>\n",
       "      <td>79.0</td>\n",
       "    </tr>\n",
       "    <tr>\n",
       "      <th>AA719</th>\n",
       "      <td>66.0</td>\n",
       "      <td>34.0</td>\n",
       "      <td>21.0</td>\n",
       "      <td>34.0</td>\n",
       "      <td>59.0</td>\n",
       "      <td>58.0</td>\n",
       "      <td>58.0</td>\n",
       "      <td>58.0</td>\n",
       "      <td>58.0</td>\n",
       "      <td>58.0</td>\n",
       "    </tr>\n",
       "    <tr>\n",
       "      <th>AA689</th>\n",
       "      <td>90.0</td>\n",
       "      <td>81.0</td>\n",
       "      <td>77.0</td>\n",
       "      <td>63.0</td>\n",
       "      <td>86.0</td>\n",
       "      <td>85.0</td>\n",
       "      <td>59.0</td>\n",
       "      <td>52.0</td>\n",
       "      <td>69.0</td>\n",
       "      <td>59.0</td>\n",
       "    </tr>\n",
       "    <tr>\n",
       "      <th>AA179</th>\n",
       "      <td>NaN</td>\n",
       "      <td>NaN</td>\n",
       "      <td>NaN</td>\n",
       "      <td>NaN</td>\n",
       "      <td>NaN</td>\n",
       "      <td>33.0</td>\n",
       "      <td>24.0</td>\n",
       "      <td>NaN</td>\n",
       "      <td>23.0</td>\n",
       "      <td>34.0</td>\n",
       "    </tr>\n",
       "  </tbody>\n",
       "</table>\n",
       "</div>"
      ],
      "text/plain": [
       "       QDMreav  QDPSreav  QDLreav  QDEHreav  QDRreav   QD_M  QD_PS  QD_L  \\\n",
       "Code                                                                       \n",
       "AA605     82.0      68.0     68.0      80.0     80.0    NaN   57.0  70.0   \n",
       "AA625     91.0      88.0     76.0     102.0    132.0   68.0   63.0   NaN   \n",
       "AA300    116.0     116.0    120.0     130.0    136.0  138.0   74.0  42.0   \n",
       "AA719     66.0      34.0     21.0      34.0     59.0   58.0   58.0  58.0   \n",
       "AA689     90.0      81.0     77.0      63.0     86.0   85.0   59.0  52.0   \n",
       "AA179      NaN       NaN      NaN       NaN      NaN   33.0   24.0   NaN   \n",
       "\n",
       "       QD_EH  QD_R  \n",
       "Code                \n",
       "AA605   54.0  60.0  \n",
       "AA625   77.0  86.0  \n",
       "AA300   60.0  79.0  \n",
       "AA719   58.0  58.0  \n",
       "AA689   69.0  59.0  \n",
       "AA179   23.0  34.0  "
      ]
     },
     "execution_count": 116,
     "metadata": {},
     "output_type": "execute_result"
    }
   ],
   "source": [
    "df.loc[['AA605', 'AA625', 'AA300', 'AA719', 'AA689', 'AA179'],\n",
    "       ['QDMreav', 'QDPSreav', 'QDLreav', 'QDEHreav','QDRreav',\n",
    "        'QD_M', 'QD_PS', 'QD_L', 'QD_EH', 'QD_R']]"
   ]
  },
  {
   "cell_type": "code",
   "execution_count": 117,
   "metadata": {},
   "outputs": [],
   "source": [
    "df['QD_M'] = df.apply(lambda x: x['QD_M'] if pd.isna(x['QDMreav']) else x['QDMreav'], axis=1)"
   ]
  },
  {
   "cell_type": "code",
   "execution_count": 118,
   "metadata": {},
   "outputs": [],
   "source": [
    "df['QD_PS'] = df.apply(lambda x: x['QD_PS'] if pd.isna(x['QDPSreav']) else x['QDPSreav'], axis=1)"
   ]
  },
  {
   "cell_type": "code",
   "execution_count": 119,
   "metadata": {},
   "outputs": [],
   "source": [
    "df['QD_EH'] = df.apply(lambda x: x['QD_EH'] if pd.isna(x['QDEHreav']) else x['QDEHreav'], axis=1)"
   ]
  },
  {
   "cell_type": "code",
   "execution_count": 120,
   "metadata": {},
   "outputs": [],
   "source": [
    "df['QD_R'] = df.apply(lambda x: x['QD_R'] if pd.isna(x['QDRreav']) else x['QDRreav'], axis=1)"
   ]
  },
  {
   "cell_type": "code",
   "execution_count": 121,
   "metadata": {},
   "outputs": [],
   "source": [
    "df['QD_L'] = df.apply(lambda x: x['QD_L'] if pd.isna(x['QDLreav']) else x['QDLreav'], axis=1)"
   ]
  },
  {
   "cell_type": "markdown",
   "metadata": {},
   "source": [
    "### Exclusion of Samples with ages > 8 When Griffiths Was Performed"
   ]
  },
  {
   "cell_type": "code",
   "execution_count": 122,
   "metadata": {},
   "outputs": [],
   "source": [
    "# Convert age values from months to years\n",
    "df.QDQI_Age = df.QDQI_Age.div(12).round(0)\n",
    "df_original.QDQI_Age = df_original.QDQI_Age.div(12).round(0)"
   ]
  },
  {
   "cell_type": "code",
   "execution_count": 123,
   "metadata": {},
   "outputs": [
    {
     "data": {
      "text/plain": [
       "array([ 8.000e+00,  7.000e+00,  1.000e+01,  9.000e+00,  1.600e+01,\n",
       "        1.100e+01,        nan,  4.000e+00,  6.000e+00,  3.000e+00,\n",
       "        1.200e+01,  5.000e+00,  1.400e+01,  1.300e+01,  2.000e+00,\n",
       "        1.900e+01, -1.996e+03, -2.006e+03,  0.000e+00, -2.008e+03])"
      ]
     },
     "execution_count": 123,
     "metadata": {},
     "output_type": "execute_result"
    }
   ],
   "source": [
    "df.QDQI_Age.unique()"
   ]
  },
  {
   "cell_type": "code",
   "execution_count": 124,
   "metadata": {},
   "outputs": [
    {
     "data": {
      "text/plain": [
       "Index(['AA514', 'AA573', 'AA663', 'AA768', 'AA859'], dtype='object', name='Code')"
      ]
     },
     "execution_count": 124,
     "metadata": {},
     "output_type": "execute_result"
    }
   ],
   "source": [
    "# Indexes with strange age values\n",
    "strange_ages = df[df.QDQI_Age <= 0].index\n",
    "strange_ages"
   ]
  },
  {
   "cell_type": "code",
   "execution_count": 125,
   "metadata": {},
   "outputs": [],
   "source": [
    "# Drop indexes with strange ages that do not have QD information\n",
    "strange_ages_withou_qd = ['AA573', 'AA663', 'AA514', 'AA859']\n",
    "df.drop(strange_ages_withou_qd, inplace = True)"
   ]
  },
  {
   "cell_type": "code",
   "execution_count": 126,
   "metadata": {},
   "outputs": [],
   "source": [
    "# Create dataframe with QD and Age values \n",
    "qd_age = df[['QD_M', 'QD_PS', 'QD_L', 'QD_EH', 'QD_R', \n",
    "             'QDMreav', 'QDEHreav', 'QDPSreav', 'QDRreav', 'QDLreav',\n",
    "             'Diag_Age', 'QDQI_Age']].copy()"
   ]
  },
  {
   "cell_type": "code",
   "execution_count": 127,
   "metadata": {},
   "outputs": [
    {
     "data": {
      "text/plain": [
       "670"
      ]
     },
     "execution_count": 127,
     "metadata": {},
     "output_type": "execute_result"
    }
   ],
   "source": [
    "# Number of samples with ages less or equal to 8 at the time of Griffiths evaluation\n",
    "len(df[(df.QDQI_Age <= 8)])"
   ]
  },
  {
   "cell_type": "code",
   "execution_count": 128,
   "metadata": {},
   "outputs": [
    {
     "data": {
      "text/plain": [
       "102"
      ]
     },
     "execution_count": 128,
     "metadata": {},
     "output_type": "execute_result"
    }
   ],
   "source": [
    "# Number of samples with ages greater thab 8 at the time of Griffiths evaluation\n",
    "age_qd_h8 = df[(df.QDQI_Age > 8)].index\n",
    "len(age_qd_h8)"
   ]
  },
  {
   "cell_type": "code",
   "execution_count": 129,
   "metadata": {},
   "outputs": [],
   "source": [
    "# Drop of all samples with ages greater thab 8 at the time of Griffiths evaluation\n",
    "df.drop(age_qd_h8, inplace = True)"
   ]
  },
  {
   "cell_type": "code",
   "execution_count": 130,
   "metadata": {},
   "outputs": [
    {
     "data": {
      "text/plain": [
       "Index(['AA925'], dtype='object', name='Code')"
      ]
     },
     "execution_count": 130,
     "metadata": {},
     "output_type": "execute_result"
    }
   ],
   "source": [
    "# Index of samples with ages less or equal to 8 at the time of Griffiths evaluation, but do not have any value for QD\n",
    "age_qd_l8 = df[(df.QDQI_Age <= 8) \n",
    "               & (df.QD_M.isnull()) & (df.QD_PS.isnull()) \n",
    "               & (df.QD_EH.isnull()) & (df.QD_R.isnull())\n",
    "               & (df.QD_L.isnull())].index\n",
    "age_qd_l8"
   ]
  },
  {
   "cell_type": "code",
   "execution_count": 131,
   "metadata": {},
   "outputs": [
    {
     "data": {
      "text/plain": [
       "18"
      ]
     },
     "execution_count": 131,
     "metadata": {},
     "output_type": "execute_result"
    }
   ],
   "source": [
    "# Number of samples with diagnostic age greater than 8\n",
    "len(df[(df.Diag_Age > 8)])"
   ]
  },
  {
   "cell_type": "code",
   "execution_count": 132,
   "metadata": {},
   "outputs": [
    {
     "data": {
      "text/plain": [
       "Index(['AA158'], dtype='object', name='Code')"
      ]
     },
     "execution_count": 132,
     "metadata": {},
     "output_type": "execute_result"
    }
   ],
   "source": [
    "# Index of samples with diagnostic age greater than 8 but with no values for age at the time of Griffiths evaluation \n",
    "# and with QD values\n",
    "qd_null_da_h8 = df[(df.Diag_Age > 8) & (df.QDQI_Age.isnull()) \n",
    "               & (~df.QD_M.isnull()) & (~df.QD_PS.isnull()) \n",
    "               & (~df.QD_EH.isnull()) & (~df.QD_R.isnull())\n",
    "               & (~df.QD_L.isnull())].index\n",
    "qd_null_da_h8"
   ]
  },
  {
   "cell_type": "code",
   "execution_count": 133,
   "metadata": {},
   "outputs": [],
   "source": [
    "df.drop(qd_null_da_h8, inplace = True)"
   ]
  },
  {
   "cell_type": "code",
   "execution_count": 134,
   "metadata": {},
   "outputs": [
    {
     "data": {
      "text/plain": [
       "Index(['AA136'], dtype='object', name='Code')"
      ]
     },
     "execution_count": 134,
     "metadata": {},
     "output_type": "execute_result"
    }
   ],
   "source": [
    "# Index of samples with diagnostic age greater than 8 but less or equal to 8 at the time of Griffiths evaluation \n",
    "# and with QD values\n",
    "da_h8_qd_l8 = df[(df.Diag_Age > 8) & (df.QDQI_Age <= 8)  \n",
    "               & (~df.QD_M.isnull()) & (~df.QD_PS.isnull()) \n",
    "               & (~df.QD_EH.isnull()) & (~df.QD_R.isnull())\n",
    "               & (~df.QD_L.isnull())].index\n",
    "da_h8_qd_l8"
   ]
  },
  {
   "cell_type": "code",
   "execution_count": 135,
   "metadata": {},
   "outputs": [],
   "source": [
    "df.drop(da_h8_qd_l8, inplace = True)"
   ]
  },
  {
   "cell_type": "code",
   "execution_count": 136,
   "metadata": {},
   "outputs": [
    {
     "data": {
      "text/plain": [
       "Index(['AA16', 'AA85', 'AA101', 'AA190', 'AA496', 'AA349', 'AA328', 'AA322',\n",
       "       'AA265', 'AA406', 'AA335', 'AA401', 'AA374', 'AA461', 'AA462', 'AA604'],\n",
       "      dtype='object', name='Code')"
      ]
     },
     "execution_count": 136,
     "metadata": {},
     "output_type": "execute_result"
    }
   ],
   "source": [
    "# Index of samples with diagnostic age greater than 8 but with no values for age at the time of Griffiths evaluation\n",
    "# and with no QD values\n",
    "diag_age_h8 = df[(df.Diag_Age > 8) & (df.QDQI_Age.isnull())\n",
    "               & (df.QD_M.isnull()) & (df.QD_PS.isnull()) \n",
    "               & (df.QD_EH.isnull()) & (df.QD_R.isnull())\n",
    "               & (df.QD_L.isnull())].index\n",
    "diag_age_h8"
   ]
  },
  {
   "cell_type": "code",
   "execution_count": 137,
   "metadata": {},
   "outputs": [],
   "source": [
    "# Drop of samples with diagnostic age greater than 8 but with no values for age at the time of Griffiths evaluation\n",
    "# and with no QD values\n",
    "df.drop(diag_age_h8, inplace = True)"
   ]
  },
  {
   "cell_type": "code",
   "execution_count": 138,
   "metadata": {},
   "outputs": [
    {
     "data": {
      "text/html": [
       "<div>\n",
       "<style scoped>\n",
       "    .dataframe tbody tr th:only-of-type {\n",
       "        vertical-align: middle;\n",
       "    }\n",
       "\n",
       "    .dataframe tbody tr th {\n",
       "        vertical-align: top;\n",
       "    }\n",
       "\n",
       "    .dataframe thead th {\n",
       "        text-align: right;\n",
       "    }\n",
       "</style>\n",
       "<table border=\"1\" class=\"dataframe\">\n",
       "  <thead>\n",
       "    <tr style=\"text-align: right;\">\n",
       "      <th></th>\n",
       "      <th>QD_M</th>\n",
       "      <th>QD_PS</th>\n",
       "      <th>QD_L</th>\n",
       "      <th>QD_EH</th>\n",
       "      <th>QD_R</th>\n",
       "      <th>QDMreav</th>\n",
       "      <th>QDEHreav</th>\n",
       "      <th>QDPSreav</th>\n",
       "      <th>QDRreav</th>\n",
       "      <th>QDLreav</th>\n",
       "      <th>Diag_Age</th>\n",
       "      <th>QDQI_Age</th>\n",
       "    </tr>\n",
       "    <tr>\n",
       "      <th>Code</th>\n",
       "      <th></th>\n",
       "      <th></th>\n",
       "      <th></th>\n",
       "      <th></th>\n",
       "      <th></th>\n",
       "      <th></th>\n",
       "      <th></th>\n",
       "      <th></th>\n",
       "      <th></th>\n",
       "      <th></th>\n",
       "      <th></th>\n",
       "      <th></th>\n",
       "    </tr>\n",
       "  </thead>\n",
       "  <tbody>\n",
       "    <tr>\n",
       "      <th>AA1</th>\n",
       "      <td>47.0</td>\n",
       "      <td>35.0</td>\n",
       "      <td>13.0</td>\n",
       "      <td>28.0</td>\n",
       "      <td>38.0</td>\n",
       "      <td>NaN</td>\n",
       "      <td>NaN</td>\n",
       "      <td>NaN</td>\n",
       "      <td>NaN</td>\n",
       "      <td>NaN</td>\n",
       "      <td>2.0</td>\n",
       "      <td>8.0</td>\n",
       "    </tr>\n",
       "    <tr>\n",
       "      <th>AA34</th>\n",
       "      <td>43.0</td>\n",
       "      <td>27.0</td>\n",
       "      <td>18.0</td>\n",
       "      <td>25.0</td>\n",
       "      <td>31.0</td>\n",
       "      <td>NaN</td>\n",
       "      <td>NaN</td>\n",
       "      <td>NaN</td>\n",
       "      <td>NaN</td>\n",
       "      <td>NaN</td>\n",
       "      <td>7.0</td>\n",
       "      <td>8.0</td>\n",
       "    </tr>\n",
       "    <tr>\n",
       "      <th>AA36</th>\n",
       "      <td>52.0</td>\n",
       "      <td>35.0</td>\n",
       "      <td>8.0</td>\n",
       "      <td>31.0</td>\n",
       "      <td>45.0</td>\n",
       "      <td>NaN</td>\n",
       "      <td>NaN</td>\n",
       "      <td>NaN</td>\n",
       "      <td>NaN</td>\n",
       "      <td>NaN</td>\n",
       "      <td>6.0</td>\n",
       "      <td>7.0</td>\n",
       "    </tr>\n",
       "    <tr>\n",
       "      <th>AA72</th>\n",
       "      <td>29.0</td>\n",
       "      <td>21.0</td>\n",
       "      <td>23.0</td>\n",
       "      <td>21.0</td>\n",
       "      <td>20.0</td>\n",
       "      <td>NaN</td>\n",
       "      <td>NaN</td>\n",
       "      <td>NaN</td>\n",
       "      <td>NaN</td>\n",
       "      <td>NaN</td>\n",
       "      <td>NaN</td>\n",
       "      <td>7.0</td>\n",
       "    </tr>\n",
       "    <tr>\n",
       "      <th>AA86</th>\n",
       "      <td>30.0</td>\n",
       "      <td>26.0</td>\n",
       "      <td>12.0</td>\n",
       "      <td>18.0</td>\n",
       "      <td>29.0</td>\n",
       "      <td>NaN</td>\n",
       "      <td>NaN</td>\n",
       "      <td>NaN</td>\n",
       "      <td>NaN</td>\n",
       "      <td>NaN</td>\n",
       "      <td>NaN</td>\n",
       "      <td>10.0</td>\n",
       "    </tr>\n",
       "    <tr>\n",
       "      <th>...</th>\n",
       "      <td>...</td>\n",
       "      <td>...</td>\n",
       "      <td>...</td>\n",
       "      <td>...</td>\n",
       "      <td>...</td>\n",
       "      <td>...</td>\n",
       "      <td>...</td>\n",
       "      <td>...</td>\n",
       "      <td>...</td>\n",
       "      <td>...</td>\n",
       "      <td>...</td>\n",
       "      <td>...</td>\n",
       "    </tr>\n",
       "    <tr>\n",
       "      <th>AA946</th>\n",
       "      <td>NaN</td>\n",
       "      <td>NaN</td>\n",
       "      <td>NaN</td>\n",
       "      <td>NaN</td>\n",
       "      <td>NaN</td>\n",
       "      <td>NaN</td>\n",
       "      <td>NaN</td>\n",
       "      <td>NaN</td>\n",
       "      <td>NaN</td>\n",
       "      <td>NaN</td>\n",
       "      <td>NaN</td>\n",
       "      <td>NaN</td>\n",
       "    </tr>\n",
       "    <tr>\n",
       "      <th>AA943</th>\n",
       "      <td>NaN</td>\n",
       "      <td>NaN</td>\n",
       "      <td>NaN</td>\n",
       "      <td>NaN</td>\n",
       "      <td>NaN</td>\n",
       "      <td>NaN</td>\n",
       "      <td>NaN</td>\n",
       "      <td>NaN</td>\n",
       "      <td>NaN</td>\n",
       "      <td>NaN</td>\n",
       "      <td>NaN</td>\n",
       "      <td>NaN</td>\n",
       "    </tr>\n",
       "    <tr>\n",
       "      <th>AA944</th>\n",
       "      <td>NaN</td>\n",
       "      <td>NaN</td>\n",
       "      <td>NaN</td>\n",
       "      <td>NaN</td>\n",
       "      <td>NaN</td>\n",
       "      <td>NaN</td>\n",
       "      <td>NaN</td>\n",
       "      <td>NaN</td>\n",
       "      <td>NaN</td>\n",
       "      <td>NaN</td>\n",
       "      <td>NaN</td>\n",
       "      <td>NaN</td>\n",
       "    </tr>\n",
       "    <tr>\n",
       "      <th>AA950</th>\n",
       "      <td>NaN</td>\n",
       "      <td>NaN</td>\n",
       "      <td>NaN</td>\n",
       "      <td>NaN</td>\n",
       "      <td>NaN</td>\n",
       "      <td>NaN</td>\n",
       "      <td>NaN</td>\n",
       "      <td>NaN</td>\n",
       "      <td>NaN</td>\n",
       "      <td>NaN</td>\n",
       "      <td>NaN</td>\n",
       "      <td>NaN</td>\n",
       "    </tr>\n",
       "    <tr>\n",
       "      <th>AA951</th>\n",
       "      <td>NaN</td>\n",
       "      <td>NaN</td>\n",
       "      <td>NaN</td>\n",
       "      <td>NaN</td>\n",
       "      <td>NaN</td>\n",
       "      <td>NaN</td>\n",
       "      <td>NaN</td>\n",
       "      <td>NaN</td>\n",
       "      <td>NaN</td>\n",
       "      <td>NaN</td>\n",
       "      <td>NaN</td>\n",
       "      <td>NaN</td>\n",
       "    </tr>\n",
       "  </tbody>\n",
       "</table>\n",
       "<p>874 rows × 12 columns</p>\n",
       "</div>"
      ],
      "text/plain": [
       "       QD_M  QD_PS  QD_L  QD_EH  QD_R  QDMreav  QDEHreav  QDPSreav  QDRreav  \\\n",
       "Code                                                                          \n",
       "AA1    47.0   35.0  13.0   28.0  38.0      NaN       NaN       NaN      NaN   \n",
       "AA34   43.0   27.0  18.0   25.0  31.0      NaN       NaN       NaN      NaN   \n",
       "AA36   52.0   35.0   8.0   31.0  45.0      NaN       NaN       NaN      NaN   \n",
       "AA72   29.0   21.0  23.0   21.0  20.0      NaN       NaN       NaN      NaN   \n",
       "AA86   30.0   26.0  12.0   18.0  29.0      NaN       NaN       NaN      NaN   \n",
       "...     ...    ...   ...    ...   ...      ...       ...       ...      ...   \n",
       "AA946   NaN    NaN   NaN    NaN   NaN      NaN       NaN       NaN      NaN   \n",
       "AA943   NaN    NaN   NaN    NaN   NaN      NaN       NaN       NaN      NaN   \n",
       "AA944   NaN    NaN   NaN    NaN   NaN      NaN       NaN       NaN      NaN   \n",
       "AA950   NaN    NaN   NaN    NaN   NaN      NaN       NaN       NaN      NaN   \n",
       "AA951   NaN    NaN   NaN    NaN   NaN      NaN       NaN       NaN      NaN   \n",
       "\n",
       "       QDLreav  Diag_Age  QDQI_Age  \n",
       "Code                                \n",
       "AA1        NaN       2.0       8.0  \n",
       "AA34       NaN       7.0       8.0  \n",
       "AA36       NaN       6.0       7.0  \n",
       "AA72       NaN       NaN       7.0  \n",
       "AA86       NaN       NaN      10.0  \n",
       "...        ...       ...       ...  \n",
       "AA946      NaN       NaN       NaN  \n",
       "AA943      NaN       NaN       NaN  \n",
       "AA944      NaN       NaN       NaN  \n",
       "AA950      NaN       NaN       NaN  \n",
       "AA951      NaN       NaN       NaN  \n",
       "\n",
       "[874 rows x 12 columns]"
      ]
     },
     "execution_count": 138,
     "metadata": {},
     "output_type": "execute_result"
    }
   ],
   "source": [
    "qd_age"
   ]
  },
  {
   "cell_type": "code",
   "execution_count": 139,
   "metadata": {},
   "outputs": [
    {
     "data": {
      "text/plain": [
       "Index(['AA161', 'AA97', 'AA141', 'AA125', 'AA305', 'AA226', 'AA235', 'AA284',\n",
       "       'AA388', 'AA273', 'AA312', 'AA296', 'AA478', 'AA301', 'AA481', 'AA367',\n",
       "       'AA454', 'AA763', 'AA415', 'AA521', 'AA577', 'AA500', 'AA434', 'AA547',\n",
       "       'AA516', 'AA584', 'AA549', 'AA635', 'AA743', 'AA925', 'AA800', 'AA603',\n",
       "       'AA598', 'AA688', 'AA923', 'AA725', 'AA785', 'AA849', 'AA802', 'AA756',\n",
       "       'AA896', 'AA891', 'AA833', 'AA866', 'AA831', 'AA857', 'AA937', 'AA843',\n",
       "       'AA870', 'AA848', 'AA882', 'AA898', 'AA853', 'AA876', 'AA860', 'AA918',\n",
       "       'AA888', 'AA808', 'AA911', 'AA906', 'AA907', 'AA884', 'AA926', 'AA917',\n",
       "       'AA910', 'AA939', 'AA920', 'AA931', 'AA924', 'AA948', 'AA941', 'AA936',\n",
       "       'AA949', 'AA935', 'AA947', 'AA946', 'AA943', 'AA944', 'AA950', 'AA951'],\n",
       "      dtype='object', name='Code')"
      ]
     },
     "execution_count": 139,
     "metadata": {},
     "output_type": "execute_result"
    }
   ],
   "source": [
    "# Index of samples that do not have values for QD \n",
    "qd_na = df[(df.QD_M.isnull()) & (df.QD_PS.isnull()) \n",
    "                   & (df.QD_EH.isnull()) & (df.QD_R.isnull())\n",
    "                   & (df.QD_L.isnull())].index\n",
    "qd_na"
   ]
  },
  {
   "cell_type": "code",
   "execution_count": 140,
   "metadata": {},
   "outputs": [
    {
     "data": {
      "text/plain": [
       "Index(['AA97', 'AA603', 'AA688', 'AA923', 'AA725', 'AA785', 'AA849', 'AA802',\n",
       "       'AA756', 'AA896', 'AA891', 'AA833', 'AA866', 'AA831', 'AA857', 'AA937',\n",
       "       'AA843', 'AA870', 'AA848', 'AA882', 'AA898', 'AA853', 'AA876', 'AA860',\n",
       "       'AA918', 'AA888', 'AA808', 'AA911', 'AA906', 'AA907', 'AA884', 'AA926',\n",
       "       'AA917', 'AA910', 'AA939', 'AA920', 'AA931', 'AA924', 'AA948', 'AA941',\n",
       "       'AA936', 'AA949', 'AA935', 'AA947', 'AA946', 'AA943', 'AA944', 'AA950',\n",
       "       'AA951'],\n",
       "      dtype='object', name='Code')"
      ]
     },
     "execution_count": 140,
     "metadata": {},
     "output_type": "execute_result"
    }
   ],
   "source": [
    "# Index of samples that do not have values for age or QD \n",
    "qd_age_na = df[(df.Diag_Age.isnull()) & (df.QDQI_Age.isnull())\n",
    "                   & (df.QD_M.isnull()) & (df.QD_PS.isnull()) \n",
    "                   & (df.QD_EH.isnull()) & (df.QD_R.isnull())\n",
    "                   & (df.QD_L.isnull())].index\n",
    "qd_age_na"
   ]
  },
  {
   "cell_type": "code",
   "execution_count": 141,
   "metadata": {},
   "outputs": [
    {
     "data": {
      "text/html": [
       "<div>\n",
       "<style scoped>\n",
       "    .dataframe tbody tr th:only-of-type {\n",
       "        vertical-align: middle;\n",
       "    }\n",
       "\n",
       "    .dataframe tbody tr th {\n",
       "        vertical-align: top;\n",
       "    }\n",
       "\n",
       "    .dataframe thead th {\n",
       "        text-align: right;\n",
       "    }\n",
       "</style>\n",
       "<table border=\"1\" class=\"dataframe\">\n",
       "  <thead>\n",
       "    <tr style=\"text-align: right;\">\n",
       "      <th></th>\n",
       "      <th>BD</th>\n",
       "      <th>Observation_Date</th>\n",
       "    </tr>\n",
       "    <tr>\n",
       "      <th>Code</th>\n",
       "      <th></th>\n",
       "      <th></th>\n",
       "    </tr>\n",
       "  </thead>\n",
       "  <tbody>\n",
       "    <tr>\n",
       "      <th>AA97</th>\n",
       "      <td>1996-02-01 00:00:00</td>\n",
       "      <td>NaN</td>\n",
       "    </tr>\n",
       "    <tr>\n",
       "      <th>AA603</th>\n",
       "      <td>2003-04-14 00:00:00</td>\n",
       "      <td>2011-03-01 00:00:00</td>\n",
       "    </tr>\n",
       "    <tr>\n",
       "      <th>AA688</th>\n",
       "      <td>2008-09-10 00:00:00</td>\n",
       "      <td>2012-07-05 00:00:00</td>\n",
       "    </tr>\n",
       "    <tr>\n",
       "      <th>AA923</th>\n",
       "      <td>2009.04.14</td>\n",
       "      <td>2013.08.21</td>\n",
       "    </tr>\n",
       "    <tr>\n",
       "      <th>AA725</th>\n",
       "      <td>1997-12-30 00:00:00</td>\n",
       "      <td>2013-11-29 00:00:00</td>\n",
       "    </tr>\n",
       "    <tr>\n",
       "      <th>AA785</th>\n",
       "      <td>2004-07-31 00:00:00</td>\n",
       "      <td>2014-02-17 00:00:00</td>\n",
       "    </tr>\n",
       "    <tr>\n",
       "      <th>AA849</th>\n",
       "      <td>2010.01.01</td>\n",
       "      <td>2014.03.11</td>\n",
       "    </tr>\n",
       "    <tr>\n",
       "      <th>AA802</th>\n",
       "      <td>2009.10.03</td>\n",
       "      <td>2014-03-25 00:00:00</td>\n",
       "    </tr>\n",
       "    <tr>\n",
       "      <th>AA756</th>\n",
       "      <td>2010.10.05</td>\n",
       "      <td>2014-05-13 00:00:00</td>\n",
       "    </tr>\n",
       "    <tr>\n",
       "      <th>AA896</th>\n",
       "      <td>2011-10-12 00:00:00</td>\n",
       "      <td>2015-09-21 00:00:00</td>\n",
       "    </tr>\n",
       "    <tr>\n",
       "      <th>AA891</th>\n",
       "      <td>2008-09-26 00:00:00</td>\n",
       "      <td>2016-02-22 00:00:00</td>\n",
       "    </tr>\n",
       "    <tr>\n",
       "      <th>AA833</th>\n",
       "      <td>2013-11-03 00:00:00</td>\n",
       "      <td>2016-03-14 00:00:00</td>\n",
       "    </tr>\n",
       "    <tr>\n",
       "      <th>AA866</th>\n",
       "      <td>2009-09-12 00:00:00</td>\n",
       "      <td>2016-06-14 00:00:00</td>\n",
       "    </tr>\n",
       "    <tr>\n",
       "      <th>AA831</th>\n",
       "      <td>2012-12-20 00:00:00</td>\n",
       "      <td>2016-06-22 00:00:00</td>\n",
       "    </tr>\n",
       "    <tr>\n",
       "      <th>AA857</th>\n",
       "      <td>2002-09-26 00:00:00</td>\n",
       "      <td>2016-07-27 00:00:00</td>\n",
       "    </tr>\n",
       "    <tr>\n",
       "      <th>AA937</th>\n",
       "      <td>2005-08-30 00:00:00</td>\n",
       "      <td>2016-01-12 00:00:00</td>\n",
       "    </tr>\n",
       "    <tr>\n",
       "      <th>AA843</th>\n",
       "      <td>2013-09-08 00:00:00</td>\n",
       "      <td>2016-12-15 00:00:00</td>\n",
       "    </tr>\n",
       "    <tr>\n",
       "      <th>AA870</th>\n",
       "      <td>2014-01-16 00:00:00</td>\n",
       "      <td>2017-03-29 00:00:00</td>\n",
       "    </tr>\n",
       "    <tr>\n",
       "      <th>AA848</th>\n",
       "      <td>2012-03-25 00:00:00</td>\n",
       "      <td>2017-04-04 00:00:00</td>\n",
       "    </tr>\n",
       "    <tr>\n",
       "      <th>AA882</th>\n",
       "      <td>2012-05-29 00:00:00</td>\n",
       "      <td>2017-04-05 00:00:00</td>\n",
       "    </tr>\n",
       "    <tr>\n",
       "      <th>AA898</th>\n",
       "      <td>2011-04-06 00:00:00</td>\n",
       "      <td>2017-04-06 00:00:00</td>\n",
       "    </tr>\n",
       "    <tr>\n",
       "      <th>AA853</th>\n",
       "      <td>2009-12-14 00:00:00</td>\n",
       "      <td>2017-06-06 00:00:00</td>\n",
       "    </tr>\n",
       "    <tr>\n",
       "      <th>AA876</th>\n",
       "      <td>2010-06-02 00:00:00</td>\n",
       "      <td>2017-05-02 00:00:00</td>\n",
       "    </tr>\n",
       "    <tr>\n",
       "      <th>AA860</th>\n",
       "      <td>2008-09-25 00:00:00</td>\n",
       "      <td>2017-07-11 00:00:00</td>\n",
       "    </tr>\n",
       "    <tr>\n",
       "      <th>AA918</th>\n",
       "      <td>2006-04-19 00:00:00</td>\n",
       "      <td>2017-07-20 00:00:00</td>\n",
       "    </tr>\n",
       "    <tr>\n",
       "      <th>AA888</th>\n",
       "      <td>2005-05-29 00:00:00</td>\n",
       "      <td>NaN</td>\n",
       "    </tr>\n",
       "    <tr>\n",
       "      <th>AA808</th>\n",
       "      <td>2012-08-03 00:00:00</td>\n",
       "      <td>2015-02-23 00:00:00</td>\n",
       "    </tr>\n",
       "    <tr>\n",
       "      <th>AA911</th>\n",
       "      <td>2013-01-20 00:00:00</td>\n",
       "      <td>2018-01-10 00:00:00</td>\n",
       "    </tr>\n",
       "    <tr>\n",
       "      <th>AA906</th>\n",
       "      <td>2015-12-27 00:00:00</td>\n",
       "      <td>2018-02-07 00:00:00</td>\n",
       "    </tr>\n",
       "    <tr>\n",
       "      <th>AA907</th>\n",
       "      <td>2014-08-23 00:00:00</td>\n",
       "      <td>2018-02-12 00:00:00</td>\n",
       "    </tr>\n",
       "    <tr>\n",
       "      <th>AA884</th>\n",
       "      <td>2015-08-07 00:00:00</td>\n",
       "      <td>2018-02-21 00:00:00</td>\n",
       "    </tr>\n",
       "    <tr>\n",
       "      <th>AA926</th>\n",
       "      <td>2014-09-05 00:00:00</td>\n",
       "      <td>2018-04-24 00:00:00</td>\n",
       "    </tr>\n",
       "    <tr>\n",
       "      <th>AA917</th>\n",
       "      <td>2015-11-25 00:00:00</td>\n",
       "      <td>2018-11-22 00:00:00</td>\n",
       "    </tr>\n",
       "    <tr>\n",
       "      <th>AA910</th>\n",
       "      <td>2015-10-04 00:00:00</td>\n",
       "      <td>2019-01-15 00:00:00</td>\n",
       "    </tr>\n",
       "    <tr>\n",
       "      <th>AA939</th>\n",
       "      <td>2014-06-08 00:00:00</td>\n",
       "      <td>2019-01-21 00:00:00</td>\n",
       "    </tr>\n",
       "    <tr>\n",
       "      <th>AA920</th>\n",
       "      <td>2016-06-07 00:00:00</td>\n",
       "      <td>2019-01-29 00:00:00</td>\n",
       "    </tr>\n",
       "    <tr>\n",
       "      <th>AA931</th>\n",
       "      <td>2016-11-14 00:00:00</td>\n",
       "      <td>2019-01-30 00:00:00</td>\n",
       "    </tr>\n",
       "    <tr>\n",
       "      <th>AA924</th>\n",
       "      <td>2016-10-12 00:00:00</td>\n",
       "      <td>2019-05-17 00:00:00</td>\n",
       "    </tr>\n",
       "    <tr>\n",
       "      <th>AA948</th>\n",
       "      <td>2017-11-30 00:00:00</td>\n",
       "      <td>2019-07-24 00:00:00</td>\n",
       "    </tr>\n",
       "    <tr>\n",
       "      <th>AA941</th>\n",
       "      <td>2016-04-27 00:00:00</td>\n",
       "      <td>NaN</td>\n",
       "    </tr>\n",
       "    <tr>\n",
       "      <th>AA936</th>\n",
       "      <td>2017-08-13 00:00:00</td>\n",
       "      <td>2019-12-04 00:00:00</td>\n",
       "    </tr>\n",
       "    <tr>\n",
       "      <th>AA949</th>\n",
       "      <td>2017-10-05 00:00:00</td>\n",
       "      <td>2019-12-10 00:00:00</td>\n",
       "    </tr>\n",
       "    <tr>\n",
       "      <th>AA935</th>\n",
       "      <td>2017-01-14 00:00:00</td>\n",
       "      <td>2020-07-27 00:00:00</td>\n",
       "    </tr>\n",
       "    <tr>\n",
       "      <th>AA947</th>\n",
       "      <td>2015-03-06 00:00:00</td>\n",
       "      <td>NaN</td>\n",
       "    </tr>\n",
       "    <tr>\n",
       "      <th>AA946</th>\n",
       "      <td>2018-02-10 00:00:00</td>\n",
       "      <td>2021-03-22 00:00:00</td>\n",
       "    </tr>\n",
       "    <tr>\n",
       "      <th>AA943</th>\n",
       "      <td>2017-12-30 00:00:00</td>\n",
       "      <td>NaN</td>\n",
       "    </tr>\n",
       "    <tr>\n",
       "      <th>AA944</th>\n",
       "      <td>2018-12-21 00:00:00</td>\n",
       "      <td>NaN</td>\n",
       "    </tr>\n",
       "    <tr>\n",
       "      <th>AA950</th>\n",
       "      <td>2017-06-28 00:00:00</td>\n",
       "      <td>2022-02-03 00:00:00</td>\n",
       "    </tr>\n",
       "    <tr>\n",
       "      <th>AA951</th>\n",
       "      <td>2018-12-06 00:00:00</td>\n",
       "      <td>2022-03-22 00:00:00</td>\n",
       "    </tr>\n",
       "  </tbody>\n",
       "</table>\n",
       "</div>"
      ],
      "text/plain": [
       "                        BD     Observation_Date\n",
       "Code                                           \n",
       "AA97   1996-02-01 00:00:00                  NaN\n",
       "AA603  2003-04-14 00:00:00  2011-03-01 00:00:00\n",
       "AA688  2008-09-10 00:00:00  2012-07-05 00:00:00\n",
       "AA923           2009.04.14           2013.08.21\n",
       "AA725  1997-12-30 00:00:00  2013-11-29 00:00:00\n",
       "AA785  2004-07-31 00:00:00  2014-02-17 00:00:00\n",
       "AA849           2010.01.01           2014.03.11\n",
       "AA802           2009.10.03  2014-03-25 00:00:00\n",
       "AA756           2010.10.05  2014-05-13 00:00:00\n",
       "AA896  2011-10-12 00:00:00  2015-09-21 00:00:00\n",
       "AA891  2008-09-26 00:00:00  2016-02-22 00:00:00\n",
       "AA833  2013-11-03 00:00:00  2016-03-14 00:00:00\n",
       "AA866  2009-09-12 00:00:00  2016-06-14 00:00:00\n",
       "AA831  2012-12-20 00:00:00  2016-06-22 00:00:00\n",
       "AA857  2002-09-26 00:00:00  2016-07-27 00:00:00\n",
       "AA937  2005-08-30 00:00:00  2016-01-12 00:00:00\n",
       "AA843  2013-09-08 00:00:00  2016-12-15 00:00:00\n",
       "AA870  2014-01-16 00:00:00  2017-03-29 00:00:00\n",
       "AA848  2012-03-25 00:00:00  2017-04-04 00:00:00\n",
       "AA882  2012-05-29 00:00:00  2017-04-05 00:00:00\n",
       "AA898  2011-04-06 00:00:00  2017-04-06 00:00:00\n",
       "AA853  2009-12-14 00:00:00  2017-06-06 00:00:00\n",
       "AA876  2010-06-02 00:00:00  2017-05-02 00:00:00\n",
       "AA860  2008-09-25 00:00:00  2017-07-11 00:00:00\n",
       "AA918  2006-04-19 00:00:00  2017-07-20 00:00:00\n",
       "AA888  2005-05-29 00:00:00                  NaN\n",
       "AA808  2012-08-03 00:00:00  2015-02-23 00:00:00\n",
       "AA911  2013-01-20 00:00:00  2018-01-10 00:00:00\n",
       "AA906  2015-12-27 00:00:00  2018-02-07 00:00:00\n",
       "AA907  2014-08-23 00:00:00  2018-02-12 00:00:00\n",
       "AA884  2015-08-07 00:00:00  2018-02-21 00:00:00\n",
       "AA926  2014-09-05 00:00:00  2018-04-24 00:00:00\n",
       "AA917  2015-11-25 00:00:00  2018-11-22 00:00:00\n",
       "AA910  2015-10-04 00:00:00  2019-01-15 00:00:00\n",
       "AA939  2014-06-08 00:00:00  2019-01-21 00:00:00\n",
       "AA920  2016-06-07 00:00:00  2019-01-29 00:00:00\n",
       "AA931  2016-11-14 00:00:00  2019-01-30 00:00:00\n",
       "AA924  2016-10-12 00:00:00  2019-05-17 00:00:00\n",
       "AA948  2017-11-30 00:00:00  2019-07-24 00:00:00\n",
       "AA941  2016-04-27 00:00:00                  NaN\n",
       "AA936  2017-08-13 00:00:00  2019-12-04 00:00:00\n",
       "AA949  2017-10-05 00:00:00  2019-12-10 00:00:00\n",
       "AA935  2017-01-14 00:00:00  2020-07-27 00:00:00\n",
       "AA947  2015-03-06 00:00:00                  NaN\n",
       "AA946  2018-02-10 00:00:00  2021-03-22 00:00:00\n",
       "AA943  2017-12-30 00:00:00                  NaN\n",
       "AA944  2018-12-21 00:00:00                  NaN\n",
       "AA950  2017-06-28 00:00:00  2022-02-03 00:00:00\n",
       "AA951  2018-12-06 00:00:00  2022-03-22 00:00:00"
      ]
     },
     "execution_count": 141,
     "metadata": {},
     "output_type": "execute_result"
    }
   ],
   "source": [
    "# Samples that do not have values for age or QD and their date of birth or/and date of observation\n",
    "qd_age_na_date = df.loc[['AA97', 'AA603', 'AA688', 'AA923', 'AA725', 'AA785', 'AA849', 'AA802',\n",
    "       'AA756', 'AA896', 'AA891', 'AA833', 'AA866', 'AA831', 'AA857', 'AA937',\n",
    "       'AA843', 'AA870', 'AA848', 'AA882', 'AA898', 'AA853', 'AA876', 'AA860',\n",
    "       'AA918', 'AA888', 'AA808', 'AA911', 'AA906', 'AA907', 'AA884', 'AA926',\n",
    "       'AA917', 'AA910', 'AA939', 'AA920', 'AA931', 'AA924', 'AA948', 'AA941',\n",
    "       'AA936', 'AA949', 'AA935', 'AA947', 'AA946', 'AA943', 'AA944', 'AA950',\n",
    "       'AA951'],\n",
    "       ['BD', 'Observation_Date']]\n",
    "qd_age_na_date"
   ]
  },
  {
   "cell_type": "code",
   "execution_count": 142,
   "metadata": {},
   "outputs": [],
   "source": [
    "# Convert BD column to datatime type\n",
    "qd_age_na_date['BD'] = qd_age_na_date['BD'].astype('datetime64[s]')"
   ]
  },
  {
   "cell_type": "code",
   "execution_count": 143,
   "metadata": {},
   "outputs": [],
   "source": [
    "# Convert Observation_Date column to datatime type\n",
    "qd_age_na_date['Observation_Date'] = qd_age_na_date['Observation_Date'].astype('datetime64[s]')"
   ]
  },
  {
   "cell_type": "code",
   "execution_count": 144,
   "metadata": {},
   "outputs": [],
   "source": [
    "# Calculate the age at the time of observation\n",
    "qd_age_na_date['Difference'] = (qd_age_na_date['Observation_Date'] - qd_age_na_date['BD'])"
   ]
  },
  {
   "cell_type": "code",
   "execution_count": 145,
   "metadata": {},
   "outputs": [],
   "source": [
    "# Convert age from days to years\n",
    "qd_age_na_date.Difference = qd_age_na_date.Difference.div(365)"
   ]
  },
  {
   "cell_type": "code",
   "execution_count": 146,
   "metadata": {},
   "outputs": [
    {
     "data": {
      "text/html": [
       "<div>\n",
       "<style scoped>\n",
       "    .dataframe tbody tr th:only-of-type {\n",
       "        vertical-align: middle;\n",
       "    }\n",
       "\n",
       "    .dataframe tbody tr th {\n",
       "        vertical-align: top;\n",
       "    }\n",
       "\n",
       "    .dataframe thead th {\n",
       "        text-align: right;\n",
       "    }\n",
       "</style>\n",
       "<table border=\"1\" class=\"dataframe\">\n",
       "  <thead>\n",
       "    <tr style=\"text-align: right;\">\n",
       "      <th></th>\n",
       "      <th>BD</th>\n",
       "      <th>Observation_Date</th>\n",
       "      <th>Difference</th>\n",
       "    </tr>\n",
       "    <tr>\n",
       "      <th>Code</th>\n",
       "      <th></th>\n",
       "      <th></th>\n",
       "      <th></th>\n",
       "    </tr>\n",
       "  </thead>\n",
       "  <tbody>\n",
       "    <tr>\n",
       "      <th>AA97</th>\n",
       "      <td>1996-02-01</td>\n",
       "      <td>NaT</td>\n",
       "      <td>NaT</td>\n",
       "    </tr>\n",
       "    <tr>\n",
       "      <th>AA603</th>\n",
       "      <td>2003-04-14</td>\n",
       "      <td>2011-03-01</td>\n",
       "      <td>7 days 21:14:18.082191780</td>\n",
       "    </tr>\n",
       "    <tr>\n",
       "      <th>AA688</th>\n",
       "      <td>2008-09-10</td>\n",
       "      <td>2012-07-05</td>\n",
       "      <td>3 days 19:39:36.986301369</td>\n",
       "    </tr>\n",
       "    <tr>\n",
       "      <th>AA923</th>\n",
       "      <td>2009-04-14</td>\n",
       "      <td>2013-08-21</td>\n",
       "      <td>4 days 08:32:52.602739726</td>\n",
       "    </tr>\n",
       "    <tr>\n",
       "      <th>AA725</th>\n",
       "      <td>1997-12-30</td>\n",
       "      <td>2013-11-29</td>\n",
       "      <td>15 days 22:13:28.767123287</td>\n",
       "    </tr>\n",
       "    <tr>\n",
       "      <th>AA785</th>\n",
       "      <td>2004-07-31</td>\n",
       "      <td>2014-02-17</td>\n",
       "      <td>9 days 13:20:52.602739726</td>\n",
       "    </tr>\n",
       "    <tr>\n",
       "      <th>AA849</th>\n",
       "      <td>2010-01-01</td>\n",
       "      <td>2014-03-11</td>\n",
       "      <td>4 days 04:36:09.863013698</td>\n",
       "    </tr>\n",
       "    <tr>\n",
       "      <th>AA802</th>\n",
       "      <td>2009-10-03</td>\n",
       "      <td>2014-03-25</td>\n",
       "      <td>4 days 11:26:27.945205479</td>\n",
       "    </tr>\n",
       "    <tr>\n",
       "      <th>AA756</th>\n",
       "      <td>2010-10-05</td>\n",
       "      <td>2014-05-13</td>\n",
       "      <td>3 days 14:31:53.424657534</td>\n",
       "    </tr>\n",
       "    <tr>\n",
       "      <th>AA896</th>\n",
       "      <td>2011-10-12</td>\n",
       "      <td>2015-09-21</td>\n",
       "      <td>3 days 22:41:05.753424657</td>\n",
       "    </tr>\n",
       "    <tr>\n",
       "      <th>AA891</th>\n",
       "      <td>2008-09-26</td>\n",
       "      <td>2016-02-22</td>\n",
       "      <td>7 days 09:51:46.849315068</td>\n",
       "    </tr>\n",
       "    <tr>\n",
       "      <th>AA833</th>\n",
       "      <td>2013-11-03</td>\n",
       "      <td>2016-03-14</td>\n",
       "      <td>2 days 08:40:46.027397260</td>\n",
       "    </tr>\n",
       "    <tr>\n",
       "      <th>AA866</th>\n",
       "      <td>2009-09-12</td>\n",
       "      <td>2016-06-14</td>\n",
       "      <td>6 days 18:12:49.315068493</td>\n",
       "    </tr>\n",
       "    <tr>\n",
       "      <th>AA831</th>\n",
       "      <td>2012-12-20</td>\n",
       "      <td>2016-06-22</td>\n",
       "      <td>3 days 12:09:51.780821917</td>\n",
       "    </tr>\n",
       "    <tr>\n",
       "      <th>AA857</th>\n",
       "      <td>2002-09-26</td>\n",
       "      <td>2016-07-27</td>\n",
       "      <td>13 days 20:15:07.397260273</td>\n",
       "    </tr>\n",
       "    <tr>\n",
       "      <th>AA937</th>\n",
       "      <td>2005-08-30</td>\n",
       "      <td>2016-01-12</td>\n",
       "      <td>10 days 09:00:29.589041095</td>\n",
       "    </tr>\n",
       "    <tr>\n",
       "      <th>AA843</th>\n",
       "      <td>2013-09-08</td>\n",
       "      <td>2016-12-15</td>\n",
       "      <td>3 days 06:30:34.520547945</td>\n",
       "    </tr>\n",
       "    <tr>\n",
       "      <th>AA870</th>\n",
       "      <td>2014-01-16</td>\n",
       "      <td>2017-03-29</td>\n",
       "      <td>3 days 04:48:00</td>\n",
       "    </tr>\n",
       "    <tr>\n",
       "      <th>AA848</th>\n",
       "      <td>2012-03-25</td>\n",
       "      <td>2017-04-04</td>\n",
       "      <td>5 days 00:43:23.835616438</td>\n",
       "    </tr>\n",
       "    <tr>\n",
       "      <th>AA882</th>\n",
       "      <td>2012-05-29</td>\n",
       "      <td>2017-04-05</td>\n",
       "      <td>4 days 20:30:54.246575342</td>\n",
       "    </tr>\n",
       "    <tr>\n",
       "      <th>AA898</th>\n",
       "      <td>2011-04-06</td>\n",
       "      <td>2017-04-06</td>\n",
       "      <td>6 days 00:07:53.424657534</td>\n",
       "    </tr>\n",
       "    <tr>\n",
       "      <th>AA853</th>\n",
       "      <td>2009-12-14</td>\n",
       "      <td>2017-06-06</td>\n",
       "      <td>7 days 11:34:21.369863013</td>\n",
       "    </tr>\n",
       "    <tr>\n",
       "      <th>AA876</th>\n",
       "      <td>2010-06-02</td>\n",
       "      <td>2017-05-02</td>\n",
       "      <td>6 days 22:05:35.342465753</td>\n",
       "    </tr>\n",
       "    <tr>\n",
       "      <th>AA860</th>\n",
       "      <td>2008-09-25</td>\n",
       "      <td>2017-07-11</td>\n",
       "      <td>8 days 19:08:03.287671232</td>\n",
       "    </tr>\n",
       "    <tr>\n",
       "      <th>AA918</th>\n",
       "      <td>2006-04-19</td>\n",
       "      <td>2017-07-20</td>\n",
       "      <td>11 days 06:14:47.671232876</td>\n",
       "    </tr>\n",
       "    <tr>\n",
       "      <th>AA888</th>\n",
       "      <td>2005-05-29</td>\n",
       "      <td>NaT</td>\n",
       "      <td>NaT</td>\n",
       "    </tr>\n",
       "    <tr>\n",
       "      <th>AA808</th>\n",
       "      <td>2012-08-03</td>\n",
       "      <td>2015-02-23</td>\n",
       "      <td>2 days 13:24:49.315068493</td>\n",
       "    </tr>\n",
       "    <tr>\n",
       "      <th>AA911</th>\n",
       "      <td>2013-01-20</td>\n",
       "      <td>2018-01-10</td>\n",
       "      <td>4 days 23:24:29.589041095</td>\n",
       "    </tr>\n",
       "    <tr>\n",
       "      <th>AA906</th>\n",
       "      <td>2015-12-27</td>\n",
       "      <td>2018-02-07</td>\n",
       "      <td>2 days 02:49:38.630136986</td>\n",
       "    </tr>\n",
       "    <tr>\n",
       "      <th>AA907</th>\n",
       "      <td>2014-08-23</td>\n",
       "      <td>2018-02-12</td>\n",
       "      <td>3 days 11:26:27.945205479</td>\n",
       "    </tr>\n",
       "    <tr>\n",
       "      <th>AA884</th>\n",
       "      <td>2015-08-07</td>\n",
       "      <td>2018-02-21</td>\n",
       "      <td>2 days 13:05:05.753424657</td>\n",
       "    </tr>\n",
       "    <tr>\n",
       "      <th>AA926</th>\n",
       "      <td>2014-09-05</td>\n",
       "      <td>2018-04-24</td>\n",
       "      <td>3 days 15:15:17.260273972</td>\n",
       "    </tr>\n",
       "    <tr>\n",
       "      <th>AA917</th>\n",
       "      <td>2015-11-25</td>\n",
       "      <td>2018-11-22</td>\n",
       "      <td>2 days 23:52:06.575342465</td>\n",
       "    </tr>\n",
       "    <tr>\n",
       "      <th>AA910</th>\n",
       "      <td>2015-10-04</td>\n",
       "      <td>2019-01-15</td>\n",
       "      <td>3 days 06:50:18.082191780</td>\n",
       "    </tr>\n",
       "    <tr>\n",
       "      <th>AA939</th>\n",
       "      <td>2014-06-08</td>\n",
       "      <td>2019-01-21</td>\n",
       "      <td>4 days 14:59:30.410958904</td>\n",
       "    </tr>\n",
       "    <tr>\n",
       "      <th>AA920</th>\n",
       "      <td>2016-06-07</td>\n",
       "      <td>2019-01-29</td>\n",
       "      <td>2 days 15:31:04.109589041</td>\n",
       "    </tr>\n",
       "    <tr>\n",
       "      <th>AA931</th>\n",
       "      <td>2016-11-14</td>\n",
       "      <td>2019-01-30</td>\n",
       "      <td>2 days 05:03:46.849315068</td>\n",
       "    </tr>\n",
       "    <tr>\n",
       "      <th>AA924</th>\n",
       "      <td>2016-10-12</td>\n",
       "      <td>2019-05-17</td>\n",
       "      <td>2 days 14:16:06.575342465</td>\n",
       "    </tr>\n",
       "    <tr>\n",
       "      <th>AA948</th>\n",
       "      <td>2017-11-30</td>\n",
       "      <td>2019-07-24</td>\n",
       "      <td>1 days 15:31:04.109589041</td>\n",
       "    </tr>\n",
       "    <tr>\n",
       "      <th>AA941</th>\n",
       "      <td>2016-04-27</td>\n",
       "      <td>NaT</td>\n",
       "      <td>NaT</td>\n",
       "    </tr>\n",
       "    <tr>\n",
       "      <th>AA936</th>\n",
       "      <td>2017-08-13</td>\n",
       "      <td>2019-12-04</td>\n",
       "      <td>2 days 07:25:48.493150684</td>\n",
       "    </tr>\n",
       "    <tr>\n",
       "      <th>AA949</th>\n",
       "      <td>2017-10-05</td>\n",
       "      <td>2019-12-10</td>\n",
       "      <td>2 days 04:20:23.013698630</td>\n",
       "    </tr>\n",
       "    <tr>\n",
       "      <th>AA935</th>\n",
       "      <td>2017-01-14</td>\n",
       "      <td>2020-07-27</td>\n",
       "      <td>3 days 12:49:18.904109589</td>\n",
       "    </tr>\n",
       "    <tr>\n",
       "      <th>AA947</th>\n",
       "      <td>2015-03-06</td>\n",
       "      <td>NaT</td>\n",
       "      <td>NaT</td>\n",
       "    </tr>\n",
       "    <tr>\n",
       "      <th>AA946</th>\n",
       "      <td>2018-02-10</td>\n",
       "      <td>2021-03-22</td>\n",
       "      <td>3 days 02:41:45.205479452</td>\n",
       "    </tr>\n",
       "    <tr>\n",
       "      <th>AA943</th>\n",
       "      <td>2017-12-30</td>\n",
       "      <td>NaT</td>\n",
       "      <td>NaT</td>\n",
       "    </tr>\n",
       "    <tr>\n",
       "      <th>AA944</th>\n",
       "      <td>2018-12-21</td>\n",
       "      <td>NaT</td>\n",
       "      <td>NaT</td>\n",
       "    </tr>\n",
       "    <tr>\n",
       "      <th>AA950</th>\n",
       "      <td>2017-06-28</td>\n",
       "      <td>2022-02-03</td>\n",
       "      <td>4 days 14:31:53.424657534</td>\n",
       "    </tr>\n",
       "    <tr>\n",
       "      <th>AA951</th>\n",
       "      <td>2018-12-06</td>\n",
       "      <td>2022-03-22</td>\n",
       "      <td>3 days 07:02:08.219178082</td>\n",
       "    </tr>\n",
       "  </tbody>\n",
       "</table>\n",
       "</div>"
      ],
      "text/plain": [
       "              BD Observation_Date                 Difference\n",
       "Code                                                        \n",
       "AA97  1996-02-01              NaT                        NaT\n",
       "AA603 2003-04-14       2011-03-01  7 days 21:14:18.082191780\n",
       "AA688 2008-09-10       2012-07-05  3 days 19:39:36.986301369\n",
       "AA923 2009-04-14       2013-08-21  4 days 08:32:52.602739726\n",
       "AA725 1997-12-30       2013-11-29 15 days 22:13:28.767123287\n",
       "AA785 2004-07-31       2014-02-17  9 days 13:20:52.602739726\n",
       "AA849 2010-01-01       2014-03-11  4 days 04:36:09.863013698\n",
       "AA802 2009-10-03       2014-03-25  4 days 11:26:27.945205479\n",
       "AA756 2010-10-05       2014-05-13  3 days 14:31:53.424657534\n",
       "AA896 2011-10-12       2015-09-21  3 days 22:41:05.753424657\n",
       "AA891 2008-09-26       2016-02-22  7 days 09:51:46.849315068\n",
       "AA833 2013-11-03       2016-03-14  2 days 08:40:46.027397260\n",
       "AA866 2009-09-12       2016-06-14  6 days 18:12:49.315068493\n",
       "AA831 2012-12-20       2016-06-22  3 days 12:09:51.780821917\n",
       "AA857 2002-09-26       2016-07-27 13 days 20:15:07.397260273\n",
       "AA937 2005-08-30       2016-01-12 10 days 09:00:29.589041095\n",
       "AA843 2013-09-08       2016-12-15  3 days 06:30:34.520547945\n",
       "AA870 2014-01-16       2017-03-29            3 days 04:48:00\n",
       "AA848 2012-03-25       2017-04-04  5 days 00:43:23.835616438\n",
       "AA882 2012-05-29       2017-04-05  4 days 20:30:54.246575342\n",
       "AA898 2011-04-06       2017-04-06  6 days 00:07:53.424657534\n",
       "AA853 2009-12-14       2017-06-06  7 days 11:34:21.369863013\n",
       "AA876 2010-06-02       2017-05-02  6 days 22:05:35.342465753\n",
       "AA860 2008-09-25       2017-07-11  8 days 19:08:03.287671232\n",
       "AA918 2006-04-19       2017-07-20 11 days 06:14:47.671232876\n",
       "AA888 2005-05-29              NaT                        NaT\n",
       "AA808 2012-08-03       2015-02-23  2 days 13:24:49.315068493\n",
       "AA911 2013-01-20       2018-01-10  4 days 23:24:29.589041095\n",
       "AA906 2015-12-27       2018-02-07  2 days 02:49:38.630136986\n",
       "AA907 2014-08-23       2018-02-12  3 days 11:26:27.945205479\n",
       "AA884 2015-08-07       2018-02-21  2 days 13:05:05.753424657\n",
       "AA926 2014-09-05       2018-04-24  3 days 15:15:17.260273972\n",
       "AA917 2015-11-25       2018-11-22  2 days 23:52:06.575342465\n",
       "AA910 2015-10-04       2019-01-15  3 days 06:50:18.082191780\n",
       "AA939 2014-06-08       2019-01-21  4 days 14:59:30.410958904\n",
       "AA920 2016-06-07       2019-01-29  2 days 15:31:04.109589041\n",
       "AA931 2016-11-14       2019-01-30  2 days 05:03:46.849315068\n",
       "AA924 2016-10-12       2019-05-17  2 days 14:16:06.575342465\n",
       "AA948 2017-11-30       2019-07-24  1 days 15:31:04.109589041\n",
       "AA941 2016-04-27              NaT                        NaT\n",
       "AA936 2017-08-13       2019-12-04  2 days 07:25:48.493150684\n",
       "AA949 2017-10-05       2019-12-10  2 days 04:20:23.013698630\n",
       "AA935 2017-01-14       2020-07-27  3 days 12:49:18.904109589\n",
       "AA947 2015-03-06              NaT                        NaT\n",
       "AA946 2018-02-10       2021-03-22  3 days 02:41:45.205479452\n",
       "AA943 2017-12-30              NaT                        NaT\n",
       "AA944 2018-12-21              NaT                        NaT\n",
       "AA950 2017-06-28       2022-02-03  4 days 14:31:53.424657534\n",
       "AA951 2018-12-06       2022-03-22  3 days 07:02:08.219178082"
      ]
     },
     "execution_count": 146,
     "metadata": {},
     "output_type": "execute_result"
    }
   ],
   "source": [
    "qd_age_na_date"
   ]
  },
  {
   "cell_type": "code",
   "execution_count": 147,
   "metadata": {},
   "outputs": [],
   "source": [
    "# Index of samples that do not have values for age of observation\n",
    "qd_age_unk = qd_age_na_date[qd_age_na_date.Difference.isnull()].index"
   ]
  },
  {
   "cell_type": "code",
   "execution_count": 148,
   "metadata": {},
   "outputs": [],
   "source": [
    "# Drop index of samples that do not have values for age of observation\n",
    "df.drop(qd_age_unk, inplace = True)"
   ]
  },
  {
   "cell_type": "code",
   "execution_count": 149,
   "metadata": {},
   "outputs": [
    {
     "data": {
      "text/html": [
       "<div>\n",
       "<style scoped>\n",
       "    .dataframe tbody tr th:only-of-type {\n",
       "        vertical-align: middle;\n",
       "    }\n",
       "\n",
       "    .dataframe tbody tr th {\n",
       "        vertical-align: top;\n",
       "    }\n",
       "\n",
       "    .dataframe thead th {\n",
       "        text-align: right;\n",
       "    }\n",
       "</style>\n",
       "<table border=\"1\" class=\"dataframe\">\n",
       "  <thead>\n",
       "    <tr style=\"text-align: right;\">\n",
       "      <th></th>\n",
       "      <th>QDMreav</th>\n",
       "      <th>QDPSreav</th>\n",
       "      <th>QDLreav</th>\n",
       "      <th>QDEHreav</th>\n",
       "      <th>QDRreav</th>\n",
       "      <th>QD_M</th>\n",
       "      <th>QD_PS</th>\n",
       "      <th>QD_L</th>\n",
       "      <th>QD_EH</th>\n",
       "      <th>QD_R</th>\n",
       "      <th>WISCIII</th>\n",
       "      <th>Diag_Age</th>\n",
       "      <th>QDQI_Age</th>\n",
       "    </tr>\n",
       "    <tr>\n",
       "      <th>Code</th>\n",
       "      <th></th>\n",
       "      <th></th>\n",
       "      <th></th>\n",
       "      <th></th>\n",
       "      <th></th>\n",
       "      <th></th>\n",
       "      <th></th>\n",
       "      <th></th>\n",
       "      <th></th>\n",
       "      <th></th>\n",
       "      <th></th>\n",
       "      <th></th>\n",
       "      <th></th>\n",
       "    </tr>\n",
       "  </thead>\n",
       "  <tbody>\n",
       "    <tr>\n",
       "      <th>AA125</th>\n",
       "      <td>NaN</td>\n",
       "      <td>NaN</td>\n",
       "      <td>NaN</td>\n",
       "      <td>NaN</td>\n",
       "      <td>NaN</td>\n",
       "      <td>NaN</td>\n",
       "      <td>NaN</td>\n",
       "      <td>NaN</td>\n",
       "      <td>NaN</td>\n",
       "      <td>NaN</td>\n",
       "      <td>N</td>\n",
       "      <td>8.0</td>\n",
       "      <td>NaN</td>\n",
       "    </tr>\n",
       "    <tr>\n",
       "      <th>AA296</th>\n",
       "      <td>NaN</td>\n",
       "      <td>NaN</td>\n",
       "      <td>NaN</td>\n",
       "      <td>NaN</td>\n",
       "      <td>NaN</td>\n",
       "      <td>NaN</td>\n",
       "      <td>NaN</td>\n",
       "      <td>NaN</td>\n",
       "      <td>NaN</td>\n",
       "      <td>NaN</td>\n",
       "      <td>N</td>\n",
       "      <td>7.0</td>\n",
       "      <td>NaN</td>\n",
       "    </tr>\n",
       "    <tr>\n",
       "      <th>AA785</th>\n",
       "      <td>NaN</td>\n",
       "      <td>NaN</td>\n",
       "      <td>NaN</td>\n",
       "      <td>NaN</td>\n",
       "      <td>NaN</td>\n",
       "      <td>NaN</td>\n",
       "      <td>NaN</td>\n",
       "      <td>NaN</td>\n",
       "      <td>NaN</td>\n",
       "      <td>NaN</td>\n",
       "      <td>S</td>\n",
       "      <td>NaN</td>\n",
       "      <td>NaN</td>\n",
       "    </tr>\n",
       "  </tbody>\n",
       "</table>\n",
       "</div>"
      ],
      "text/plain": [
       "       QDMreav  QDPSreav  QDLreav  QDEHreav  QDRreav  QD_M  QD_PS  QD_L  \\\n",
       "Code                                                                      \n",
       "AA125      NaN       NaN      NaN       NaN      NaN   NaN    NaN   NaN   \n",
       "AA296      NaN       NaN      NaN       NaN      NaN   NaN    NaN   NaN   \n",
       "AA785      NaN       NaN      NaN       NaN      NaN   NaN    NaN   NaN   \n",
       "\n",
       "       QD_EH  QD_R WISCIII  Diag_Age  QDQI_Age  \n",
       "Code                                            \n",
       "AA125    NaN   NaN       N       8.0       NaN  \n",
       "AA296    NaN   NaN       N       7.0       NaN  \n",
       "AA785    NaN   NaN       S       NaN       NaN  "
      ]
     },
     "execution_count": 149,
     "metadata": {},
     "output_type": "execute_result"
    }
   ],
   "source": [
    "df.loc[['AA125', 'AA296', 'AA785'],\n",
    "       ['QDMreav', 'QDPSreav', 'QDLreav', 'QDEHreav','QDRreav',\n",
    "        'QD_M', 'QD_PS', 'QD_L', 'QD_EH', 'QD_R', 'WISCIII',\n",
    "        'Diag_Age', 'QDQI_Age']]"
   ]
  },
  {
   "cell_type": "code",
   "execution_count": 150,
   "metadata": {},
   "outputs": [],
   "source": [
    "# Index of samples that that have an age of observation greater than 8\n",
    "obs_age_h8 = ['AA918', 'AA937', 'AA857', 'AA725']"
   ]
  },
  {
   "cell_type": "code",
   "execution_count": 151,
   "metadata": {},
   "outputs": [],
   "source": [
    "df.drop(obs_age_h8, inplace = True)"
   ]
  },
  {
   "cell_type": "code",
   "execution_count": 152,
   "metadata": {
    "scrolled": true
   },
   "outputs": [
    {
     "data": {
      "text/html": [
       "<div>\n",
       "<style scoped>\n",
       "    .dataframe tbody tr th:only-of-type {\n",
       "        vertical-align: middle;\n",
       "    }\n",
       "\n",
       "    .dataframe tbody tr th {\n",
       "        vertical-align: top;\n",
       "    }\n",
       "\n",
       "    .dataframe thead th {\n",
       "        text-align: right;\n",
       "    }\n",
       "</style>\n",
       "<table border=\"1\" class=\"dataframe\">\n",
       "  <thead>\n",
       "    <tr style=\"text-align: right;\">\n",
       "      <th></th>\n",
       "      <th>QD_M</th>\n",
       "      <th>QD_PS</th>\n",
       "      <th>QD_L</th>\n",
       "      <th>QD_EH</th>\n",
       "      <th>QD_R</th>\n",
       "      <th>Diag_Age</th>\n",
       "      <th>QDQI_Age</th>\n",
       "    </tr>\n",
       "    <tr>\n",
       "      <th>Code</th>\n",
       "      <th></th>\n",
       "      <th></th>\n",
       "      <th></th>\n",
       "      <th></th>\n",
       "      <th></th>\n",
       "      <th></th>\n",
       "      <th></th>\n",
       "    </tr>\n",
       "  </thead>\n",
       "  <tbody>\n",
       "    <tr>\n",
       "      <th>AA179</th>\n",
       "      <td>33.0</td>\n",
       "      <td>24.0</td>\n",
       "      <td>NaN</td>\n",
       "      <td>23.0</td>\n",
       "      <td>34.0</td>\n",
       "      <td>5.0</td>\n",
       "      <td>6.0</td>\n",
       "    </tr>\n",
       "    <tr>\n",
       "      <th>AA518</th>\n",
       "      <td>86.0</td>\n",
       "      <td>73.0</td>\n",
       "      <td>95.0</td>\n",
       "      <td>108.0</td>\n",
       "      <td>92.0</td>\n",
       "      <td>4.0</td>\n",
       "      <td>6.0</td>\n",
       "    </tr>\n",
       "    <tr>\n",
       "      <th>AA636</th>\n",
       "      <td>91.0</td>\n",
       "      <td>61.0</td>\n",
       "      <td>69.0</td>\n",
       "      <td>68.0</td>\n",
       "      <td>100.0</td>\n",
       "      <td>2.0</td>\n",
       "      <td>2.0</td>\n",
       "    </tr>\n",
       "    <tr>\n",
       "      <th>AA925</th>\n",
       "      <td>NaN</td>\n",
       "      <td>NaN</td>\n",
       "      <td>NaN</td>\n",
       "      <td>NaN</td>\n",
       "      <td>NaN</td>\n",
       "      <td>4.0</td>\n",
       "      <td>5.0</td>\n",
       "    </tr>\n",
       "    <tr>\n",
       "      <th>AA935</th>\n",
       "      <td>NaN</td>\n",
       "      <td>NaN</td>\n",
       "      <td>NaN</td>\n",
       "      <td>NaN</td>\n",
       "      <td>NaN</td>\n",
       "      <td>NaN</td>\n",
       "      <td>NaN</td>\n",
       "    </tr>\n",
       "    <tr>\n",
       "      <th>AA946</th>\n",
       "      <td>NaN</td>\n",
       "      <td>NaN</td>\n",
       "      <td>NaN</td>\n",
       "      <td>NaN</td>\n",
       "      <td>NaN</td>\n",
       "      <td>NaN</td>\n",
       "      <td>NaN</td>\n",
       "    </tr>\n",
       "  </tbody>\n",
       "</table>\n",
       "</div>"
      ],
      "text/plain": [
       "       QD_M  QD_PS  QD_L  QD_EH   QD_R  Diag_Age  QDQI_Age\n",
       "Code                                                      \n",
       "AA179  33.0   24.0   NaN   23.0   34.0       5.0       6.0\n",
       "AA518  86.0   73.0  95.0  108.0   92.0       4.0       6.0\n",
       "AA636  91.0   61.0  69.0   68.0  100.0       2.0       2.0\n",
       "AA925   NaN    NaN   NaN    NaN    NaN       4.0       5.0\n",
       "AA935   NaN    NaN   NaN    NaN    NaN       NaN       NaN\n",
       "AA946   NaN    NaN   NaN    NaN    NaN       NaN       NaN"
      ]
     },
     "execution_count": 152,
     "metadata": {},
     "output_type": "execute_result"
    }
   ],
   "source": [
    "# Highleted samples that have updated values in Filemaker\n",
    "df.loc[['AA179','AA518','AA636', 'AA925', 'AA935', 'AA946'], \n",
    "       ['QD_M', 'QD_PS', 'QD_L', 'QD_EH', 'QD_R','Diag_Age', 'QDQI_Age']]"
   ]
  },
  {
   "cell_type": "code",
   "execution_count": 153,
   "metadata": {},
   "outputs": [],
   "source": [
    "# Update highlited samples values\n",
    "df.loc['AA636'] = {'QD_M':90, 'QD_PS':61, 'QD_L':69, 'QD_EH':68, 'QD_R':100, 'QDQI_Age': 44/12}\n",
    "df.loc['AA925'] = {'QD_M':106, 'QD_PS':82, 'QD_L':86, 'QD_EH':88, 'QD_R':78, 'QDQI_Age':64/12}\n",
    "df.loc['AA946'] = {'QD_M':120, 'QD_PS':72, 'QD_L':68, 'QD_EH':68, 'QD_R':108, 'QDQI_Age':50/12}\n",
    "df.loc['AA935'] = {'QD_M':78, 'QD_PS':66, 'QD_L':40, 'QD_EH':86, 'QD_R':115, 'QDQI_Age':69/12}\n",
    "df.loc['AA179'] = {'QD_M':33, 'QD_PS':24, 'QD_L':0, 'QD_EH':23, 'QD_R':34, 'QDQI_Age': 6}"
   ]
  },
  {
   "cell_type": "code",
   "execution_count": 154,
   "metadata": {},
   "outputs": [],
   "source": [
    "# Create dataframe with Griffiths columns only\n",
    "qd = df[['QD_M', 'QD_PS', 'QD_L', 'QD_EH', 'QD_R']]"
   ]
  },
  {
   "cell_type": "code",
   "execution_count": 155,
   "metadata": {},
   "outputs": [
    {
     "data": {
      "text/html": [
       "<div>\n",
       "<style scoped>\n",
       "    .dataframe tbody tr th:only-of-type {\n",
       "        vertical-align: middle;\n",
       "    }\n",
       "\n",
       "    .dataframe tbody tr th {\n",
       "        vertical-align: top;\n",
       "    }\n",
       "\n",
       "    .dataframe thead th {\n",
       "        text-align: right;\n",
       "    }\n",
       "</style>\n",
       "<table border=\"1\" class=\"dataframe\">\n",
       "  <thead>\n",
       "    <tr style=\"text-align: right;\">\n",
       "      <th></th>\n",
       "      <th>QD_M</th>\n",
       "      <th>QD_PS</th>\n",
       "      <th>QD_L</th>\n",
       "      <th>QD_EH</th>\n",
       "      <th>QD_R</th>\n",
       "    </tr>\n",
       "    <tr>\n",
       "      <th>Code</th>\n",
       "      <th></th>\n",
       "      <th></th>\n",
       "      <th></th>\n",
       "      <th></th>\n",
       "      <th></th>\n",
       "    </tr>\n",
       "  </thead>\n",
       "  <tbody>\n",
       "    <tr>\n",
       "      <th>AA161</th>\n",
       "      <td>NaN</td>\n",
       "      <td>NaN</td>\n",
       "      <td>NaN</td>\n",
       "      <td>NaN</td>\n",
       "      <td>NaN</td>\n",
       "    </tr>\n",
       "    <tr>\n",
       "      <th>AA141</th>\n",
       "      <td>NaN</td>\n",
       "      <td>NaN</td>\n",
       "      <td>NaN</td>\n",
       "      <td>NaN</td>\n",
       "      <td>NaN</td>\n",
       "    </tr>\n",
       "    <tr>\n",
       "      <th>AA125</th>\n",
       "      <td>NaN</td>\n",
       "      <td>NaN</td>\n",
       "      <td>NaN</td>\n",
       "      <td>NaN</td>\n",
       "      <td>NaN</td>\n",
       "    </tr>\n",
       "    <tr>\n",
       "      <th>AA305</th>\n",
       "      <td>NaN</td>\n",
       "      <td>NaN</td>\n",
       "      <td>NaN</td>\n",
       "      <td>NaN</td>\n",
       "      <td>NaN</td>\n",
       "    </tr>\n",
       "    <tr>\n",
       "      <th>AA226</th>\n",
       "      <td>NaN</td>\n",
       "      <td>NaN</td>\n",
       "      <td>NaN</td>\n",
       "      <td>NaN</td>\n",
       "      <td>NaN</td>\n",
       "    </tr>\n",
       "    <tr>\n",
       "      <th>...</th>\n",
       "      <td>...</td>\n",
       "      <td>...</td>\n",
       "      <td>...</td>\n",
       "      <td>...</td>\n",
       "      <td>...</td>\n",
       "    </tr>\n",
       "    <tr>\n",
       "      <th>AA948</th>\n",
       "      <td>NaN</td>\n",
       "      <td>NaN</td>\n",
       "      <td>NaN</td>\n",
       "      <td>NaN</td>\n",
       "      <td>NaN</td>\n",
       "    </tr>\n",
       "    <tr>\n",
       "      <th>AA936</th>\n",
       "      <td>NaN</td>\n",
       "      <td>NaN</td>\n",
       "      <td>NaN</td>\n",
       "      <td>NaN</td>\n",
       "      <td>NaN</td>\n",
       "    </tr>\n",
       "    <tr>\n",
       "      <th>AA949</th>\n",
       "      <td>NaN</td>\n",
       "      <td>NaN</td>\n",
       "      <td>NaN</td>\n",
       "      <td>NaN</td>\n",
       "      <td>NaN</td>\n",
       "    </tr>\n",
       "    <tr>\n",
       "      <th>AA950</th>\n",
       "      <td>NaN</td>\n",
       "      <td>NaN</td>\n",
       "      <td>NaN</td>\n",
       "      <td>NaN</td>\n",
       "      <td>NaN</td>\n",
       "    </tr>\n",
       "    <tr>\n",
       "      <th>AA951</th>\n",
       "      <td>NaN</td>\n",
       "      <td>NaN</td>\n",
       "      <td>NaN</td>\n",
       "      <td>NaN</td>\n",
       "      <td>NaN</td>\n",
       "    </tr>\n",
       "  </tbody>\n",
       "</table>\n",
       "<p>67 rows × 5 columns</p>\n",
       "</div>"
      ],
      "text/plain": [
       "       QD_M  QD_PS  QD_L  QD_EH  QD_R\n",
       "Code                                 \n",
       "AA161   NaN    NaN   NaN    NaN   NaN\n",
       "AA141   NaN    NaN   NaN    NaN   NaN\n",
       "AA125   NaN    NaN   NaN    NaN   NaN\n",
       "AA305   NaN    NaN   NaN    NaN   NaN\n",
       "AA226   NaN    NaN   NaN    NaN   NaN\n",
       "...     ...    ...   ...    ...   ...\n",
       "AA948   NaN    NaN   NaN    NaN   NaN\n",
       "AA936   NaN    NaN   NaN    NaN   NaN\n",
       "AA949   NaN    NaN   NaN    NaN   NaN\n",
       "AA950   NaN    NaN   NaN    NaN   NaN\n",
       "AA951   NaN    NaN   NaN    NaN   NaN\n",
       "\n",
       "[67 rows x 5 columns]"
      ]
     },
     "execution_count": 155,
     "metadata": {},
     "output_type": "execute_result"
    }
   ],
   "source": [
    "# Check if there are samples that have values for only some Griffith columns \n",
    "nan_rows = qd[qd.isnull().any(axis=1)]\n",
    "nan_rows"
   ]
  },
  {
   "cell_type": "code",
   "execution_count": 156,
   "metadata": {},
   "outputs": [
    {
     "data": {
      "text/html": [
       "<div>\n",
       "<style scoped>\n",
       "    .dataframe tbody tr th:only-of-type {\n",
       "        vertical-align: middle;\n",
       "    }\n",
       "\n",
       "    .dataframe tbody tr th {\n",
       "        vertical-align: top;\n",
       "    }\n",
       "\n",
       "    .dataframe thead th {\n",
       "        text-align: right;\n",
       "    }\n",
       "</style>\n",
       "<table border=\"1\" class=\"dataframe\">\n",
       "  <thead>\n",
       "    <tr style=\"text-align: right;\">\n",
       "      <th></th>\n",
       "      <th>Verbal</th>\n",
       "      <th>QD_L</th>\n",
       "      <th>QDLreav</th>\n",
       "    </tr>\n",
       "    <tr>\n",
       "      <th>Code</th>\n",
       "      <th></th>\n",
       "      <th></th>\n",
       "      <th></th>\n",
       "    </tr>\n",
       "  </thead>\n",
       "  <tbody>\n",
       "    <tr>\n",
       "      <th>AA226</th>\n",
       "      <td>No</td>\n",
       "      <td>NaN</td>\n",
       "      <td>NaN</td>\n",
       "    </tr>\n",
       "    <tr>\n",
       "      <th>AA235</th>\n",
       "      <td>No</td>\n",
       "      <td>NaN</td>\n",
       "      <td>NaN</td>\n",
       "    </tr>\n",
       "    <tr>\n",
       "      <th>AA284</th>\n",
       "      <td>No</td>\n",
       "      <td>NaN</td>\n",
       "      <td>NaN</td>\n",
       "    </tr>\n",
       "    <tr>\n",
       "      <th>AA273</th>\n",
       "      <td>No</td>\n",
       "      <td>NaN</td>\n",
       "      <td>NaN</td>\n",
       "    </tr>\n",
       "    <tr>\n",
       "      <th>AA635</th>\n",
       "      <td>No</td>\n",
       "      <td>NaN</td>\n",
       "      <td>NaN</td>\n",
       "    </tr>\n",
       "    <tr>\n",
       "      <th>AA603</th>\n",
       "      <td>No</td>\n",
       "      <td>NaN</td>\n",
       "      <td>NaN</td>\n",
       "    </tr>\n",
       "    <tr>\n",
       "      <th>AA688</th>\n",
       "      <td>No</td>\n",
       "      <td>NaN</td>\n",
       "      <td>NaN</td>\n",
       "    </tr>\n",
       "    <tr>\n",
       "      <th>AA896</th>\n",
       "      <td>No</td>\n",
       "      <td>NaN</td>\n",
       "      <td>NaN</td>\n",
       "    </tr>\n",
       "    <tr>\n",
       "      <th>AA870</th>\n",
       "      <td>No</td>\n",
       "      <td>NaN</td>\n",
       "      <td>NaN</td>\n",
       "    </tr>\n",
       "    <tr>\n",
       "      <th>AA853</th>\n",
       "      <td>No</td>\n",
       "      <td>NaN</td>\n",
       "      <td>NaN</td>\n",
       "    </tr>\n",
       "    <tr>\n",
       "      <th>AA808</th>\n",
       "      <td>No</td>\n",
       "      <td>NaN</td>\n",
       "      <td>NaN</td>\n",
       "    </tr>\n",
       "    <tr>\n",
       "      <th>AA906</th>\n",
       "      <td>No</td>\n",
       "      <td>NaN</td>\n",
       "      <td>NaN</td>\n",
       "    </tr>\n",
       "  </tbody>\n",
       "</table>\n",
       "</div>"
      ],
      "text/plain": [
       "      Verbal  QD_L  QDLreav\n",
       "Code                       \n",
       "AA226     No   NaN      NaN\n",
       "AA235     No   NaN      NaN\n",
       "AA284     No   NaN      NaN\n",
       "AA273     No   NaN      NaN\n",
       "AA635     No   NaN      NaN\n",
       "AA603     No   NaN      NaN\n",
       "AA688     No   NaN      NaN\n",
       "AA896     No   NaN      NaN\n",
       "AA870     No   NaN      NaN\n",
       "AA853     No   NaN      NaN\n",
       "AA808     No   NaN      NaN\n",
       "AA906     No   NaN      NaN"
      ]
     },
     "execution_count": 156,
     "metadata": {},
     "output_type": "execute_result"
    }
   ],
   "source": [
    "# Check if there are samples that are non verbal but have values for QD_L or QDLreav\n",
    "qdl_na_non_verbal = df[(df.Verbal == 'No')\n",
    "                   & (df.QD_L.isnull()) & (df.QDLreav.isnull())]\n",
    "qdl_na_non_verbal[['Verbal', 'QD_L', 'QDLreav']]"
   ]
  },
  {
   "cell_type": "code",
   "execution_count": 157,
   "metadata": {},
   "outputs": [],
   "source": [
    "df.loc[qdl_na_non_verbal.index, 'QD_L'] = 0"
   ]
  },
  {
   "cell_type": "code",
   "execution_count": 158,
   "metadata": {},
   "outputs": [
    {
     "data": {
      "text/html": [
       "<div>\n",
       "<style scoped>\n",
       "    .dataframe tbody tr th:only-of-type {\n",
       "        vertical-align: middle;\n",
       "    }\n",
       "\n",
       "    .dataframe tbody tr th {\n",
       "        vertical-align: top;\n",
       "    }\n",
       "\n",
       "    .dataframe thead th {\n",
       "        text-align: right;\n",
       "    }\n",
       "</style>\n",
       "<table border=\"1\" class=\"dataframe\">\n",
       "  <thead>\n",
       "    <tr style=\"text-align: right;\">\n",
       "      <th></th>\n",
       "      <th>Verbal</th>\n",
       "      <th>QD_L</th>\n",
       "      <th>QDLreav</th>\n",
       "    </tr>\n",
       "    <tr>\n",
       "      <th>Code</th>\n",
       "      <th></th>\n",
       "      <th></th>\n",
       "      <th></th>\n",
       "    </tr>\n",
       "  </thead>\n",
       "  <tbody>\n",
       "    <tr>\n",
       "      <th>AA219</th>\n",
       "      <td>No</td>\n",
       "      <td>140.0</td>\n",
       "      <td>NaN</td>\n",
       "    </tr>\n",
       "    <tr>\n",
       "      <th>AA236</th>\n",
       "      <td>No</td>\n",
       "      <td>92.0</td>\n",
       "      <td>NaN</td>\n",
       "    </tr>\n",
       "    <tr>\n",
       "      <th>AA225</th>\n",
       "      <td>No</td>\n",
       "      <td>103.0</td>\n",
       "      <td>NaN</td>\n",
       "    </tr>\n",
       "    <tr>\n",
       "      <th>AA262</th>\n",
       "      <td>No</td>\n",
       "      <td>81.0</td>\n",
       "      <td>NaN</td>\n",
       "    </tr>\n",
       "    <tr>\n",
       "      <th>AA281</th>\n",
       "      <td>No</td>\n",
       "      <td>81.0</td>\n",
       "      <td>NaN</td>\n",
       "    </tr>\n",
       "    <tr>\n",
       "      <th>AA318</th>\n",
       "      <td>No</td>\n",
       "      <td>89.0</td>\n",
       "      <td>NaN</td>\n",
       "    </tr>\n",
       "    <tr>\n",
       "      <th>AA466</th>\n",
       "      <td>No</td>\n",
       "      <td>88.0</td>\n",
       "      <td>NaN</td>\n",
       "    </tr>\n",
       "    <tr>\n",
       "      <th>AA352</th>\n",
       "      <td>No</td>\n",
       "      <td>129.0</td>\n",
       "      <td>NaN</td>\n",
       "    </tr>\n",
       "    <tr>\n",
       "      <th>AA358</th>\n",
       "      <td>No</td>\n",
       "      <td>112.0</td>\n",
       "      <td>NaN</td>\n",
       "    </tr>\n",
       "    <tr>\n",
       "      <th>AA385</th>\n",
       "      <td>No</td>\n",
       "      <td>123.0</td>\n",
       "      <td>NaN</td>\n",
       "    </tr>\n",
       "    <tr>\n",
       "      <th>AA444</th>\n",
       "      <td>No</td>\n",
       "      <td>115.0</td>\n",
       "      <td>NaN</td>\n",
       "    </tr>\n",
       "    <tr>\n",
       "      <th>AA472</th>\n",
       "      <td>No</td>\n",
       "      <td>90.0</td>\n",
       "      <td>NaN</td>\n",
       "    </tr>\n",
       "    <tr>\n",
       "      <th>AA519</th>\n",
       "      <td>No</td>\n",
       "      <td>119.0</td>\n",
       "      <td>NaN</td>\n",
       "    </tr>\n",
       "    <tr>\n",
       "      <th>AA678</th>\n",
       "      <td>No</td>\n",
       "      <td>88.0</td>\n",
       "      <td>NaN</td>\n",
       "    </tr>\n",
       "    <tr>\n",
       "      <th>AA759</th>\n",
       "      <td>No</td>\n",
       "      <td>109.0</td>\n",
       "      <td>NaN</td>\n",
       "    </tr>\n",
       "    <tr>\n",
       "      <th>AA608</th>\n",
       "      <td>No</td>\n",
       "      <td>93.0</td>\n",
       "      <td>NaN</td>\n",
       "    </tr>\n",
       "    <tr>\n",
       "      <th>AA615</th>\n",
       "      <td>No</td>\n",
       "      <td>86.0</td>\n",
       "      <td>NaN</td>\n",
       "    </tr>\n",
       "    <tr>\n",
       "      <th>AA702</th>\n",
       "      <td>No</td>\n",
       "      <td>170.0</td>\n",
       "      <td>NaN</td>\n",
       "    </tr>\n",
       "    <tr>\n",
       "      <th>AA690</th>\n",
       "      <td>No</td>\n",
       "      <td>102.0</td>\n",
       "      <td>NaN</td>\n",
       "    </tr>\n",
       "    <tr>\n",
       "      <th>AA699</th>\n",
       "      <td>No</td>\n",
       "      <td>109.0</td>\n",
       "      <td>NaN</td>\n",
       "    </tr>\n",
       "    <tr>\n",
       "      <th>AA801</th>\n",
       "      <td>No</td>\n",
       "      <td>97.0</td>\n",
       "      <td>NaN</td>\n",
       "    </tr>\n",
       "    <tr>\n",
       "      <th>AA739</th>\n",
       "      <td>No</td>\n",
       "      <td>81.0</td>\n",
       "      <td>NaN</td>\n",
       "    </tr>\n",
       "    <tr>\n",
       "      <th>AA832</th>\n",
       "      <td>No</td>\n",
       "      <td>95.0</td>\n",
       "      <td>NaN</td>\n",
       "    </tr>\n",
       "    <tr>\n",
       "      <th>AA781</th>\n",
       "      <td>No</td>\n",
       "      <td>129.0</td>\n",
       "      <td>NaN</td>\n",
       "    </tr>\n",
       "    <tr>\n",
       "      <th>AA823</th>\n",
       "      <td>No</td>\n",
       "      <td>98.0</td>\n",
       "      <td>NaN</td>\n",
       "    </tr>\n",
       "    <tr>\n",
       "      <th>AA887</th>\n",
       "      <td>No</td>\n",
       "      <td>131.0</td>\n",
       "      <td>NaN</td>\n",
       "    </tr>\n",
       "    <tr>\n",
       "      <th>AA836</th>\n",
       "      <td>No</td>\n",
       "      <td>94.0</td>\n",
       "      <td>NaN</td>\n",
       "    </tr>\n",
       "    <tr>\n",
       "      <th>AA856</th>\n",
       "      <td>No</td>\n",
       "      <td>85.0</td>\n",
       "      <td>NaN</td>\n",
       "    </tr>\n",
       "  </tbody>\n",
       "</table>\n",
       "</div>"
      ],
      "text/plain": [
       "      Verbal   QD_L  QDLreav\n",
       "Code                        \n",
       "AA219     No  140.0      NaN\n",
       "AA236     No   92.0      NaN\n",
       "AA225     No  103.0      NaN\n",
       "AA262     No   81.0      NaN\n",
       "AA281     No   81.0      NaN\n",
       "AA318     No   89.0      NaN\n",
       "AA466     No   88.0      NaN\n",
       "AA352     No  129.0      NaN\n",
       "AA358     No  112.0      NaN\n",
       "AA385     No  123.0      NaN\n",
       "AA444     No  115.0      NaN\n",
       "AA472     No   90.0      NaN\n",
       "AA519     No  119.0      NaN\n",
       "AA678     No   88.0      NaN\n",
       "AA759     No  109.0      NaN\n",
       "AA608     No   93.0      NaN\n",
       "AA615     No   86.0      NaN\n",
       "AA702     No  170.0      NaN\n",
       "AA690     No  102.0      NaN\n",
       "AA699     No  109.0      NaN\n",
       "AA801     No   97.0      NaN\n",
       "AA739     No   81.0      NaN\n",
       "AA832     No   95.0      NaN\n",
       "AA781     No  129.0      NaN\n",
       "AA823     No   98.0      NaN\n",
       "AA887     No  131.0      NaN\n",
       "AA836     No   94.0      NaN\n",
       "AA856     No   85.0      NaN"
      ]
     },
     "execution_count": 158,
     "metadata": {},
     "output_type": "execute_result"
    }
   ],
   "source": [
    "# Samples that are non verbal but have QD_L values greater than 79\n",
    "qdl_non_verbal = df[(df.Verbal == 'No')\n",
    "                   & (df.QD_L > 79) & (df.QDLreav.isnull())]\n",
    "qdl_non_verbal[['Verbal', 'QD_L', 'QDLreav']]"
   ]
  },
  {
   "cell_type": "code",
   "execution_count": 159,
   "metadata": {},
   "outputs": [],
   "source": [
    "# Index of samples that are non verbal but have QD_L values greater than 79\n",
    "qdl_non_verbal_index = df[(df.Verbal == 'No')\n",
    "                   & (df.QD_L > 79) & (df.QDLreav.isnull())].index"
   ]
  },
  {
   "cell_type": "code",
   "execution_count": 160,
   "metadata": {},
   "outputs": [],
   "source": [
    "# Drop samples that are non verbal but have QD_L values greater than 79\n",
    "df.drop(qdl_non_verbal_index, inplace = True)"
   ]
  },
  {
   "cell_type": "markdown",
   "metadata": {},
   "source": [
    "### Exclusion of Missing Data Variables"
   ]
  },
  {
   "cell_type": "code",
   "execution_count": 161,
   "metadata": {},
   "outputs": [],
   "source": [
    "# Creat new dataset with only variables of interess \n",
    "df_cluster = df[['QD_M', 'QD_PS', 'QD_L', 'QD_EH', 'QD_R',\n",
    "                 'VABS_Com', 'VABS_Soc', 'VABS_Aut',\n",
    "                 'ADIR_Soc', 'ADIR_RRB', 'ADIR_AbDev']].copy()"
   ]
  },
  {
   "cell_type": "code",
   "execution_count": 162,
   "metadata": {
    "scrolled": true
   },
   "outputs": [
    {
     "data": {
      "text/html": [
       "<div>\n",
       "<style scoped>\n",
       "    .dataframe tbody tr th:only-of-type {\n",
       "        vertical-align: middle;\n",
       "    }\n",
       "\n",
       "    .dataframe tbody tr th {\n",
       "        vertical-align: top;\n",
       "    }\n",
       "\n",
       "    .dataframe thead th {\n",
       "        text-align: right;\n",
       "    }\n",
       "</style>\n",
       "<table border=\"1\" class=\"dataframe\">\n",
       "  <thead>\n",
       "    <tr style=\"text-align: right;\">\n",
       "      <th></th>\n",
       "      <th>QD_M</th>\n",
       "      <th>QD_PS</th>\n",
       "      <th>QD_L</th>\n",
       "      <th>QD_EH</th>\n",
       "      <th>QD_R</th>\n",
       "      <th>VABS_Com</th>\n",
       "      <th>VABS_Soc</th>\n",
       "      <th>VABS_Aut</th>\n",
       "      <th>ADIR_Soc</th>\n",
       "      <th>ADIR_RRB</th>\n",
       "      <th>ADIR_AbDev</th>\n",
       "    </tr>\n",
       "    <tr>\n",
       "      <th>Code</th>\n",
       "      <th></th>\n",
       "      <th></th>\n",
       "      <th></th>\n",
       "      <th></th>\n",
       "      <th></th>\n",
       "      <th></th>\n",
       "      <th></th>\n",
       "      <th></th>\n",
       "      <th></th>\n",
       "      <th></th>\n",
       "      <th></th>\n",
       "    </tr>\n",
       "  </thead>\n",
       "  <tbody>\n",
       "    <tr>\n",
       "      <th>AA1</th>\n",
       "      <td>47.0</td>\n",
       "      <td>35.0</td>\n",
       "      <td>13.0</td>\n",
       "      <td>28.0</td>\n",
       "      <td>38.0</td>\n",
       "      <td>NaN</td>\n",
       "      <td>NaN</td>\n",
       "      <td>NaN</td>\n",
       "      <td>28.0</td>\n",
       "      <td>9.0</td>\n",
       "      <td>2.0</td>\n",
       "    </tr>\n",
       "    <tr>\n",
       "      <th>AA34</th>\n",
       "      <td>43.0</td>\n",
       "      <td>27.0</td>\n",
       "      <td>18.0</td>\n",
       "      <td>25.0</td>\n",
       "      <td>31.0</td>\n",
       "      <td>NaN</td>\n",
       "      <td>NaN</td>\n",
       "      <td>NaN</td>\n",
       "      <td>30.0</td>\n",
       "      <td>8.0</td>\n",
       "      <td>5.0</td>\n",
       "    </tr>\n",
       "    <tr>\n",
       "      <th>AA36</th>\n",
       "      <td>52.0</td>\n",
       "      <td>35.0</td>\n",
       "      <td>8.0</td>\n",
       "      <td>31.0</td>\n",
       "      <td>45.0</td>\n",
       "      <td>NaN</td>\n",
       "      <td>NaN</td>\n",
       "      <td>NaN</td>\n",
       "      <td>30.0</td>\n",
       "      <td>8.0</td>\n",
       "      <td>5.0</td>\n",
       "    </tr>\n",
       "    <tr>\n",
       "      <th>AA72</th>\n",
       "      <td>29.0</td>\n",
       "      <td>21.0</td>\n",
       "      <td>23.0</td>\n",
       "      <td>21.0</td>\n",
       "      <td>20.0</td>\n",
       "      <td>NaN</td>\n",
       "      <td>NaN</td>\n",
       "      <td>NaN</td>\n",
       "      <td>26.0</td>\n",
       "      <td>4.0</td>\n",
       "      <td>5.0</td>\n",
       "    </tr>\n",
       "    <tr>\n",
       "      <th>AA91</th>\n",
       "      <td>28.0</td>\n",
       "      <td>19.0</td>\n",
       "      <td>11.0</td>\n",
       "      <td>18.0</td>\n",
       "      <td>26.0</td>\n",
       "      <td>NaN</td>\n",
       "      <td>NaN</td>\n",
       "      <td>NaN</td>\n",
       "      <td>28.0</td>\n",
       "      <td>8.0</td>\n",
       "      <td>4.0</td>\n",
       "    </tr>\n",
       "    <tr>\n",
       "      <th>...</th>\n",
       "      <td>...</td>\n",
       "      <td>...</td>\n",
       "      <td>...</td>\n",
       "      <td>...</td>\n",
       "      <td>...</td>\n",
       "      <td>...</td>\n",
       "      <td>...</td>\n",
       "      <td>...</td>\n",
       "      <td>...</td>\n",
       "      <td>...</td>\n",
       "      <td>...</td>\n",
       "    </tr>\n",
       "    <tr>\n",
       "      <th>AA837</th>\n",
       "      <td>80.0</td>\n",
       "      <td>62.0</td>\n",
       "      <td>64.0</td>\n",
       "      <td>83.0</td>\n",
       "      <td>83.0</td>\n",
       "      <td>72.0</td>\n",
       "      <td>59.0</td>\n",
       "      <td>58.0</td>\n",
       "      <td>15.0</td>\n",
       "      <td>3.0</td>\n",
       "      <td>5.0</td>\n",
       "    </tr>\n",
       "    <tr>\n",
       "      <th>AA935</th>\n",
       "      <td>78.0</td>\n",
       "      <td>66.0</td>\n",
       "      <td>40.0</td>\n",
       "      <td>86.0</td>\n",
       "      <td>115.0</td>\n",
       "      <td>NaN</td>\n",
       "      <td>NaN</td>\n",
       "      <td>NaN</td>\n",
       "      <td>NaN</td>\n",
       "      <td>NaN</td>\n",
       "      <td>NaN</td>\n",
       "    </tr>\n",
       "    <tr>\n",
       "      <th>AA946</th>\n",
       "      <td>120.0</td>\n",
       "      <td>72.0</td>\n",
       "      <td>68.0</td>\n",
       "      <td>68.0</td>\n",
       "      <td>108.0</td>\n",
       "      <td>NaN</td>\n",
       "      <td>NaN</td>\n",
       "      <td>NaN</td>\n",
       "      <td>NaN</td>\n",
       "      <td>NaN</td>\n",
       "      <td>NaN</td>\n",
       "    </tr>\n",
       "    <tr>\n",
       "      <th>AA950</th>\n",
       "      <td>NaN</td>\n",
       "      <td>NaN</td>\n",
       "      <td>NaN</td>\n",
       "      <td>NaN</td>\n",
       "      <td>NaN</td>\n",
       "      <td>NaN</td>\n",
       "      <td>NaN</td>\n",
       "      <td>NaN</td>\n",
       "      <td>NaN</td>\n",
       "      <td>NaN</td>\n",
       "      <td>NaN</td>\n",
       "    </tr>\n",
       "    <tr>\n",
       "      <th>AA951</th>\n",
       "      <td>NaN</td>\n",
       "      <td>NaN</td>\n",
       "      <td>NaN</td>\n",
       "      <td>NaN</td>\n",
       "      <td>NaN</td>\n",
       "      <td>NaN</td>\n",
       "      <td>NaN</td>\n",
       "      <td>NaN</td>\n",
       "      <td>NaN</td>\n",
       "      <td>NaN</td>\n",
       "      <td>NaN</td>\n",
       "    </tr>\n",
       "  </tbody>\n",
       "</table>\n",
       "<p>716 rows × 11 columns</p>\n",
       "</div>"
      ],
      "text/plain": [
       "        QD_M  QD_PS  QD_L  QD_EH   QD_R  VABS_Com  VABS_Soc  VABS_Aut  \\\n",
       "Code                                                                    \n",
       "AA1     47.0   35.0  13.0   28.0   38.0       NaN       NaN       NaN   \n",
       "AA34    43.0   27.0  18.0   25.0   31.0       NaN       NaN       NaN   \n",
       "AA36    52.0   35.0   8.0   31.0   45.0       NaN       NaN       NaN   \n",
       "AA72    29.0   21.0  23.0   21.0   20.0       NaN       NaN       NaN   \n",
       "AA91    28.0   19.0  11.0   18.0   26.0       NaN       NaN       NaN   \n",
       "...      ...    ...   ...    ...    ...       ...       ...       ...   \n",
       "AA837   80.0   62.0  64.0   83.0   83.0      72.0      59.0      58.0   \n",
       "AA935   78.0   66.0  40.0   86.0  115.0       NaN       NaN       NaN   \n",
       "AA946  120.0   72.0  68.0   68.0  108.0       NaN       NaN       NaN   \n",
       "AA950    NaN    NaN   NaN    NaN    NaN       NaN       NaN       NaN   \n",
       "AA951    NaN    NaN   NaN    NaN    NaN       NaN       NaN       NaN   \n",
       "\n",
       "       ADIR_Soc  ADIR_RRB  ADIR_AbDev  \n",
       "Code                                   \n",
       "AA1        28.0       9.0         2.0  \n",
       "AA34       30.0       8.0         5.0  \n",
       "AA36       30.0       8.0         5.0  \n",
       "AA72       26.0       4.0         5.0  \n",
       "AA91       28.0       8.0         4.0  \n",
       "...         ...       ...         ...  \n",
       "AA837      15.0       3.0         5.0  \n",
       "AA935       NaN       NaN         NaN  \n",
       "AA946       NaN       NaN         NaN  \n",
       "AA950       NaN       NaN         NaN  \n",
       "AA951       NaN       NaN         NaN  \n",
       "\n",
       "[716 rows x 11 columns]"
      ]
     },
     "execution_count": 162,
     "metadata": {},
     "output_type": "execute_result"
    }
   ],
   "source": [
    "df_cluster"
   ]
  },
  {
   "cell_type": "code",
   "execution_count": 163,
   "metadata": {},
   "outputs": [],
   "source": [
    "# Drop samples that have missing data in all selected columns\n",
    "df_cluster = df_cluster.dropna(subset=['ADIR_Soc','ADIR_RRB','ADIR_AbDev',\n",
    "                                       'QD_M','QD_PS','QD_L','QD_EH','QD_R'], how='all')"
   ]
  },
  {
   "cell_type": "code",
   "execution_count": 164,
   "metadata": {},
   "outputs": [],
   "source": [
    "# Drop samples that have missing data in all selected columns\n",
    "df_cluster = df_cluster.dropna(subset=['ADIR_Soc','ADIR_RRB', 'ADIR_AbDev',\n",
    "                                       'VABS_Com', 'VABS_Soc', 'VABS_Aut'], how = 'all')"
   ]
  },
  {
   "cell_type": "code",
   "execution_count": 165,
   "metadata": {},
   "outputs": [],
   "source": [
    "# Drop samples that have missing data in all selected columns\n",
    "df_cluster = df_cluster.dropna(subset=['VABS_Com', 'VABS_Soc', 'VABS_Aut',\n",
    "                                       'QD_M','QD_PS','QD_L','QD_EH','QD_R'], how = 'all')"
   ]
  },
  {
   "cell_type": "code",
   "execution_count": 166,
   "metadata": {},
   "outputs": [],
   "source": [
    "# Copy from dataset with only variables of interess \n",
    "df_cluster = df_cluster[['QD_M', 'QD_PS', 'QD_L', 'QD_EH', 'QD_R',\n",
    "                         'VABS_Com', 'VABS_Soc', 'VABS_Aut',\n",
    "                         'ADIR_Soc', 'ADIR_RRB', 'ADIR_AbDev']].copy()"
   ]
  },
  {
   "cell_type": "code",
   "execution_count": 167,
   "metadata": {},
   "outputs": [
    {
     "data": {
      "text/plain": [
       "QD_M           33\n",
       "QD_PS          33\n",
       "QD_L           21\n",
       "QD_EH          33\n",
       "QD_R           33\n",
       "VABS_Com      137\n",
       "VABS_Soc      135\n",
       "VABS_Aut      137\n",
       "ADIR_Soc       23\n",
       "ADIR_RRB       24\n",
       "ADIR_AbDev     32\n",
       "dtype: int64"
      ]
     },
     "execution_count": 167,
     "metadata": {},
     "output_type": "execute_result"
    }
   ],
   "source": [
    "# See how missing data for each column\n",
    "df_cluster.isnull().sum()"
   ]
  },
  {
   "cell_type": "code",
   "execution_count": 168,
   "metadata": {},
   "outputs": [
    {
     "data": {
      "text/html": [
       "<div>\n",
       "<style scoped>\n",
       "    .dataframe tbody tr th:only-of-type {\n",
       "        vertical-align: middle;\n",
       "    }\n",
       "\n",
       "    .dataframe tbody tr th {\n",
       "        vertical-align: top;\n",
       "    }\n",
       "\n",
       "    .dataframe thead th {\n",
       "        text-align: right;\n",
       "    }\n",
       "</style>\n",
       "<table border=\"1\" class=\"dataframe\">\n",
       "  <thead>\n",
       "    <tr style=\"text-align: right;\">\n",
       "      <th></th>\n",
       "      <th>QD_M</th>\n",
       "      <th>QD_PS</th>\n",
       "      <th>QD_L</th>\n",
       "      <th>QD_EH</th>\n",
       "      <th>QD_R</th>\n",
       "      <th>VABS_Com</th>\n",
       "      <th>VABS_Soc</th>\n",
       "      <th>VABS_Aut</th>\n",
       "      <th>ADIR_Soc</th>\n",
       "      <th>ADIR_RRB</th>\n",
       "      <th>ADIR_AbDev</th>\n",
       "    </tr>\n",
       "    <tr>\n",
       "      <th>Code</th>\n",
       "      <th></th>\n",
       "      <th></th>\n",
       "      <th></th>\n",
       "      <th></th>\n",
       "      <th></th>\n",
       "      <th></th>\n",
       "      <th></th>\n",
       "      <th></th>\n",
       "      <th></th>\n",
       "      <th></th>\n",
       "      <th></th>\n",
       "    </tr>\n",
       "  </thead>\n",
       "  <tbody>\n",
       "    <tr>\n",
       "      <th>AA1</th>\n",
       "      <td>47.0</td>\n",
       "      <td>35.0</td>\n",
       "      <td>13.0</td>\n",
       "      <td>28.0</td>\n",
       "      <td>38.0</td>\n",
       "      <td>NaN</td>\n",
       "      <td>NaN</td>\n",
       "      <td>NaN</td>\n",
       "      <td>28.0</td>\n",
       "      <td>9.0</td>\n",
       "      <td>2.0</td>\n",
       "    </tr>\n",
       "    <tr>\n",
       "      <th>AA34</th>\n",
       "      <td>43.0</td>\n",
       "      <td>27.0</td>\n",
       "      <td>18.0</td>\n",
       "      <td>25.0</td>\n",
       "      <td>31.0</td>\n",
       "      <td>NaN</td>\n",
       "      <td>NaN</td>\n",
       "      <td>NaN</td>\n",
       "      <td>30.0</td>\n",
       "      <td>8.0</td>\n",
       "      <td>5.0</td>\n",
       "    </tr>\n",
       "    <tr>\n",
       "      <th>AA36</th>\n",
       "      <td>52.0</td>\n",
       "      <td>35.0</td>\n",
       "      <td>8.0</td>\n",
       "      <td>31.0</td>\n",
       "      <td>45.0</td>\n",
       "      <td>NaN</td>\n",
       "      <td>NaN</td>\n",
       "      <td>NaN</td>\n",
       "      <td>30.0</td>\n",
       "      <td>8.0</td>\n",
       "      <td>5.0</td>\n",
       "    </tr>\n",
       "    <tr>\n",
       "      <th>AA72</th>\n",
       "      <td>29.0</td>\n",
       "      <td>21.0</td>\n",
       "      <td>23.0</td>\n",
       "      <td>21.0</td>\n",
       "      <td>20.0</td>\n",
       "      <td>NaN</td>\n",
       "      <td>NaN</td>\n",
       "      <td>NaN</td>\n",
       "      <td>26.0</td>\n",
       "      <td>4.0</td>\n",
       "      <td>5.0</td>\n",
       "    </tr>\n",
       "    <tr>\n",
       "      <th>AA91</th>\n",
       "      <td>28.0</td>\n",
       "      <td>19.0</td>\n",
       "      <td>11.0</td>\n",
       "      <td>18.0</td>\n",
       "      <td>26.0</td>\n",
       "      <td>NaN</td>\n",
       "      <td>NaN</td>\n",
       "      <td>NaN</td>\n",
       "      <td>28.0</td>\n",
       "      <td>8.0</td>\n",
       "      <td>4.0</td>\n",
       "    </tr>\n",
       "    <tr>\n",
       "      <th>...</th>\n",
       "      <td>...</td>\n",
       "      <td>...</td>\n",
       "      <td>...</td>\n",
       "      <td>...</td>\n",
       "      <td>...</td>\n",
       "      <td>...</td>\n",
       "      <td>...</td>\n",
       "      <td>...</td>\n",
       "      <td>...</td>\n",
       "      <td>...</td>\n",
       "      <td>...</td>\n",
       "    </tr>\n",
       "    <tr>\n",
       "      <th>AA927</th>\n",
       "      <td>76.0</td>\n",
       "      <td>55.0</td>\n",
       "      <td>84.0</td>\n",
       "      <td>81.0</td>\n",
       "      <td>84.0</td>\n",
       "      <td>79.0</td>\n",
       "      <td>74.0</td>\n",
       "      <td>79.0</td>\n",
       "      <td>NaN</td>\n",
       "      <td>NaN</td>\n",
       "      <td>NaN</td>\n",
       "    </tr>\n",
       "    <tr>\n",
       "      <th>AA938</th>\n",
       "      <td>97.0</td>\n",
       "      <td>73.0</td>\n",
       "      <td>65.0</td>\n",
       "      <td>77.0</td>\n",
       "      <td>97.0</td>\n",
       "      <td>78.0</td>\n",
       "      <td>68.0</td>\n",
       "      <td>77.0</td>\n",
       "      <td>11.0</td>\n",
       "      <td>3.0</td>\n",
       "      <td>NaN</td>\n",
       "    </tr>\n",
       "    <tr>\n",
       "      <th>AA934</th>\n",
       "      <td>58.0</td>\n",
       "      <td>40.0</td>\n",
       "      <td>20.0</td>\n",
       "      <td>31.0</td>\n",
       "      <td>34.0</td>\n",
       "      <td>47.0</td>\n",
       "      <td>63.0</td>\n",
       "      <td>55.0</td>\n",
       "      <td>10.0</td>\n",
       "      <td>3.0</td>\n",
       "      <td>25.0</td>\n",
       "    </tr>\n",
       "    <tr>\n",
       "      <th>AA942</th>\n",
       "      <td>115.0</td>\n",
       "      <td>85.0</td>\n",
       "      <td>47.0</td>\n",
       "      <td>89.0</td>\n",
       "      <td>85.0</td>\n",
       "      <td>63.0</td>\n",
       "      <td>77.0</td>\n",
       "      <td>69.0</td>\n",
       "      <td>NaN</td>\n",
       "      <td>NaN</td>\n",
       "      <td>NaN</td>\n",
       "    </tr>\n",
       "    <tr>\n",
       "      <th>AA837</th>\n",
       "      <td>80.0</td>\n",
       "      <td>62.0</td>\n",
       "      <td>64.0</td>\n",
       "      <td>83.0</td>\n",
       "      <td>83.0</td>\n",
       "      <td>72.0</td>\n",
       "      <td>59.0</td>\n",
       "      <td>58.0</td>\n",
       "      <td>15.0</td>\n",
       "      <td>3.0</td>\n",
       "      <td>5.0</td>\n",
       "    </tr>\n",
       "  </tbody>\n",
       "</table>\n",
       "<p>661 rows × 11 columns</p>\n",
       "</div>"
      ],
      "text/plain": [
       "        QD_M  QD_PS  QD_L  QD_EH  QD_R  VABS_Com  VABS_Soc  VABS_Aut  \\\n",
       "Code                                                                   \n",
       "AA1     47.0   35.0  13.0   28.0  38.0       NaN       NaN       NaN   \n",
       "AA34    43.0   27.0  18.0   25.0  31.0       NaN       NaN       NaN   \n",
       "AA36    52.0   35.0   8.0   31.0  45.0       NaN       NaN       NaN   \n",
       "AA72    29.0   21.0  23.0   21.0  20.0       NaN       NaN       NaN   \n",
       "AA91    28.0   19.0  11.0   18.0  26.0       NaN       NaN       NaN   \n",
       "...      ...    ...   ...    ...   ...       ...       ...       ...   \n",
       "AA927   76.0   55.0  84.0   81.0  84.0      79.0      74.0      79.0   \n",
       "AA938   97.0   73.0  65.0   77.0  97.0      78.0      68.0      77.0   \n",
       "AA934   58.0   40.0  20.0   31.0  34.0      47.0      63.0      55.0   \n",
       "AA942  115.0   85.0  47.0   89.0  85.0      63.0      77.0      69.0   \n",
       "AA837   80.0   62.0  64.0   83.0  83.0      72.0      59.0      58.0   \n",
       "\n",
       "       ADIR_Soc  ADIR_RRB  ADIR_AbDev  \n",
       "Code                                   \n",
       "AA1        28.0       9.0         2.0  \n",
       "AA34       30.0       8.0         5.0  \n",
       "AA36       30.0       8.0         5.0  \n",
       "AA72       26.0       4.0         5.0  \n",
       "AA91       28.0       8.0         4.0  \n",
       "...         ...       ...         ...  \n",
       "AA927       NaN       NaN         NaN  \n",
       "AA938      11.0       3.0         NaN  \n",
       "AA934      10.0       3.0        25.0  \n",
       "AA942       NaN       NaN         NaN  \n",
       "AA837      15.0       3.0         5.0  \n",
       "\n",
       "[661 rows x 11 columns]"
      ]
     },
     "execution_count": 168,
     "metadata": {},
     "output_type": "execute_result"
    }
   ],
   "source": [
    "df_cluster"
   ]
  },
  {
   "cell_type": "code",
   "execution_count": 169,
   "metadata": {},
   "outputs": [
    {
     "data": {
      "application/vnd.jupyter.widget-view+json": {
       "model_id": "8c8f73a84094490aa6410c6bf07302ad",
       "version_major": 2,
       "version_minor": 0
      },
      "text/plain": [
       "Summarize dataset:   0%|          | 0/5 [00:00<?, ?it/s]"
      ]
     },
     "metadata": {},
     "output_type": "display_data"
    },
    {
     "data": {
      "application/vnd.jupyter.widget-view+json": {
       "model_id": "e744f6018a19496887f7d0372b9a3078",
       "version_major": 2,
       "version_minor": 0
      },
      "text/plain": [
       "Generate report structure:   0%|          | 0/1 [00:00<?, ?it/s]"
      ]
     },
     "metadata": {},
     "output_type": "display_data"
    },
    {
     "data": {
      "application/vnd.jupyter.widget-view+json": {
       "model_id": "acfdee297c16492dbbe39af5dd4fd1d8",
       "version_major": 2,
       "version_minor": 0
      },
      "text/plain": [
       "Render HTML:   0%|          | 0/1 [00:00<?, ?it/s]"
      ]
     },
     "metadata": {},
     "output_type": "display_data"
    },
    {
     "data": {
      "application/vnd.jupyter.widget-view+json": {
       "model_id": "0d4b8e61e7ad41c88979982f2b554c9e",
       "version_major": 2,
       "version_minor": 0
      },
      "text/plain": [
       "Export report to file:   0%|          | 0/1 [00:00<?, ?it/s]"
      ]
     },
     "metadata": {},
     "output_type": "display_data"
    }
   ],
   "source": [
    "# profile report of dataset with only variables of interess\n",
    "profile = ProfileReport(df_cluster, title='Cluster Variables Profile')\n",
    "# export profile report \n",
    "profile.to_file(\"Cluster Variables Profile.html\")"
   ]
  },
  {
   "cell_type": "markdown",
   "metadata": {},
   "source": [
    "### Selection and Treatment of Cluster Categorization Variables"
   ]
  },
  {
   "cell_type": "code",
   "execution_count": 170,
   "metadata": {},
   "outputs": [],
   "source": [
    "# create new dataframe with categorical variables \n",
    "df_var_cat = df[['Gender',\n",
    "                 'ADOS_Sev','ADIR_quot',\n",
    "                 'Dysmorphysm','Language_Regr',\n",
    "                 'Audition', 'Vision',\n",
    "                 'Verbal',\n",
    "                 'Psyc_Family_Hist',\n",
    "                 'PMD_Regression','PMD_Delay',\n",
    "                 'HC','Apgar_1', 'Apgar_5',\n",
    "                 'Diag_Age','Walk_Age',\n",
    "                 'First_Words_Age','First_Phrases_Age', \n",
    "                 'ADIR_Soc', 'ADIR_RRB', 'ADIR_AbDev',\n",
    "                 'VABS_Com', 'VABS_Soc', 'VABS_Aut',\n",
    "                 'QD_M', 'QD_PS', 'QD_L', 'QD_EH', 'QD_R']].copy()"
   ]
  },
  {
   "cell_type": "code",
   "execution_count": 171,
   "metadata": {},
   "outputs": [],
   "source": [
    "# reset index of categorical variables dataset\n",
    "df_var_cat = df_var_cat.reset_index()\n",
    "df_cluster = df_cluster.reset_index()\n",
    "df_var_cat = df_var_cat[df_var_cat.Code.isin(df_cluster.Code)]"
   ]
  },
  {
   "cell_type": "code",
   "execution_count": 172,
   "metadata": {},
   "outputs": [],
   "source": [
    "df_var_cat = df_var_cat.set_index(\"Code\")"
   ]
  },
  {
   "cell_type": "code",
   "execution_count": 173,
   "metadata": {},
   "outputs": [
    {
     "data": {
      "text/plain": [
       "array(['N', 'S', nan], dtype=object)"
      ]
     },
     "execution_count": 173,
     "metadata": {},
     "output_type": "execute_result"
    }
   ],
   "source": [
    "df_var_cat.Dysmorphysm.unique()"
   ]
  },
  {
   "cell_type": "code",
   "execution_count": 174,
   "metadata": {},
   "outputs": [],
   "source": [
    "# replace values from column Dysmorphysm \n",
    "df_var_cat['Dysmorphysm'] = df_var_cat['Dysmorphysm'].replace(['S'],'Yes')\n",
    "df_original['Dysmorphysm'] = df_original['Dysmorphysm'].replace(['S'],'Yes')\n",
    "df_var_cat['Dysmorphysm'] = df_var_cat['Dysmorphysm'].replace(['N'],'No')\n",
    "df_original['Dysmorphysm'] = df_original['Dysmorphysm'].replace(['N'],'No')"
   ]
  },
  {
   "cell_type": "code",
   "execution_count": 175,
   "metadata": {},
   "outputs": [
    {
     "data": {
      "text/plain": [
       "array(['N', 'S', nan], dtype=object)"
      ]
     },
     "execution_count": 175,
     "metadata": {},
     "output_type": "execute_result"
    }
   ],
   "source": [
    "df_var_cat.Language_Regr.unique()"
   ]
  },
  {
   "cell_type": "code",
   "execution_count": 176,
   "metadata": {},
   "outputs": [],
   "source": [
    "# replace values from column Language_Regr \n",
    "df_var_cat['Language_Regr'] = df_var_cat['Language_Regr'].replace(['S'],'Yes')\n",
    "df_original['Language_Regr'] = df_original['Language_Regr'].replace(['S'],'Yes')\n",
    "df_var_cat['Language_Regr'] = df_var_cat['Language_Regr'].replace(['N'],'No')\n",
    "df_original['Language_Regr'] = df_original['Language_Regr'].replace(['N'],'No')"
   ]
  },
  {
   "cell_type": "code",
   "execution_count": 177,
   "metadata": {},
   "outputs": [
    {
     "data": {
      "text/plain": [
       "array(['S', '2A', 'N', '3 anos', nan, '3 Ano_x000B_', '4 anos', '3A'],\n",
       "      dtype=object)"
      ]
     },
     "execution_count": 177,
     "metadata": {},
     "output_type": "execute_result"
    }
   ],
   "source": [
    "# see values of column PMD_Delay\n",
    "df_var_cat.PMD_Delay.unique()"
   ]
  },
  {
   "cell_type": "code",
   "execution_count": 178,
   "metadata": {},
   "outputs": [],
   "source": [
    "# replace values from column PMD_Delay \n",
    "df_var_cat['PMD_Delay'] = df_var_cat['PMD_Delay'].replace(['2A', '3 anos', '3 Ano_x000B_', '4 anos', '3A', 'S'],'Yes')\n",
    "df_original['PMD_Delay'] = df_original['PMD_Delay'].replace(['2A', '3 anos', '3 Ano_x000B_', '4 anos', '3A','S'],'Yes')\n",
    "df_var_cat['PMD_Delay'] = df_var_cat['PMD_Delay'].replace(['N'],'No')\n",
    "df_original['PMD_Delay'] = df_original['PMD_Delay'].replace(['N'],'No')"
   ]
  },
  {
   "cell_type": "code",
   "execution_count": 179,
   "metadata": {},
   "outputs": [
    {
     "data": {
      "text/plain": [
       "array(['N', 'S', nan], dtype=object)"
      ]
     },
     "execution_count": 179,
     "metadata": {},
     "output_type": "execute_result"
    }
   ],
   "source": [
    "df_var_cat.PMD_Regression.unique()"
   ]
  },
  {
   "cell_type": "code",
   "execution_count": 180,
   "metadata": {},
   "outputs": [],
   "source": [
    "df_var_cat['PMD_Regression'] = df_var_cat['PMD_Regression'].replace(['S'],'Yes')\n",
    "df_original['PMD_Regression'] = df_original['PMD_Regression'].replace(['S'],'Yes')\n",
    "df_var_cat['PMD_Regression'] = df_var_cat['PMD_Regression'].replace(['N'],'No')\n",
    "df_original['PMD_Regression'] = df_original['PMD_Regression'].replace(['N'],'No')"
   ]
  },
  {
   "cell_type": "code",
   "execution_count": 181,
   "metadata": {},
   "outputs": [
    {
     "data": {
      "text/plain": [
       "array(['S', 'N', nan, 'outro'], dtype=object)"
      ]
     },
     "execution_count": 181,
     "metadata": {},
     "output_type": "execute_result"
    }
   ],
   "source": [
    "# see value for Psyc_Family_Hist\n",
    "df_var_cat.Psyc_Family_Hist.unique()"
   ]
  },
  {
   "cell_type": "code",
   "execution_count": 182,
   "metadata": {},
   "outputs": [],
   "source": [
    "# replace values from column Psyc_Family_Hist\n",
    "df_var_cat['Psyc_Family_Hist'] = df_var_cat['Psyc_Family_Hist'].replace(['outro'],pd.NA)\n",
    "df_original['Psyc_Family_Hist'] = df_original['Psyc_Family_Hist'].replace(['outro'],pd.NA)\n",
    "df_var_cat['Psyc_Family_Hist'] = df_var_cat['Psyc_Family_Hist'].replace(['S'],'Yes')\n",
    "df_original['Psyc_Family_Hist'] = df_original['Psyc_Family_Hist'].replace(['S'],'Yes')\n",
    "df_var_cat['Psyc_Family_Hist'] = df_var_cat['Psyc_Family_Hist'].replace(['N'],'No')\n",
    "df_original['Psyc_Family_Hist'] = df_original['Psyc_Family_Hist'].replace(['N'],'No')"
   ]
  },
  {
   "cell_type": "code",
   "execution_count": 183,
   "metadata": {},
   "outputs": [
    {
     "data": {
      "text/plain": [
       "array(['Normal_x001D_Normal- ORL', 'Normal C',\n",
       "       'Surdez( especificar)_x001D_anormal- ORL', 'Normal- ORL',\n",
       "       'Surdez( especificar)_x001D_surdez ligeira transmissão-Eda',\n",
       "       'Normal', 'Normal-segundo inf. mãe', nan,\n",
       "       'Não avaliada_x001D_Normal- ORL',\n",
       "       'surdez ligeira transmissão-Eda_x001D_anormal- ORL',\n",
       "       'PEA - normal', 'em estudo',\n",
       "       'Clinicamente normal_x001D_Não avaliada por ORL',\n",
       "       'Clinicamente normal', 'Normal_x001D_PEA - normal',\n",
       "       'Normal- ORL_x001D_PEA - normal', 'PEA - normal_x001D_Normal- ORL',\n",
       "       'PEA - Normal', 'surdez ligeira transmissão-Eda',\n",
       "       'ORL-défice auditivo ligeiro', 'anormal- ORL_x001D_Alteração Dta.',\n",
       "       'aguarda avaliação ORL',\n",
       "       'Défice auditivo 20-30Db_x001D_anormal- ORL', 'anormal- ORL',\n",
       "       'alterado - ORL', 'Vai ser avaliado', 'Aguarda ORL',\n",
       "       'Normal - ORL', 'Duvidoso',\n",
       "       'anormal- ORL_x001D_surdez transmissão OD', 'Normal C ?',\n",
       "       'Normal ORL', 'Normal- ORL_x001D_Normal',\n",
       "       'em estudo_x001D_surdez ligeira transmissão-Eda',\n",
       "       'anormal- ORL_x001D_surdez ligeira transmissão-Eda'], dtype=object)"
      ]
     },
     "execution_count": 183,
     "metadata": {},
     "output_type": "execute_result"
    }
   ],
   "source": [
    "# see values of column Audition \n",
    "df_var_cat['Audition'].unique()"
   ]
  },
  {
   "cell_type": "code",
   "execution_count": 184,
   "metadata": {},
   "outputs": [],
   "source": [
    "# replace values of column Audition\n",
    "df_var_cat['Audition'] = df_var_cat['Audition'].replace(['Normal- ORL', 'Normal C', 'Normal',\n",
    "                                                       'Normal-segundo inf. mãe', 'Não avaliada_x001D_Normal- ORL',\n",
    "                                                       'PEA - normal','Clinicamente normal_x001D_Não avaliada por ORL',\n",
    "                                                       'Clinicamente normal', 'Normal_x001D_PEA - normal',\n",
    "                                                       'Normal- ORL_x001D_PEA - normal', 'PEA - normal_x001D_Normal- ORL', \n",
    "                                                       'PEA - Normal','Normal C_x001D_Normal- ORL', 'Normal - ORL', \n",
    "                                                       'Normal C_x001D_Pedida ORL','Normal C ?','Normal ORL', \n",
    "                                                       'Normal_x001D_Normal- ORL','Normal- ORL_x001D_Normal'],'Normal')\n",
    "df_original['Audition'] = df_original['Audition'].replace(['Normal- ORL', 'Normal C', 'Normal',\n",
    "                                                       'Normal-segundo inf. mãe', 'Não avaliada_x001D_Normal- ORL',\n",
    "                                                       'PEA - normal','Clinicamente normal_x001D_Não avaliada por ORL',\n",
    "                                                       'Clinicamente normal', 'Normal_x001D_PEA - normal',\n",
    "                                                       'Normal- ORL_x001D_PEA - normal', 'PEA - normal_x001D_Normal- ORL', \n",
    "                                                       'PEA - Normal','Normal C_x001D_Normal- ORL', 'Normal - ORL', \n",
    "                                                       'Normal C_x001D_Pedida ORL','Normal C ?','Normal ORL', \n",
    "                                                       'Normal_x001D_Normal- ORL','Normal- ORL_x001D_Normal'],'Normal')"
   ]
  },
  {
   "cell_type": "code",
   "execution_count": 185,
   "metadata": {},
   "outputs": [],
   "source": [
    "# replace values of column Audition\n",
    "df_var_cat['Audition'] = df_var_cat['Audition'].replace(['Surdez NS profunda_x001D_anormal- ORL',\n",
    "                                                       'Surdez( especificar)_x001D_surdez ligeira transmissão-Eda',\n",
    "                                                       'surdez ligeira transmissão-Eda_x001D_anormal- ORL',\n",
    "                                                       'Cirurgia ORL_x001D_Otite serosa',\n",
    "                                                       'surdez ligeira transmissão-Eda', 'ORL-défice auditivo ligeiro',\n",
    "                                                       'anormal- ORL_x001D_Alteração Dta.',\n",
    "                                                       'Défice auditivo 20-30Db_x001D_anormal- ORL', 'anormal- ORL',\n",
    "                                                       'alterado - ORL','anormal- ORL_x001D_surdez transmissão OD', \n",
    "                                                       'anormal- ORL_x001D_surdez ligeira transmissão-Eda',\n",
    "                                                       'em estudo_x001D_surdez ligeira transmissão-Eda',\n",
    "                                                       'Surdez( especificar)_x001D_anormal- ORL',\n",
    "                                                       'anormal- ORL_x001D_surdez NS profunda',\n",
    "                                                       'Surdez NS profunda',\n",
    "                                                       'surdez ligeira transmissão-Eda_x001D_Normal- ORL'],'Abnormal')\n",
    "# replace values of column Audition\n",
    "df_original['Audition'] = df_original['Audition'].replace(['Surdez NS profunda_x001D_anormal- ORL',\n",
    "                                                       'Surdez( especificar)_x001D_surdez ligeira transmissão-Eda',\n",
    "                                                       'surdez ligeira transmissão-Eda_x001D_anormal- ORL',\n",
    "                                                       'Cirurgia ORL_x001D_Otite serosa',\n",
    "                                                       'surdez ligeira transmissão-Eda', 'ORL-défice auditivo ligeiro',\n",
    "                                                       'anormal- ORL_x001D_Alteração Dta.',\n",
    "                                                       'Défice auditivo 20-30Db_x001D_anormal- ORL', 'anormal- ORL',\n",
    "                                                       'alterado - ORL','anormal- ORL_x001D_surdez transmissão OD', \n",
    "                                                       'anormal- ORL_x001D_surdez ligeira transmissão-Eda',\n",
    "                                                       'em estudo_x001D_surdez ligeira transmissão-Eda',\n",
    "                                                       'Surdez( especificar)_x001D_anormal- ORL',\n",
    "                                                       'anormal- ORL_x001D_surdez NS profunda',\n",
    "                                                       'Surdez NS profunda',\n",
    "                                                       'surdez ligeira transmissão-Eda_x001D_Normal- ORL'],'Abnormal')"
   ]
  },
  {
   "cell_type": "code",
   "execution_count": 186,
   "metadata": {},
   "outputs": [],
   "source": [
    "# replace values of column Audition\n",
    "df_var_cat['Audition'] = df_var_cat['Audition'].replace(['em estudo','aguarda avaliação ORL','Duvidoso', \n",
    "                                                       'Vai ser avaliado', 'Aguarda ORL', np.nan], pd.NA)\n",
    "# replace values of column Audition\n",
    "df_original['Audition'] = df_original['Audition'].replace(['em estudo','aguarda avaliação ORL','Duvidoso', \n",
    "                                                       'Vai ser avaliado', 'Aguarda ORL', np.nan], pd.NA)"
   ]
  },
  {
   "cell_type": "code",
   "execution_count": 187,
   "metadata": {},
   "outputs": [
    {
     "data": {
      "text/plain": [
       "array(['Normal', 'Abnormal', <NA>], dtype=object)"
      ]
     },
     "execution_count": 187,
     "metadata": {},
     "output_type": "execute_result"
    }
   ],
   "source": [
    "# see values of column Audition\n",
    "df_var_cat['Audition'].unique()"
   ]
  },
  {
   "cell_type": "code",
   "execution_count": 188,
   "metadata": {},
   "outputs": [
    {
     "data": {
      "text/plain": [
       "array(['Normal C', 'Anormal/of_x001D_Estrabismo', 'Normal-Oftal',\n",
       "       'Estrabismo_x001D_Anormal/of', nan, 'Anormal/of_x001D_Miopia',\n",
       "       'Anormal/of_x001D_Miopia_x001D_Astigmatismo',\n",
       "       'Anormal/of_x001D_usa oculos', 'Anormal/of',\n",
       "       'Anormal_x001D_microftalmia/albinismo ocular', 'Normal',\n",
       "       'Estrabismo_x001D_Anormal', 'Anormal_x001D_Miopia',\n",
       "       'Anormal/of_x001D_Astigmatismo_x001D_Miopia', 'Anormal',\n",
       "       'Estrabismo_x001D_usa oculos_x001D_Anormal',\n",
       "       'Normal-Oftal_x001D_Miopia_x001D_Usa Óculos',\n",
       "       'Miopia_x001D_Anormal',\n",
       "       'Usa Óculos_x001D_Astigmatismo_x001D_Anormal/of',\n",
       "       'Anormal/of_x001D_Usa Óculos_x001D_Miopia', 'Clinicamente normal',\n",
       "       'Estrabismo', 'Hipermetropia_x001D_Estrabismo_x001D_usa oculos',\n",
       "       'Normal_x001D_Normal C', 'Estrabismo???',\n",
       "       'Estrabismo_x001D_vai à consulta_x001D_Anormal/of',\n",
       "       'Normal - Oftal_x001D_Miopia', 'Miopia_x001D_Anormal/of',\n",
       "       'Usa Óculos', 'Alterada - Oftal._x001D_Astigmatismo',\n",
       "       'Usa Óculos_x001D_Miopia_x001D_Alterada - Oftal.',\n",
       "       'Anormal/of_x001D_Astigmatismo', 'Normal Oftal',\n",
       "       'Estrabismo_x001D_Hipermetropia_x001D_Usa Óculos',\n",
       "       'Anormal_x001D_nistagmus', 'Normal teste', 'Normal - Oftal',\n",
       "       'Anormal/of_x001D_ROP sem defice visual', 'Não avaliada',\n",
       "       'Estrabismo_x001D_Seguido em oftamologia_x001D_Alterada - Oftal.'],\n",
       "      dtype=object)"
      ]
     },
     "execution_count": 188,
     "metadata": {},
     "output_type": "execute_result"
    }
   ],
   "source": [
    "# see values of column Vision \n",
    "df_var_cat['Vision'].unique()"
   ]
  },
  {
   "cell_type": "code",
   "execution_count": 189,
   "metadata": {},
   "outputs": [],
   "source": [
    "# replace values of column Vision\n",
    "df_var_cat['Vision'] = df_var_cat['Vision'].replace(['Normal C','Normal-Oftal',\n",
    "                                                   'Normal','Normal-Oftal_x001D_Miopia_x001D_Usa àculos',\n",
    "                                                   'Clinicamente normal','Normal_x001D_Normal C',\n",
    "                                                   'Normal - Oftal_x001D_Miopia','Normal Oftal',\n",
    "                                                   'Normal teste', 'Normal - Oftal', \n",
    "                                                   'Normal-Oftal_x001D_Miopia_x001D_Usa Óculos'],'Normal')\n",
    "df_original['Vision'] = df_original['Vision'].replace(['Normal C','Normal-Oftal',\n",
    "                                                   'Normal','Normal-Oftal_x001D_Miopia_x001D_Usa àculos',\n",
    "                                                   'Clinicamente normal','Normal_x001D_Normal C',\n",
    "                                                   'Normal - Oftal_x001D_Miopia','Normal Oftal',\n",
    "                                                   'Normal teste', 'Normal - Oftal', \n",
    "                                                   'Normal-Oftal_x001D_Miopia_x001D_Usa Óculos'],'Normal')"
   ]
  },
  {
   "cell_type": "code",
   "execution_count": 190,
   "metadata": {},
   "outputs": [],
   "source": [
    "# replace values of column Vision\n",
    "df_var_cat['Vision'] = df_var_cat['Vision'].replace(['Anormal/of_x001D_Miopia',\n",
    "                                                   'Anormal/of_x001D_Estrabismo',\n",
    "                                                   'Anormal/of_x001D_Hipermetropia',\n",
    "                                                   'Anormal/of_x001D_Miopia_x001D_Astigmatismo',\n",
    "                                                   'Anormal/of_x001D_usa oculos',\n",
    "                                                   'Anormal_x001D_microftalmia/albinismo ocular',\n",
    "                                                   'Estrabismo_x001D_Anormal',\n",
    "                                                   'Estrabismo (??)_x001D_Anormal', 'Anormal_x001D_Miopia',\n",
    "                                                   'Anormal/of_x001D_Astigmatismo_x001D_Miopia', 'Anormal',\n",
    "                                                   'Estrabismo_x001D_usa oculos_x001D_Anormal',\n",
    "                                                   'Anormal_x001D_Estrabismo_x001D_Astigmatismo', 'Estrabismo',\n",
    "                                                   'Miopia_x001D_Anormal', 'usa oculos_x001D_Anormal',\n",
    "                                                   'Miopia_x001D_Astigmatismo_x001D_Anormal/of',\n",
    "                                                   'Usa àculos_x001D_Astigmatismo_x001D_Anormal/of',\n",
    "                                                   'Anormal/of_x001D_Usa àculos_x001D_Miopia',\n",
    "                                                   'Hipermetropia_x001D_Estrabismo_x001D_usa oculos',\n",
    "                                                   'Estrabismo???','Estrabismo_x001D_vai … consulta_x001D_Anormal/of',\n",
    "                                                   'Astigmatismo_x001D_Miopia_x001D_usa oculos',\n",
    "                                                   'Alterada - Oftal._x001D_Usa àculos', 'Miopia_x001D_Anormal/of',\n",
    "                                                   'Usa àculos', 'Alterada - Oftal._x001D_Astigmatismo',\n",
    "                                                   'Usa àculos_x001D_Miopia_x001D_Alterada - Oftal.',\n",
    "                                                   'Anormal/of_x001D_Astigmatismo',\n",
    "                                                   'Estrabismo_x001D_Hipermetropia_x001D_Usa àculos',\n",
    "                                                   'Anormal_x001D_nistagmus',\n",
    "                                                   'Alterada - Oftal._x001D_Astigmatismo_x001D_Miopia',\n",
    "                                                   'Anormal/of_x001D_ROP sem defice visual',\n",
    "                                                   'Estrabismo_x001D_Anormal/of', 'Anormal/of',\n",
    "                                                   'Usa Óculos_x001D_Astigmatismo_x001D_Anormal/of',\n",
    "                                                   'Anormal/of_x001D_Usa Óculos_x001D_Miopia',\n",
    "                                                   'Estrabismo_x001D_vai à consulta_x001D_Anormal/of',\n",
    "                                                   'Alterada - Oftal._x001D_Usa Óculos', 'Usa Óculos',\n",
    "                                                   'Usa Óculos_x001D_Miopia_x001D_Alterada - Oftal.',\n",
    "                                                   'Estrabismo_x001D_Hipermetropia_x001D_Usa Óculos',\n",
    "                                                   'Estrabismo_x001D_Seguido em oftamologia_x001D_Alterada - Oftal.',\n",
    "                                                   'Hipermetropia',\n",
    "                                                   'Hipermetropia_x001D_Usa Óculos'],'Abnormal')\n",
    "df_original['Vision'] = df_original['Vision'].replace(['Anormal/of_x001D_Miopia',\n",
    "                                                   'Anormal/of_x001D_Estrabismo',\n",
    "                                                   'Anormal/of_x001D_Hipermetropia',\n",
    "                                                   'Anormal/of_x001D_Miopia_x001D_Astigmatismo',\n",
    "                                                   'Anormal/of_x001D_usa oculos',\n",
    "                                                   'Anormal_x001D_microftalmia/albinismo ocular',\n",
    "                                                   'Estrabismo_x001D_Anormal',\n",
    "                                                   'Estrabismo (??)_x001D_Anormal', 'Anormal_x001D_Miopia',\n",
    "                                                   'Anormal/of_x001D_Astigmatismo_x001D_Miopia', 'Anormal',\n",
    "                                                   'Estrabismo_x001D_usa oculos_x001D_Anormal',\n",
    "                                                   'Anormal_x001D_Estrabismo_x001D_Astigmatismo', 'Estrabismo',\n",
    "                                                   'Miopia_x001D_Anormal', 'usa oculos_x001D_Anormal',\n",
    "                                                   'Miopia_x001D_Astigmatismo_x001D_Anormal/of',\n",
    "                                                   'Usa àculos_x001D_Astigmatismo_x001D_Anormal/of',\n",
    "                                                   'Anormal/of_x001D_Usa àculos_x001D_Miopia',\n",
    "                                                   'Hipermetropia_x001D_Estrabismo_x001D_usa oculos',\n",
    "                                                   'Estrabismo???','Estrabismo_x001D_vai … consulta_x001D_Anormal/of',\n",
    "                                                   'Astigmatismo_x001D_Miopia_x001D_usa oculos',\n",
    "                                                   'Alterada - Oftal._x001D_Usa àculos', 'Miopia_x001D_Anormal/of',\n",
    "                                                   'Usa àculos', 'Alterada - Oftal._x001D_Astigmatismo',\n",
    "                                                   'Usa àculos_x001D_Miopia_x001D_Alterada - Oftal.',\n",
    "                                                   'Anormal/of_x001D_Astigmatismo',\n",
    "                                                   'Estrabismo_x001D_Hipermetropia_x001D_Usa àculos',\n",
    "                                                   'Anormal_x001D_nistagmus',\n",
    "                                                   'Alterada - Oftal._x001D_Astigmatismo_x001D_Miopia',\n",
    "                                                   'Anormal/of_x001D_ROP sem defice visual',\n",
    "                                                   'Estrabismo_x001D_Anormal/of', 'Anormal/of',\n",
    "                                                   'Usa Óculos_x001D_Astigmatismo_x001D_Anormal/of',\n",
    "                                                   'Anormal/of_x001D_Usa Óculos_x001D_Miopia',\n",
    "                                                   'Estrabismo_x001D_vai à consulta_x001D_Anormal/of',\n",
    "                                                   'Alterada - Oftal._x001D_Usa Óculos', 'Usa Óculos',\n",
    "                                                   'Usa Óculos_x001D_Miopia_x001D_Alterada - Oftal.',\n",
    "                                                   'Estrabismo_x001D_Hipermetropia_x001D_Usa Óculos',\n",
    "                                                   'Estrabismo_x001D_Seguido em oftamologia_x001D_Alterada - Oftal.',\n",
    "                                                   'Hipermetropia',\n",
    "                                                   'Hipermetropia_x001D_Usa Óculos'],'Abnormal')"
   ]
  },
  {
   "cell_type": "code",
   "execution_count": 191,
   "metadata": {},
   "outputs": [],
   "source": [
    "# replace values of column Vision\n",
    "df_var_cat['Vision'] = df_var_cat['Vision'].replace(['Não avaliada', np.nan],pd.NA)\n",
    "df_original['Vision'] = df_original['Vision'].replace(['Não avaliada', np.nan],pd.NA)"
   ]
  },
  {
   "cell_type": "code",
   "execution_count": 192,
   "metadata": {},
   "outputs": [
    {
     "data": {
      "text/plain": [
       "array(['Normal', 'Abnormal', <NA>], dtype=object)"
      ]
     },
     "execution_count": 192,
     "metadata": {},
     "output_type": "execute_result"
    }
   ],
   "source": [
    "# see values of column Vision\n",
    "df_var_cat['Vision'].unique()"
   ]
  },
  {
   "cell_type": "code",
   "execution_count": 193,
   "metadata": {},
   "outputs": [
    {
     "data": {
      "text/plain": [
       "array(['Positive', 'Negative', <NA>], dtype=object)"
      ]
     },
     "execution_count": 193,
     "metadata": {},
     "output_type": "execute_result"
    }
   ],
   "source": [
    "# see values of column ADIR_quot \n",
    "df_var_cat['ADIR_quot'].unique()"
   ]
  },
  {
   "cell_type": "code",
   "execution_count": 194,
   "metadata": {},
   "outputs": [
    {
     "data": {
      "text/plain": [
       "array([ nan, 34. , 33.8, 34.5, 35.4, 36.5, 35.8, 35.5, 32. , 33. , 36. ,\n",
       "       35. , 38. , 33.5, 37. , 30. , 34.9, 31. , 29.5, 32.8, 38.5, 37.5,\n",
       "       39. , 33.6, 32.5, 29. , 10. , 75. , 37.2, 28.5, 35.7, 31.5, 35.3,\n",
       "       35.2, 25. , 34.3, 36.4, 50. , 37.3, 37.8, 33.9, 36.3, 36.1, 39.5,\n",
       "       27.8, 32.2, 33.4, 36.2, 26. , 34.2, 30.5, 36.8, 34.7, 36.9, 32.6,\n",
       "       51. , 33.2])"
      ]
     },
     "execution_count": 194,
     "metadata": {},
     "output_type": "execute_result"
    }
   ],
   "source": [
    "# check HC values \n",
    "df_var_cat.HC.unique()"
   ]
  },
  {
   "cell_type": "code",
   "execution_count": 195,
   "metadata": {},
   "outputs": [
    {
     "data": {
      "text/plain": [
       "Counter({<NA>: 104, 'Autism': 443, 'ASD': 108, 'Non Spectrum': 6})"
      ]
     },
     "execution_count": 195,
     "metadata": {},
     "output_type": "execute_result"
    }
   ],
   "source": [
    "Counter(df_var_cat.ADOS_Sev)"
   ]
  },
  {
   "cell_type": "code",
   "execution_count": 196,
   "metadata": {},
   "outputs": [],
   "source": [
    "# transform strange value into NA\n",
    "df_var_cat['HC'] = df_var_cat['HC'].replace({2532.0:np.nan})\n",
    "df_var_cat['HC'] = df_var_cat['HC'].apply(pd.to_numeric, errors='coerce')\n",
    "df_original['HC'] = df_original['HC'].replace({2532.0:np.nan})\n",
    "df_original['HC'] = df_original['HC'].apply(pd.to_numeric, errors='coerce')"
   ]
  },
  {
   "cell_type": "code",
   "execution_count": 197,
   "metadata": {},
   "outputs": [
    {
     "data": {
      "application/vnd.jupyter.widget-view+json": {
       "model_id": "2b038d484f9f40c1943e5be15b297cfc",
       "version_major": 2,
       "version_minor": 0
      },
      "text/plain": [
       "Summarize dataset:   0%|          | 0/5 [00:00<?, ?it/s]"
      ]
     },
     "metadata": {},
     "output_type": "display_data"
    },
    {
     "data": {
      "application/vnd.jupyter.widget-view+json": {
       "model_id": "fa59e593048f4bdca9d0e6e16ad3f799",
       "version_major": 2,
       "version_minor": 0
      },
      "text/plain": [
       "Generate report structure:   0%|          | 0/1 [00:00<?, ?it/s]"
      ]
     },
     "metadata": {},
     "output_type": "display_data"
    },
    {
     "data": {
      "application/vnd.jupyter.widget-view+json": {
       "model_id": "49b7a1b9efcd494295b2ec998506f2ea",
       "version_major": 2,
       "version_minor": 0
      },
      "text/plain": [
       "Render HTML:   0%|          | 0/1 [00:00<?, ?it/s]"
      ]
     },
     "metadata": {},
     "output_type": "display_data"
    },
    {
     "data": {
      "application/vnd.jupyter.widget-view+json": {
       "model_id": "f3e6c5482b4d4398b4eeb5ff5a59f6a5",
       "version_major": 2,
       "version_minor": 0
      },
      "text/plain": [
       "Export report to file:   0%|          | 0/1 [00:00<?, ?it/s]"
      ]
     },
     "metadata": {},
     "output_type": "display_data"
    }
   ],
   "source": [
    "# profile report of dataset with only variables of interess\n",
    "profile = ProfileReport(df_var_cat, title='Descriptive Variables Profile')\n",
    "# export profile report \n",
    "profile.to_file(\"Descriptive Variables Profile.html\")"
   ]
  },
  {
   "cell_type": "markdown",
   "metadata": {},
   "source": [
    "### Save Datasets Into csv. files"
   ]
  },
  {
   "cell_type": "code",
   "execution_count": 198,
   "metadata": {},
   "outputs": [],
   "source": [
    "# reset indx of original dataset\n",
    "df_original = df_original.reset_index()"
   ]
  },
  {
   "cell_type": "code",
   "execution_count": 199,
   "metadata": {},
   "outputs": [],
   "source": [
    "# reset indx of categorization variables dataset\n",
    "df_var_cat = df_var_cat.reset_index()"
   ]
  },
  {
   "cell_type": "code",
   "execution_count": 200,
   "metadata": {},
   "outputs": [],
   "source": [
    "# create dataset that contains only the samples that will go to cluster analysis \n",
    "df_included = df_original[df_original.Code.isin(df_cluster.Code)]"
   ]
  },
  {
   "cell_type": "code",
   "execution_count": 201,
   "metadata": {},
   "outputs": [],
   "source": [
    "df_included.set_index('Code', inplace=True)\n",
    "df_cluster.set_index('Code', inplace=True)"
   ]
  },
  {
   "cell_type": "code",
   "execution_count": 202,
   "metadata": {},
   "outputs": [
    {
     "name": "stderr",
     "output_type": "stream",
     "text": [
      "/home/aalmeida/miniconda3/envs/clinical_data/lib/python3.8/site-packages/pandas/core/frame.py:7511: SettingWithCopyWarning: \n",
      "A value is trying to be set on a copy of a slice from a DataFrame.\n",
      "Try using .loc[row_indexer,col_indexer] = value instead\n",
      "\n",
      "See the caveats in the documentation: https://pandas.pydata.org/pandas-docs/stable/user_guide/indexing.html#returning-a-view-versus-a-copy\n",
      "  self[col] = expressions.where(mask, this, that)\n"
     ]
    }
   ],
   "source": [
    "df_included.update(df_cluster)"
   ]
  },
  {
   "cell_type": "code",
   "execution_count": 203,
   "metadata": {},
   "outputs": [],
   "source": [
    "df_included = df_included.reset_index()\n",
    "df_cluster = df_cluster.reset_index()"
   ]
  },
  {
   "cell_type": "code",
   "execution_count": 204,
   "metadata": {},
   "outputs": [],
   "source": [
    "# create dataset that contains only the samples that were excluded from the cluster analysis \n",
    "df_excluded = df_original[~df_original.Code.isin(df_cluster.Code)]"
   ]
  },
  {
   "cell_type": "code",
   "execution_count": 205,
   "metadata": {},
   "outputs": [],
   "source": [
    "# save original dataset to csv file\n",
    "df_original.to_csv(\"original_dataset.csv\", index = False)"
   ]
  },
  {
   "cell_type": "code",
   "execution_count": 206,
   "metadata": {},
   "outputs": [],
   "source": [
    "# save dataset to csv file\n",
    "df_cluster.to_csv(\"clusters_variables.csv\", index = False)"
   ]
  },
  {
   "cell_type": "code",
   "execution_count": 207,
   "metadata": {},
   "outputs": [],
   "source": [
    "# save categorization variables dataset to csv file\n",
    "df_var_cat.to_csv(\"descriptive_variables.csv\", index = False)"
   ]
  },
  {
   "cell_type": "code",
   "execution_count": 208,
   "metadata": {},
   "outputs": [],
   "source": [
    "# save included dataset to csv file\n",
    "df_included.to_csv(\"df_included_samples.csv\", index = False)"
   ]
  },
  {
   "cell_type": "code",
   "execution_count": 209,
   "metadata": {},
   "outputs": [],
   "source": [
    "# save excluded dataset to csv file\n",
    "df_excluded.to_csv(\"df_excluded_samples.csv\", index = False)"
   ]
  }
 ],
 "metadata": {
  "kernelspec": {
   "display_name": "Python 3",
   "language": "python",
   "name": "python3"
  },
  "language_info": {
   "codemirror_mode": {
    "name": "ipython",
    "version": 3
   },
   "file_extension": ".py",
   "mimetype": "text/x-python",
   "name": "python",
   "nbconvert_exporter": "python",
   "pygments_lexer": "ipython3",
   "version": "3.8.5"
  }
 },
 "nbformat": 4,
 "nbformat_minor": 5
}
