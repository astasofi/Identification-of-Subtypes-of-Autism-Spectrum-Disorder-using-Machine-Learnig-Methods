{
 "cells": [
  {
   "cell_type": "markdown",
   "metadata": {},
   "source": [
    "### Imports"
   ]
  },
  {
   "cell_type": "code",
   "execution_count": 1,
   "metadata": {},
   "outputs": [
    {
     "data": {
      "text/plain": [
       "'3.8.12 (default, Oct 12 2021, 13:49:34) \\n[GCC 7.5.0]'"
      ]
     },
     "execution_count": 1,
     "metadata": {},
     "output_type": "execute_result"
    }
   ],
   "source": [
    "import sys\n",
    "sys.version"
   ]
  },
  {
   "cell_type": "code",
   "execution_count": 2,
   "metadata": {},
   "outputs": [],
   "source": [
    "from collections import Counter\n",
    "import pandas as pd\n",
    "import pandas_schema\n",
    "from pandas_schema import Column\n",
    "from pandas_schema.validation import CustomElementValidation\n",
    "from decimal import *\n",
    "import numpy as np\n",
    "from matplotlib.ticker import ScalarFormatter, FormatStrFormatter\n",
    "from pandas_profiling import ProfileReport\n",
    "import scipy.stats as stats\n",
    "from scipy.stats import chi2_contingency\n",
    "import numpy as np\n",
    "from sklearn.preprocessing import StandardScaler\n",
    "import matplotlib.pyplot as plt\n",
    "import seaborn as sns\n",
    "%matplotlib inline"
   ]
  },
  {
   "cell_type": "markdown",
   "metadata": {},
   "source": [
    "### Read csv. files"
   ]
  },
  {
   "cell_type": "code",
   "execution_count": 3,
   "metadata": {},
   "outputs": [],
   "source": [
    "df_original = pd.read_csv('original_dataset.csv', index_col = 'Code')\n",
    "df_excluded = pd.read_csv('df_excluded_samples.csv', index_col = 'Code')\n",
    "df_included = pd.read_csv('df_included_samples.csv', index_col = 'Code')"
   ]
  },
  {
   "cell_type": "code",
   "execution_count": 4,
   "metadata": {},
   "outputs": [],
   "source": [
    "df_included = df_included[['Race','Gender',\n",
    "                           'ADOS_Sev','ADIR_quot',\n",
    "                           'Dysmorphysm','Language_Regr',\n",
    "                           'Audition', 'Vision','Verbal',\n",
    "                           'Psyc_Family_Hist','PMD_Regression','PMD_Delay',\n",
    "                           'HC','Apgar_1', 'Apgar_5',\n",
    "                           'Diag_Age','Walk_Age','First_Words_Age','First_Phrases_Age',\n",
    "                           'ADIR_Soc', 'ADIR_RRB', 'ADIR_AbDev',\n",
    "                           'VABS_Com', 'VABS_Soc', 'VABS_Aut',\n",
    "                           'QD_M', 'QD_PS', 'QD_L', 'QD_EH', 'QD_R']].copy()"
   ]
  },
  {
   "cell_type": "code",
   "execution_count": 55,
   "metadata": {},
   "outputs": [
    {
     "data": {
      "text/html": [
       "<div>\n",
       "<style scoped>\n",
       "    .dataframe tbody tr th:only-of-type {\n",
       "        vertical-align: middle;\n",
       "    }\n",
       "\n",
       "    .dataframe tbody tr th {\n",
       "        vertical-align: top;\n",
       "    }\n",
       "\n",
       "    .dataframe thead th {\n",
       "        text-align: right;\n",
       "    }\n",
       "</style>\n",
       "<table border=\"1\" class=\"dataframe\">\n",
       "  <thead>\n",
       "    <tr style=\"text-align: right;\">\n",
       "      <th></th>\n",
       "      <th>Race</th>\n",
       "      <th>Gender</th>\n",
       "      <th>ADOS_Sev</th>\n",
       "      <th>ADIR_quot</th>\n",
       "      <th>Dysmorphysm</th>\n",
       "      <th>Language_Regr</th>\n",
       "      <th>Audition</th>\n",
       "      <th>Vision</th>\n",
       "      <th>Verbal</th>\n",
       "      <th>Psyc_Family_Hist</th>\n",
       "      <th>...</th>\n",
       "      <th>ADIR_RRB</th>\n",
       "      <th>ADIR_AbDev</th>\n",
       "      <th>VABS_Com</th>\n",
       "      <th>VABS_Soc</th>\n",
       "      <th>VABS_Aut</th>\n",
       "      <th>QD_M</th>\n",
       "      <th>QD_PS</th>\n",
       "      <th>QD_L</th>\n",
       "      <th>QD_EH</th>\n",
       "      <th>QD_R</th>\n",
       "    </tr>\n",
       "    <tr>\n",
       "      <th>Code</th>\n",
       "      <th></th>\n",
       "      <th></th>\n",
       "      <th></th>\n",
       "      <th></th>\n",
       "      <th></th>\n",
       "      <th></th>\n",
       "      <th></th>\n",
       "      <th></th>\n",
       "      <th></th>\n",
       "      <th></th>\n",
       "      <th></th>\n",
       "      <th></th>\n",
       "      <th></th>\n",
       "      <th></th>\n",
       "      <th></th>\n",
       "      <th></th>\n",
       "      <th></th>\n",
       "      <th></th>\n",
       "      <th></th>\n",
       "      <th></th>\n",
       "      <th></th>\n",
       "    </tr>\n",
       "  </thead>\n",
       "  <tbody>\n",
       "    <tr>\n",
       "      <th>AA1</th>\n",
       "      <td>White</td>\n",
       "      <td>F</td>\n",
       "      <td>NaN</td>\n",
       "      <td>Positive</td>\n",
       "      <td>No</td>\n",
       "      <td>No</td>\n",
       "      <td>Normal</td>\n",
       "      <td>Normal</td>\n",
       "      <td>No</td>\n",
       "      <td>Yes</td>\n",
       "      <td>...</td>\n",
       "      <td>9.0</td>\n",
       "      <td>2.0</td>\n",
       "      <td>NaN</td>\n",
       "      <td>NaN</td>\n",
       "      <td>NaN</td>\n",
       "      <td>47.0</td>\n",
       "      <td>35.0</td>\n",
       "      <td>13.0</td>\n",
       "      <td>28.0</td>\n",
       "      <td>38.0</td>\n",
       "    </tr>\n",
       "    <tr>\n",
       "      <th>AA34</th>\n",
       "      <td>White</td>\n",
       "      <td>M</td>\n",
       "      <td>NaN</td>\n",
       "      <td>Positive</td>\n",
       "      <td>No</td>\n",
       "      <td>No</td>\n",
       "      <td>Normal</td>\n",
       "      <td>Normal</td>\n",
       "      <td>No</td>\n",
       "      <td>No</td>\n",
       "      <td>...</td>\n",
       "      <td>8.0</td>\n",
       "      <td>5.0</td>\n",
       "      <td>NaN</td>\n",
       "      <td>NaN</td>\n",
       "      <td>NaN</td>\n",
       "      <td>43.0</td>\n",
       "      <td>27.0</td>\n",
       "      <td>18.0</td>\n",
       "      <td>25.0</td>\n",
       "      <td>31.0</td>\n",
       "    </tr>\n",
       "    <tr>\n",
       "      <th>AA36</th>\n",
       "      <td>White</td>\n",
       "      <td>M</td>\n",
       "      <td>NaN</td>\n",
       "      <td>Positive</td>\n",
       "      <td>No</td>\n",
       "      <td>No</td>\n",
       "      <td>Abnormal</td>\n",
       "      <td>Normal</td>\n",
       "      <td>No</td>\n",
       "      <td>Yes</td>\n",
       "      <td>...</td>\n",
       "      <td>8.0</td>\n",
       "      <td>5.0</td>\n",
       "      <td>NaN</td>\n",
       "      <td>NaN</td>\n",
       "      <td>NaN</td>\n",
       "      <td>52.0</td>\n",
       "      <td>35.0</td>\n",
       "      <td>8.0</td>\n",
       "      <td>31.0</td>\n",
       "      <td>45.0</td>\n",
       "    </tr>\n",
       "    <tr>\n",
       "      <th>AA72</th>\n",
       "      <td>White</td>\n",
       "      <td>F</td>\n",
       "      <td>NaN</td>\n",
       "      <td>Positive</td>\n",
       "      <td>Yes</td>\n",
       "      <td>No</td>\n",
       "      <td>Normal</td>\n",
       "      <td>Normal</td>\n",
       "      <td>No</td>\n",
       "      <td>Yes</td>\n",
       "      <td>...</td>\n",
       "      <td>4.0</td>\n",
       "      <td>5.0</td>\n",
       "      <td>NaN</td>\n",
       "      <td>NaN</td>\n",
       "      <td>NaN</td>\n",
       "      <td>29.0</td>\n",
       "      <td>21.0</td>\n",
       "      <td>23.0</td>\n",
       "      <td>21.0</td>\n",
       "      <td>20.0</td>\n",
       "    </tr>\n",
       "    <tr>\n",
       "      <th>AA91</th>\n",
       "      <td>White</td>\n",
       "      <td>M</td>\n",
       "      <td>NaN</td>\n",
       "      <td>Positive</td>\n",
       "      <td>No</td>\n",
       "      <td>No</td>\n",
       "      <td>Normal</td>\n",
       "      <td>Normal</td>\n",
       "      <td>No</td>\n",
       "      <td>No</td>\n",
       "      <td>...</td>\n",
       "      <td>8.0</td>\n",
       "      <td>4.0</td>\n",
       "      <td>NaN</td>\n",
       "      <td>NaN</td>\n",
       "      <td>NaN</td>\n",
       "      <td>28.0</td>\n",
       "      <td>19.0</td>\n",
       "      <td>11.0</td>\n",
       "      <td>18.0</td>\n",
       "      <td>26.0</td>\n",
       "    </tr>\n",
       "    <tr>\n",
       "      <th>...</th>\n",
       "      <td>...</td>\n",
       "      <td>...</td>\n",
       "      <td>...</td>\n",
       "      <td>...</td>\n",
       "      <td>...</td>\n",
       "      <td>...</td>\n",
       "      <td>...</td>\n",
       "      <td>...</td>\n",
       "      <td>...</td>\n",
       "      <td>...</td>\n",
       "      <td>...</td>\n",
       "      <td>...</td>\n",
       "      <td>...</td>\n",
       "      <td>...</td>\n",
       "      <td>...</td>\n",
       "      <td>...</td>\n",
       "      <td>...</td>\n",
       "      <td>...</td>\n",
       "      <td>...</td>\n",
       "      <td>...</td>\n",
       "      <td>...</td>\n",
       "    </tr>\n",
       "    <tr>\n",
       "      <th>AA927</th>\n",
       "      <td>White</td>\n",
       "      <td>M</td>\n",
       "      <td>NaN</td>\n",
       "      <td>Positive</td>\n",
       "      <td>No</td>\n",
       "      <td>Yes</td>\n",
       "      <td>Normal</td>\n",
       "      <td>Normal</td>\n",
       "      <td>NaN</td>\n",
       "      <td>Yes</td>\n",
       "      <td>...</td>\n",
       "      <td>NaN</td>\n",
       "      <td>NaN</td>\n",
       "      <td>79.0</td>\n",
       "      <td>74.0</td>\n",
       "      <td>79.0</td>\n",
       "      <td>76.0</td>\n",
       "      <td>55.0</td>\n",
       "      <td>84.0</td>\n",
       "      <td>81.0</td>\n",
       "      <td>84.0</td>\n",
       "    </tr>\n",
       "    <tr>\n",
       "      <th>AA938</th>\n",
       "      <td>White</td>\n",
       "      <td>M</td>\n",
       "      <td>Autism</td>\n",
       "      <td>Positive</td>\n",
       "      <td>NaN</td>\n",
       "      <td>No</td>\n",
       "      <td>NaN</td>\n",
       "      <td>NaN</td>\n",
       "      <td>No</td>\n",
       "      <td>Yes</td>\n",
       "      <td>...</td>\n",
       "      <td>3.0</td>\n",
       "      <td>NaN</td>\n",
       "      <td>78.0</td>\n",
       "      <td>68.0</td>\n",
       "      <td>77.0</td>\n",
       "      <td>97.0</td>\n",
       "      <td>73.0</td>\n",
       "      <td>65.0</td>\n",
       "      <td>77.0</td>\n",
       "      <td>97.0</td>\n",
       "    </tr>\n",
       "    <tr>\n",
       "      <th>AA934</th>\n",
       "      <td>White</td>\n",
       "      <td>M</td>\n",
       "      <td>Autism</td>\n",
       "      <td>Positive</td>\n",
       "      <td>No</td>\n",
       "      <td>Yes</td>\n",
       "      <td>Normal</td>\n",
       "      <td>Normal</td>\n",
       "      <td>Yes</td>\n",
       "      <td>No</td>\n",
       "      <td>...</td>\n",
       "      <td>3.0</td>\n",
       "      <td>25.0</td>\n",
       "      <td>47.0</td>\n",
       "      <td>63.0</td>\n",
       "      <td>55.0</td>\n",
       "      <td>58.0</td>\n",
       "      <td>40.0</td>\n",
       "      <td>20.0</td>\n",
       "      <td>31.0</td>\n",
       "      <td>34.0</td>\n",
       "    </tr>\n",
       "    <tr>\n",
       "      <th>AA942</th>\n",
       "      <td>White</td>\n",
       "      <td>M</td>\n",
       "      <td>ASD</td>\n",
       "      <td>Positive</td>\n",
       "      <td>No</td>\n",
       "      <td>No</td>\n",
       "      <td>NaN</td>\n",
       "      <td>NaN</td>\n",
       "      <td>NaN</td>\n",
       "      <td>No</td>\n",
       "      <td>...</td>\n",
       "      <td>NaN</td>\n",
       "      <td>NaN</td>\n",
       "      <td>63.0</td>\n",
       "      <td>77.0</td>\n",
       "      <td>69.0</td>\n",
       "      <td>115.0</td>\n",
       "      <td>85.0</td>\n",
       "      <td>47.0</td>\n",
       "      <td>89.0</td>\n",
       "      <td>85.0</td>\n",
       "    </tr>\n",
       "    <tr>\n",
       "      <th>AA837</th>\n",
       "      <td>White</td>\n",
       "      <td>M</td>\n",
       "      <td>Autism</td>\n",
       "      <td>Positive</td>\n",
       "      <td>No</td>\n",
       "      <td>No</td>\n",
       "      <td>Normal</td>\n",
       "      <td>Normal</td>\n",
       "      <td>No</td>\n",
       "      <td>No</td>\n",
       "      <td>...</td>\n",
       "      <td>3.0</td>\n",
       "      <td>5.0</td>\n",
       "      <td>72.0</td>\n",
       "      <td>59.0</td>\n",
       "      <td>58.0</td>\n",
       "      <td>80.0</td>\n",
       "      <td>62.0</td>\n",
       "      <td>64.0</td>\n",
       "      <td>83.0</td>\n",
       "      <td>83.0</td>\n",
       "    </tr>\n",
       "  </tbody>\n",
       "</table>\n",
       "<p>661 rows × 30 columns</p>\n",
       "</div>"
      ],
      "text/plain": [
       "        Race Gender ADOS_Sev ADIR_quot Dysmorphysm Language_Regr  Audition  \\\n",
       "Code                                                                         \n",
       "AA1    White      F      NaN  Positive          No            No    Normal   \n",
       "AA34   White      M      NaN  Positive          No            No    Normal   \n",
       "AA36   White      M      NaN  Positive          No            No  Abnormal   \n",
       "AA72   White      F      NaN  Positive         Yes            No    Normal   \n",
       "AA91   White      M      NaN  Positive          No            No    Normal   \n",
       "...      ...    ...      ...       ...         ...           ...       ...   \n",
       "AA927  White      M      NaN  Positive          No           Yes    Normal   \n",
       "AA938  White      M   Autism  Positive         NaN            No       NaN   \n",
       "AA934  White      M   Autism  Positive          No           Yes    Normal   \n",
       "AA942  White      M      ASD  Positive          No            No       NaN   \n",
       "AA837  White      M   Autism  Positive          No            No    Normal   \n",
       "\n",
       "       Vision Verbal Psyc_Family_Hist  ... ADIR_RRB ADIR_AbDev  VABS_Com  \\\n",
       "Code                                   ...                                 \n",
       "AA1    Normal     No              Yes  ...      9.0        2.0       NaN   \n",
       "AA34   Normal     No               No  ...      8.0        5.0       NaN   \n",
       "AA36   Normal     No              Yes  ...      8.0        5.0       NaN   \n",
       "AA72   Normal     No              Yes  ...      4.0        5.0       NaN   \n",
       "AA91   Normal     No               No  ...      8.0        4.0       NaN   \n",
       "...       ...    ...              ...  ...      ...        ...       ...   \n",
       "AA927  Normal    NaN              Yes  ...      NaN        NaN      79.0   \n",
       "AA938     NaN     No              Yes  ...      3.0        NaN      78.0   \n",
       "AA934  Normal    Yes               No  ...      3.0       25.0      47.0   \n",
       "AA942     NaN    NaN               No  ...      NaN        NaN      63.0   \n",
       "AA837  Normal     No               No  ...      3.0        5.0      72.0   \n",
       "\n",
       "       VABS_Soc  VABS_Aut   QD_M  QD_PS  QD_L  QD_EH  QD_R  \n",
       "Code                                                        \n",
       "AA1         NaN       NaN   47.0   35.0  13.0   28.0  38.0  \n",
       "AA34        NaN       NaN   43.0   27.0  18.0   25.0  31.0  \n",
       "AA36        NaN       NaN   52.0   35.0   8.0   31.0  45.0  \n",
       "AA72        NaN       NaN   29.0   21.0  23.0   21.0  20.0  \n",
       "AA91        NaN       NaN   28.0   19.0  11.0   18.0  26.0  \n",
       "...         ...       ...    ...    ...   ...    ...   ...  \n",
       "AA927      74.0      79.0   76.0   55.0  84.0   81.0  84.0  \n",
       "AA938      68.0      77.0   97.0   73.0  65.0   77.0  97.0  \n",
       "AA934      63.0      55.0   58.0   40.0  20.0   31.0  34.0  \n",
       "AA942      77.0      69.0  115.0   85.0  47.0   89.0  85.0  \n",
       "AA837      59.0      58.0   80.0   62.0  64.0   83.0  83.0  \n",
       "\n",
       "[661 rows x 30 columns]"
      ]
     },
     "execution_count": 55,
     "metadata": {},
     "output_type": "execute_result"
    }
   ],
   "source": [
    "df_included"
   ]
  },
  {
   "cell_type": "code",
   "execution_count": 6,
   "metadata": {},
   "outputs": [],
   "source": [
    "df_excluded = df_excluded[['Race','Gender',\n",
    "                           'ADOS_Sev','ADIR_quot',\n",
    "                           'Dysmorphysm','Language_Regr',\n",
    "                           'Audition', 'Vision','Verbal',\n",
    "                           'Psyc_Family_Hist','PMD_Regression','PMD_Delay',\n",
    "                           'HC','Apgar_1', 'Apgar_5',\n",
    "                           'Diag_Age','Walk_Age','First_Words_Age','First_Phrases_Age',\n",
    "                           'ADIR_Soc', 'ADIR_RRB', 'ADIR_AbDev',\n",
    "                           'VABS_Com', 'VABS_Soc', 'VABS_Aut',\n",
    "                           'QD_M', 'QD_PS', 'QD_L', 'QD_EH', 'QD_R']].copy()"
   ]
  },
  {
   "cell_type": "markdown",
   "metadata": {},
   "source": [
    "### Data Visualization"
   ]
  },
  {
   "cell_type": "markdown",
   "metadata": {},
   "source": [
    "#### VABS Histogram"
   ]
  },
  {
   "cell_type": "code",
   "execution_count": 7,
   "metadata": {},
   "outputs": [
    {
     "data": {
      "text/plain": [
       "array([[<AxesSubplot:title={'center':'VABS_Com'}>,\n",
       "        <AxesSubplot:title={'center':'VABS_Aut'}>],\n",
       "       [<AxesSubplot:title={'center':'VABS_Soc'}>, <AxesSubplot:>]],\n",
       "      dtype=object)"
      ]
     },
     "execution_count": 7,
     "metadata": {},
     "output_type": "execute_result"
    },
    {
     "data": {
      "image/png": "[encoded data removed]",
      "text/plain": [
       "<Figure size 1080x720 with 4 Axes>"
      ]
     },
     "metadata": {
      "needs_background": "light"
     },
     "output_type": "display_data"
    }
   ],
   "source": [
    "df_included[['VABS_Com','VABS_Aut','VABS_Soc']].hist(bins=30, figsize=(15, 10))"
   ]
  },
  {
   "cell_type": "markdown",
   "metadata": {},
   "source": [
    "#### VABS Boxplot"
   ]
  },
  {
   "cell_type": "code",
   "execution_count": 8,
   "metadata": {},
   "outputs": [
    {
     "data": {
      "image/png": "[encoded data removed]",
      "text/plain": [
       "<Figure size 432x288 with 1 Axes>"
      ]
     },
     "metadata": {
      "needs_background": "light"
     },
     "output_type": "display_data"
    }
   ],
   "source": [
    "vabs_bx = sns.boxplot(data=df_included[['VABS_Com','VABS_Aut','VABS_Soc']], orient=\"h\", palette=\"Set2\")"
   ]
  },
  {
   "cell_type": "markdown",
   "metadata": {},
   "source": [
    "#### ADIR Histogram"
   ]
  },
  {
   "cell_type": "code",
   "execution_count": 9,
   "metadata": {},
   "outputs": [
    {
     "data": {
      "text/plain": [
       "array([[<AxesSubplot:title={'center':'ADIR_Soc'}>,\n",
       "        <AxesSubplot:title={'center':'ADIR_RRB'}>],\n",
       "       [<AxesSubplot:title={'center':'ADIR_AbDev'}>, <AxesSubplot:>]],\n",
       "      dtype=object)"
      ]
     },
     "execution_count": 9,
     "metadata": {},
     "output_type": "execute_result"
    },
    {
     "data": {
      "image/png": "[encoded data removed]",
      "text/plain": [
       "<Figure size 1080x720 with 4 Axes>"
      ]
     },
     "metadata": {
      "needs_background": "light"
     },
     "output_type": "display_data"
    }
   ],
   "source": [
    "df_included[['ADIR_Soc','ADIR_RRB','ADIR_AbDev']].hist(bins=30, figsize=(15, 10))"
   ]
  },
  {
   "cell_type": "markdown",
   "metadata": {},
   "source": [
    "#### ADIR Boxplot"
   ]
  },
  {
   "cell_type": "code",
   "execution_count": 10,
   "metadata": {},
   "outputs": [
    {
     "data": {
      "image/png": "[encoded data removed]",
      "text/plain": [
       "<Figure size 432x288 with 1 Axes>"
      ]
     },
     "metadata": {
      "needs_background": "light"
     },
     "output_type": "display_data"
    }
   ],
   "source": [
    "adir_box = sns.boxplot(data=df_included[['ADIR_Soc','ADIR_RRB','ADIR_AbDev']], orient=\"h\", palette=\"Set2\")"
   ]
  },
  {
   "cell_type": "markdown",
   "metadata": {},
   "source": [
    "#### QD Histogram"
   ]
  },
  {
   "cell_type": "code",
   "execution_count": 11,
   "metadata": {
    "scrolled": true
   },
   "outputs": [
    {
     "data": {
      "text/plain": [
       "array([[<AxesSubplot:title={'center':'QD_M'}>,\n",
       "        <AxesSubplot:title={'center':'QD_PS'}>],\n",
       "       [<AxesSubplot:title={'center':'QD_L'}>,\n",
       "        <AxesSubplot:title={'center':'QD_EH'}>],\n",
       "       [<AxesSubplot:title={'center':'QD_R'}>, <AxesSubplot:>]],\n",
       "      dtype=object)"
      ]
     },
     "execution_count": 11,
     "metadata": {},
     "output_type": "execute_result"
    },
    {
     "data": {
      "image/png": "[encoded data removed]",
      "text/plain": [
       "<Figure size 1080x720 with 6 Axes>"
      ]
     },
     "metadata": {
      "needs_background": "light"
     },
     "output_type": "display_data"
    }
   ],
   "source": [
    "df_included[['QD_M', 'QD_PS','QD_L', 'QD_EH', 'QD_R']].hist(bins=30, figsize=(15, 10))"
   ]
  },
  {
   "cell_type": "markdown",
   "metadata": {},
   "source": [
    "#### QD Boxplot"
   ]
  },
  {
   "cell_type": "code",
   "execution_count": 12,
   "metadata": {},
   "outputs": [
    {
     "data": {
      "image/png": "[encoded data removed]",
      "text/plain": [
       "<Figure size 432x288 with 1 Axes>"
      ]
     },
     "metadata": {
      "needs_background": "light"
     },
     "output_type": "display_data"
    }
   ],
   "source": [
    "qd_box = sns.boxplot(data=df_included[['QD_M', 'QD_PS','QD_L', 'QD_EH', 'QD_R']], orient=\"h\", palette=\"Set2\")"
   ]
  },
  {
   "cell_type": "markdown",
   "metadata": {},
   "source": [
    "#### Walk Age, First Words Age and First Phrases Age Histogram"
   ]
  },
  {
   "cell_type": "code",
   "execution_count": 13,
   "metadata": {},
   "outputs": [
    {
     "data": {
      "text/plain": [
       "array([[<AxesSubplot:title={'center':'Walk_Age'}>,\n",
       "        <AxesSubplot:title={'center':'First_Words_Age'}>],\n",
       "       [<AxesSubplot:title={'center':'First_Phrases_Age'}>,\n",
       "        <AxesSubplot:>]], dtype=object)"
      ]
     },
     "execution_count": 13,
     "metadata": {},
     "output_type": "execute_result"
    },
    {
     "data": {
      "image/png": "[encoded data removed]",
      "text/plain": [
       "<Figure size 1080x720 with 4 Axes>"
      ]
     },
     "metadata": {
      "needs_background": "light"
     },
     "output_type": "display_data"
    }
   ],
   "source": [
    "df_included[['Walk_Age', 'First_Words_Age','First_Phrases_Age']].hist(bins=30, figsize=(15, 10))"
   ]
  },
  {
   "cell_type": "markdown",
   "metadata": {},
   "source": [
    "#### Walk Age, First Words Age and First Phrases Age Boxplot"
   ]
  },
  {
   "cell_type": "code",
   "execution_count": 14,
   "metadata": {},
   "outputs": [
    {
     "data": {
      "image/png": "[encoded data removed]",
      "text/plain": [
       "<Figure size 432x288 with 1 Axes>"
      ]
     },
     "metadata": {
      "needs_background": "light"
     },
     "output_type": "display_data"
    }
   ],
   "source": [
    "ages_box = sns.boxplot(data=df_included[['Walk_Age', 'First_Words_Age','First_Phrases_Age']], orient=\"h\", palette=\"Set2\")"
   ]
  },
  {
   "cell_type": "markdown",
   "metadata": {},
   "source": [
    "#### Diagnostic Age Histogram"
   ]
  },
  {
   "cell_type": "code",
   "execution_count": 15,
   "metadata": {},
   "outputs": [
    {
     "data": {
      "text/plain": [
       "array([[<AxesSubplot:title={'center':'Diag_Age'}>]], dtype=object)"
      ]
     },
     "execution_count": 15,
     "metadata": {},
     "output_type": "execute_result"
    },
    {
     "data": {
      "image/png": "[encoded data removed]",
      "text/plain": [
       "<Figure size 1080x720 with 1 Axes>"
      ]
     },
     "metadata": {
      "needs_background": "light"
     },
     "output_type": "display_data"
    }
   ],
   "source": [
    "df_included[['Diag_Age']].hist(bins=30, figsize=(15, 10))"
   ]
  },
  {
   "cell_type": "markdown",
   "metadata": {},
   "source": [
    "#### Diagnostic Age Boxplot"
   ]
  },
  {
   "cell_type": "code",
   "execution_count": 16,
   "metadata": {},
   "outputs": [
    {
     "data": {
      "image/png": "[encoded data removed]",
      "text/plain": [
       "<Figure size 432x288 with 1 Axes>"
      ]
     },
     "metadata": {
      "needs_background": "light"
     },
     "output_type": "display_data"
    }
   ],
   "source": [
    "age_box = sns.boxplot(data=df_included[['Diag_Age']], orient=\"h\", palette=\"Set2\")"
   ]
  },
  {
   "cell_type": "markdown",
   "metadata": {},
   "source": [
    "#### Apgar Histogram"
   ]
  },
  {
   "cell_type": "code",
   "execution_count": 17,
   "metadata": {
    "scrolled": true
   },
   "outputs": [
    {
     "data": {
      "text/plain": [
       "array([[<AxesSubplot:title={'center':'Apgar_1'}>,\n",
       "        <AxesSubplot:title={'center':'Apgar_5'}>]], dtype=object)"
      ]
     },
     "execution_count": 17,
     "metadata": {},
     "output_type": "execute_result"
    },
    {
     "data": {
      "image/png": "[encoded data removed]",
      "text/plain": [
       "<Figure size 1080x720 with 2 Axes>"
      ]
     },
     "metadata": {
      "needs_background": "light"
     },
     "output_type": "display_data"
    }
   ],
   "source": [
    "df_included[['Apgar_1','Apgar_5']].hist(bins=30, figsize=(15, 10))"
   ]
  },
  {
   "cell_type": "markdown",
   "metadata": {},
   "source": [
    "#### Apgar Boxplot"
   ]
  },
  {
   "cell_type": "code",
   "execution_count": 18,
   "metadata": {},
   "outputs": [
    {
     "data": {
      "image/png": "[encoded data removed]",
      "text/plain": [
       "<Figure size 432x288 with 1 Axes>"
      ]
     },
     "metadata": {
      "needs_background": "light"
     },
     "output_type": "display_data"
    }
   ],
   "source": [
    "apgar_box = sns.boxplot(data=df_included[['Apgar_1','Apgar_5']], orient=\"h\", palette=\"Set2\")"
   ]
  },
  {
   "cell_type": "markdown",
   "metadata": {},
   "source": [
    "#### Head Circumference Histogram"
   ]
  },
  {
   "cell_type": "code",
   "execution_count": 19,
   "metadata": {
    "scrolled": true
   },
   "outputs": [
    {
     "data": {
      "text/plain": [
       "array([[<AxesSubplot:title={'center':'HC'}>]], dtype=object)"
      ]
     },
     "execution_count": 19,
     "metadata": {},
     "output_type": "execute_result"
    },
    {
     "data": {
      "image/png": "[encoded data removed]",
      "text/plain": [
       "<Figure size 1080x720 with 1 Axes>"
      ]
     },
     "metadata": {
      "needs_background": "light"
     },
     "output_type": "display_data"
    }
   ],
   "source": [
    "df_included[['HC']].hist(bins=30, figsize=(15, 10))"
   ]
  },
  {
   "cell_type": "markdown",
   "metadata": {},
   "source": [
    "#### Head Circumference Boxplot"
   ]
  },
  {
   "cell_type": "code",
   "execution_count": 20,
   "metadata": {},
   "outputs": [
    {
     "data": {
      "image/png": "[encoded data removed]",
      "text/plain": [
       "<Figure size 432x288 with 1 Axes>"
      ]
     },
     "metadata": {
      "needs_background": "light"
     },
     "output_type": "display_data"
    }
   ],
   "source": [
    "hc_box = sns.boxplot(data=df_included[['HC']], orient=\"h\", palette=\"Set2\")"
   ]
  },
  {
   "cell_type": "markdown",
   "metadata": {},
   "source": [
    "### Numeric Variables Statistics"
   ]
  },
  {
   "cell_type": "code",
   "execution_count": 21,
   "metadata": {
    "scrolled": true
   },
   "outputs": [
    {
     "data": {
      "text/html": [
       "<div>\n",
       "<style scoped>\n",
       "    .dataframe tbody tr th:only-of-type {\n",
       "        vertical-align: middle;\n",
       "    }\n",
       "\n",
       "    .dataframe tbody tr th {\n",
       "        vertical-align: top;\n",
       "    }\n",
       "\n",
       "    .dataframe thead th {\n",
       "        text-align: right;\n",
       "    }\n",
       "</style>\n",
       "<table border=\"1\" class=\"dataframe\">\n",
       "  <thead>\n",
       "    <tr style=\"text-align: right;\">\n",
       "      <th></th>\n",
       "      <th>HC</th>\n",
       "      <th>Apgar_1</th>\n",
       "      <th>Apgar_5</th>\n",
       "      <th>Diag_Age</th>\n",
       "      <th>Walk_Age</th>\n",
       "      <th>First_Words_Age</th>\n",
       "      <th>First_Phrases_Age</th>\n",
       "      <th>ADIR_Soc</th>\n",
       "      <th>ADIR_RRB</th>\n",
       "      <th>ADIR_AbDev</th>\n",
       "      <th>VABS_Com</th>\n",
       "      <th>VABS_Soc</th>\n",
       "      <th>VABS_Aut</th>\n",
       "      <th>QD_M</th>\n",
       "      <th>QD_PS</th>\n",
       "      <th>QD_L</th>\n",
       "      <th>QD_EH</th>\n",
       "      <th>QD_R</th>\n",
       "    </tr>\n",
       "  </thead>\n",
       "  <tbody>\n",
       "    <tr>\n",
       "      <th>count</th>\n",
       "      <td>580.000000</td>\n",
       "      <td>482.000000</td>\n",
       "      <td>619.000000</td>\n",
       "      <td>480.000000</td>\n",
       "      <td>655.000000</td>\n",
       "      <td>610.000000</td>\n",
       "      <td>503.000000</td>\n",
       "      <td>638.000000</td>\n",
       "      <td>637.000000</td>\n",
       "      <td>629.000000</td>\n",
       "      <td>524.000000</td>\n",
       "      <td>526.000000</td>\n",
       "      <td>524.000000</td>\n",
       "      <td>628.000000</td>\n",
       "      <td>628.000000</td>\n",
       "      <td>640.000000</td>\n",
       "      <td>628.000000</td>\n",
       "      <td>628.000000</td>\n",
       "    </tr>\n",
       "    <tr>\n",
       "      <th>mean</th>\n",
       "      <td>34.696724</td>\n",
       "      <td>8.560166</td>\n",
       "      <td>9.822294</td>\n",
       "      <td>3.670833</td>\n",
       "      <td>14.617557</td>\n",
       "      <td>24.265574</td>\n",
       "      <td>44.753479</td>\n",
       "      <td>18.973354</td>\n",
       "      <td>4.485086</td>\n",
       "      <td>4.027027</td>\n",
       "      <td>63.797710</td>\n",
       "      <td>66.184411</td>\n",
       "      <td>60.465649</td>\n",
       "      <td>87.171178</td>\n",
       "      <td>70.348726</td>\n",
       "      <td>63.007812</td>\n",
       "      <td>74.623408</td>\n",
       "      <td>81.782643</td>\n",
       "    </tr>\n",
       "    <tr>\n",
       "      <th>std</th>\n",
       "      <td>3.236073</td>\n",
       "      <td>1.250991</td>\n",
       "      <td>0.522089</td>\n",
       "      <td>1.560199</td>\n",
       "      <td>3.756838</td>\n",
       "      <td>12.030542</td>\n",
       "      <td>16.246939</td>\n",
       "      <td>6.519930</td>\n",
       "      <td>2.000436</td>\n",
       "      <td>1.562162</td>\n",
       "      <td>22.345221</td>\n",
       "      <td>17.543150</td>\n",
       "      <td>19.400104</td>\n",
       "      <td>20.601476</td>\n",
       "      <td>22.227945</td>\n",
       "      <td>32.093600</td>\n",
       "      <td>25.984113</td>\n",
       "      <td>27.320170</td>\n",
       "    </tr>\n",
       "    <tr>\n",
       "      <th>min</th>\n",
       "      <td>10.000000</td>\n",
       "      <td>3.000000</td>\n",
       "      <td>7.000000</td>\n",
       "      <td>1.000000</td>\n",
       "      <td>8.000000</td>\n",
       "      <td>9.000000</td>\n",
       "      <td>11.000000</td>\n",
       "      <td>0.000000</td>\n",
       "      <td>0.000000</td>\n",
       "      <td>0.000000</td>\n",
       "      <td>20.000000</td>\n",
       "      <td>20.000000</td>\n",
       "      <td>20.000000</td>\n",
       "      <td>28.000000</td>\n",
       "      <td>19.000000</td>\n",
       "      <td>0.000000</td>\n",
       "      <td>15.000000</td>\n",
       "      <td>14.000000</td>\n",
       "    </tr>\n",
       "    <tr>\n",
       "      <th>25%</th>\n",
       "      <td>34.000000</td>\n",
       "      <td>9.000000</td>\n",
       "      <td>10.000000</td>\n",
       "      <td>3.000000</td>\n",
       "      <td>12.000000</td>\n",
       "      <td>15.000000</td>\n",
       "      <td>36.000000</td>\n",
       "      <td>14.000000</td>\n",
       "      <td>3.000000</td>\n",
       "      <td>3.000000</td>\n",
       "      <td>48.000000</td>\n",
       "      <td>55.000000</td>\n",
       "      <td>51.000000</td>\n",
       "      <td>74.000000</td>\n",
       "      <td>55.000000</td>\n",
       "      <td>37.000000</td>\n",
       "      <td>54.000000</td>\n",
       "      <td>61.000000</td>\n",
       "    </tr>\n",
       "    <tr>\n",
       "      <th>50%</th>\n",
       "      <td>34.500000</td>\n",
       "      <td>9.000000</td>\n",
       "      <td>10.000000</td>\n",
       "      <td>3.000000</td>\n",
       "      <td>14.000000</td>\n",
       "      <td>24.000000</td>\n",
       "      <td>42.000000</td>\n",
       "      <td>19.000000</td>\n",
       "      <td>4.000000</td>\n",
       "      <td>4.000000</td>\n",
       "      <td>65.000000</td>\n",
       "      <td>67.000000</td>\n",
       "      <td>63.000000</td>\n",
       "      <td>89.000000</td>\n",
       "      <td>71.000000</td>\n",
       "      <td>61.000000</td>\n",
       "      <td>77.000000</td>\n",
       "      <td>82.000000</td>\n",
       "    </tr>\n",
       "    <tr>\n",
       "      <th>75%</th>\n",
       "      <td>35.500000</td>\n",
       "      <td>9.000000</td>\n",
       "      <td>10.000000</td>\n",
       "      <td>4.000000</td>\n",
       "      <td>16.000000</td>\n",
       "      <td>30.000000</td>\n",
       "      <td>48.000000</td>\n",
       "      <td>25.000000</td>\n",
       "      <td>6.000000</td>\n",
       "      <td>5.000000</td>\n",
       "      <td>80.000000</td>\n",
       "      <td>78.000000</td>\n",
       "      <td>75.000000</td>\n",
       "      <td>101.000000</td>\n",
       "      <td>86.000000</td>\n",
       "      <td>89.000000</td>\n",
       "      <td>94.250000</td>\n",
       "      <td>100.000000</td>\n",
       "    </tr>\n",
       "    <tr>\n",
       "      <th>max</th>\n",
       "      <td>75.000000</td>\n",
       "      <td>10.000000</td>\n",
       "      <td>10.000000</td>\n",
       "      <td>8.000000</td>\n",
       "      <td>44.000000</td>\n",
       "      <td>100.000000</td>\n",
       "      <td>120.000000</td>\n",
       "      <td>30.000000</td>\n",
       "      <td>23.000000</td>\n",
       "      <td>25.000000</td>\n",
       "      <td>121.000000</td>\n",
       "      <td>106.000000</td>\n",
       "      <td>111.000000</td>\n",
       "      <td>157.000000</td>\n",
       "      <td>161.000000</td>\n",
       "      <td>158.000000</td>\n",
       "      <td>150.000000</td>\n",
       "      <td>166.000000</td>\n",
       "    </tr>\n",
       "  </tbody>\n",
       "</table>\n",
       "</div>"
      ],
      "text/plain": [
       "               HC     Apgar_1     Apgar_5    Diag_Age    Walk_Age  \\\n",
       "count  580.000000  482.000000  619.000000  480.000000  655.000000   \n",
       "mean    34.696724    8.560166    9.822294    3.670833   14.617557   \n",
       "std      3.236073    1.250991    0.522089    1.560199    3.756838   \n",
       "min     10.000000    3.000000    7.000000    1.000000    8.000000   \n",
       "25%     34.000000    9.000000   10.000000    3.000000   12.000000   \n",
       "50%     34.500000    9.000000   10.000000    3.000000   14.000000   \n",
       "75%     35.500000    9.000000   10.000000    4.000000   16.000000   \n",
       "max     75.000000   10.000000   10.000000    8.000000   44.000000   \n",
       "\n",
       "       First_Words_Age  First_Phrases_Age    ADIR_Soc    ADIR_RRB  ADIR_AbDev  \\\n",
       "count       610.000000         503.000000  638.000000  637.000000  629.000000   \n",
       "mean         24.265574          44.753479   18.973354    4.485086    4.027027   \n",
       "std          12.030542          16.246939    6.519930    2.000436    1.562162   \n",
       "min           9.000000          11.000000    0.000000    0.000000    0.000000   \n",
       "25%          15.000000          36.000000   14.000000    3.000000    3.000000   \n",
       "50%          24.000000          42.000000   19.000000    4.000000    4.000000   \n",
       "75%          30.000000          48.000000   25.000000    6.000000    5.000000   \n",
       "max         100.000000         120.000000   30.000000   23.000000   25.000000   \n",
       "\n",
       "         VABS_Com    VABS_Soc    VABS_Aut        QD_M       QD_PS        QD_L  \\\n",
       "count  524.000000  526.000000  524.000000  628.000000  628.000000  640.000000   \n",
       "mean    63.797710   66.184411   60.465649   87.171178   70.348726   63.007812   \n",
       "std     22.345221   17.543150   19.400104   20.601476   22.227945   32.093600   \n",
       "min     20.000000   20.000000   20.000000   28.000000   19.000000    0.000000   \n",
       "25%     48.000000   55.000000   51.000000   74.000000   55.000000   37.000000   \n",
       "50%     65.000000   67.000000   63.000000   89.000000   71.000000   61.000000   \n",
       "75%     80.000000   78.000000   75.000000  101.000000   86.000000   89.000000   \n",
       "max    121.000000  106.000000  111.000000  157.000000  161.000000  158.000000   \n",
       "\n",
       "            QD_EH        QD_R  \n",
       "count  628.000000  628.000000  \n",
       "mean    74.623408   81.782643  \n",
       "std     25.984113   27.320170  \n",
       "min     15.000000   14.000000  \n",
       "25%     54.000000   61.000000  \n",
       "50%     77.000000   82.000000  \n",
       "75%     94.250000  100.000000  \n",
       "max    150.000000  166.000000  "
      ]
     },
     "execution_count": 21,
     "metadata": {},
     "output_type": "execute_result"
    }
   ],
   "source": [
    "statistics_df_included = df_included.describe()\n",
    "statistics_df_included"
   ]
  },
  {
   "cell_type": "code",
   "execution_count": 22,
   "metadata": {},
   "outputs": [
    {
     "data": {
      "text/html": [
       "<div>\n",
       "<style scoped>\n",
       "    .dataframe tbody tr th:only-of-type {\n",
       "        vertical-align: middle;\n",
       "    }\n",
       "\n",
       "    .dataframe tbody tr th {\n",
       "        vertical-align: top;\n",
       "    }\n",
       "\n",
       "    .dataframe thead th {\n",
       "        text-align: right;\n",
       "    }\n",
       "</style>\n",
       "<table border=\"1\" class=\"dataframe\">\n",
       "  <thead>\n",
       "    <tr style=\"text-align: right;\">\n",
       "      <th></th>\n",
       "      <th>HC</th>\n",
       "      <th>Apgar_1</th>\n",
       "      <th>Apgar_5</th>\n",
       "      <th>Diag_Age</th>\n",
       "      <th>Walk_Age</th>\n",
       "      <th>First_Words_Age</th>\n",
       "      <th>First_Phrases_Age</th>\n",
       "      <th>ADIR_Soc</th>\n",
       "      <th>ADIR_RRB</th>\n",
       "      <th>ADIR_AbDev</th>\n",
       "      <th>VABS_Com</th>\n",
       "      <th>VABS_Soc</th>\n",
       "      <th>VABS_Aut</th>\n",
       "      <th>QD_M</th>\n",
       "      <th>QD_PS</th>\n",
       "      <th>QD_L</th>\n",
       "      <th>QD_EH</th>\n",
       "      <th>QD_R</th>\n",
       "    </tr>\n",
       "  </thead>\n",
       "  <tbody>\n",
       "    <tr>\n",
       "      <th>count</th>\n",
       "      <td>256.000000</td>\n",
       "      <td>247.000000</td>\n",
       "      <td>312.000000</td>\n",
       "      <td>188.000000</td>\n",
       "      <td>353.000000</td>\n",
       "      <td>332.000000</td>\n",
       "      <td>270.000000</td>\n",
       "      <td>287.000000</td>\n",
       "      <td>287.000000</td>\n",
       "      <td>276.000000</td>\n",
       "      <td>191.000000</td>\n",
       "      <td>191.000000</td>\n",
       "      <td>191.000000</td>\n",
       "      <td>256.000000</td>\n",
       "      <td>256.000000</td>\n",
       "      <td>255.000000</td>\n",
       "      <td>256.000000</td>\n",
       "      <td>256.000000</td>\n",
       "    </tr>\n",
       "    <tr>\n",
       "      <th>mean</th>\n",
       "      <td>34.530078</td>\n",
       "      <td>8.631579</td>\n",
       "      <td>9.823718</td>\n",
       "      <td>6.611702</td>\n",
       "      <td>15.566572</td>\n",
       "      <td>26.018072</td>\n",
       "      <td>43.344444</td>\n",
       "      <td>16.198606</td>\n",
       "      <td>4.111498</td>\n",
       "      <td>3.786232</td>\n",
       "      <td>67.251309</td>\n",
       "      <td>71.434555</td>\n",
       "      <td>66.890052</td>\n",
       "      <td>81.342969</td>\n",
       "      <td>68.406641</td>\n",
       "      <td>61.244314</td>\n",
       "      <td>71.271094</td>\n",
       "      <td>78.201953</td>\n",
       "    </tr>\n",
       "    <tr>\n",
       "      <th>std</th>\n",
       "      <td>2.332211</td>\n",
       "      <td>1.330495</td>\n",
       "      <td>0.535866</td>\n",
       "      <td>3.621574</td>\n",
       "      <td>5.764479</td>\n",
       "      <td>15.351264</td>\n",
       "      <td>18.218517</td>\n",
       "      <td>9.311561</td>\n",
       "      <td>2.768726</td>\n",
       "      <td>1.442709</td>\n",
       "      <td>19.147342</td>\n",
       "      <td>16.151085</td>\n",
       "      <td>18.394320</td>\n",
       "      <td>28.090968</td>\n",
       "      <td>27.785430</td>\n",
       "      <td>34.008386</td>\n",
       "      <td>28.770276</td>\n",
       "      <td>32.901806</td>\n",
       "    </tr>\n",
       "    <tr>\n",
       "      <th>min</th>\n",
       "      <td>25.000000</td>\n",
       "      <td>1.000000</td>\n",
       "      <td>6.000000</td>\n",
       "      <td>1.000000</td>\n",
       "      <td>9.000000</td>\n",
       "      <td>8.000000</td>\n",
       "      <td>12.000000</td>\n",
       "      <td>0.000000</td>\n",
       "      <td>0.000000</td>\n",
       "      <td>0.000000</td>\n",
       "      <td>20.000000</td>\n",
       "      <td>20.000000</td>\n",
       "      <td>20.000000</td>\n",
       "      <td>23.000000</td>\n",
       "      <td>17.000000</td>\n",
       "      <td>4.000000</td>\n",
       "      <td>17.000000</td>\n",
       "      <td>21.000000</td>\n",
       "    </tr>\n",
       "    <tr>\n",
       "      <th>25%</th>\n",
       "      <td>33.500000</td>\n",
       "      <td>9.000000</td>\n",
       "      <td>10.000000</td>\n",
       "      <td>3.000000</td>\n",
       "      <td>12.000000</td>\n",
       "      <td>15.000000</td>\n",
       "      <td>32.250000</td>\n",
       "      <td>9.000000</td>\n",
       "      <td>2.000000</td>\n",
       "      <td>3.000000</td>\n",
       "      <td>54.000000</td>\n",
       "      <td>60.000000</td>\n",
       "      <td>58.500000</td>\n",
       "      <td>57.000000</td>\n",
       "      <td>44.000000</td>\n",
       "      <td>37.500000</td>\n",
       "      <td>49.500000</td>\n",
       "      <td>46.000000</td>\n",
       "    </tr>\n",
       "    <tr>\n",
       "      <th>50%</th>\n",
       "      <td>34.500000</td>\n",
       "      <td>9.000000</td>\n",
       "      <td>10.000000</td>\n",
       "      <td>6.000000</td>\n",
       "      <td>14.000000</td>\n",
       "      <td>24.000000</td>\n",
       "      <td>36.000000</td>\n",
       "      <td>16.000000</td>\n",
       "      <td>4.000000</td>\n",
       "      <td>4.000000</td>\n",
       "      <td>70.000000</td>\n",
       "      <td>72.000000</td>\n",
       "      <td>68.000000</td>\n",
       "      <td>85.000000</td>\n",
       "      <td>68.000000</td>\n",
       "      <td>59.000000</td>\n",
       "      <td>74.500000</td>\n",
       "      <td>78.500000</td>\n",
       "    </tr>\n",
       "    <tr>\n",
       "      <th>75%</th>\n",
       "      <td>35.500000</td>\n",
       "      <td>9.000000</td>\n",
       "      <td>10.000000</td>\n",
       "      <td>10.000000</td>\n",
       "      <td>17.000000</td>\n",
       "      <td>36.000000</td>\n",
       "      <td>48.000000</td>\n",
       "      <td>24.500000</td>\n",
       "      <td>6.000000</td>\n",
       "      <td>5.000000</td>\n",
       "      <td>80.000000</td>\n",
       "      <td>84.000000</td>\n",
       "      <td>80.000000</td>\n",
       "      <td>103.000000</td>\n",
       "      <td>90.000000</td>\n",
       "      <td>81.000000</td>\n",
       "      <td>92.000000</td>\n",
       "      <td>103.000000</td>\n",
       "    </tr>\n",
       "    <tr>\n",
       "      <th>max</th>\n",
       "      <td>55.000000</td>\n",
       "      <td>10.000000</td>\n",
       "      <td>10.000000</td>\n",
       "      <td>18.000000</td>\n",
       "      <td>60.000000</td>\n",
       "      <td>120.000000</td>\n",
       "      <td>120.000000</td>\n",
       "      <td>30.000000</td>\n",
       "      <td>13.000000</td>\n",
       "      <td>5.000000</td>\n",
       "      <td>118.000000</td>\n",
       "      <td>110.000000</td>\n",
       "      <td>104.000000</td>\n",
       "      <td>145.000000</td>\n",
       "      <td>129.000000</td>\n",
       "      <td>170.000000</td>\n",
       "      <td>147.000000</td>\n",
       "      <td>156.000000</td>\n",
       "    </tr>\n",
       "  </tbody>\n",
       "</table>\n",
       "</div>"
      ],
      "text/plain": [
       "               HC     Apgar_1     Apgar_5    Diag_Age    Walk_Age  \\\n",
       "count  256.000000  247.000000  312.000000  188.000000  353.000000   \n",
       "mean    34.530078    8.631579    9.823718    6.611702   15.566572   \n",
       "std      2.332211    1.330495    0.535866    3.621574    5.764479   \n",
       "min     25.000000    1.000000    6.000000    1.000000    9.000000   \n",
       "25%     33.500000    9.000000   10.000000    3.000000   12.000000   \n",
       "50%     34.500000    9.000000   10.000000    6.000000   14.000000   \n",
       "75%     35.500000    9.000000   10.000000   10.000000   17.000000   \n",
       "max     55.000000   10.000000   10.000000   18.000000   60.000000   \n",
       "\n",
       "       First_Words_Age  First_Phrases_Age    ADIR_Soc    ADIR_RRB  ADIR_AbDev  \\\n",
       "count       332.000000         270.000000  287.000000  287.000000  276.000000   \n",
       "mean         26.018072          43.344444   16.198606    4.111498    3.786232   \n",
       "std          15.351264          18.218517    9.311561    2.768726    1.442709   \n",
       "min           8.000000          12.000000    0.000000    0.000000    0.000000   \n",
       "25%          15.000000          32.250000    9.000000    2.000000    3.000000   \n",
       "50%          24.000000          36.000000   16.000000    4.000000    4.000000   \n",
       "75%          36.000000          48.000000   24.500000    6.000000    5.000000   \n",
       "max         120.000000         120.000000   30.000000   13.000000    5.000000   \n",
       "\n",
       "         VABS_Com    VABS_Soc    VABS_Aut        QD_M       QD_PS        QD_L  \\\n",
       "count  191.000000  191.000000  191.000000  256.000000  256.000000  255.000000   \n",
       "mean    67.251309   71.434555   66.890052   81.342969   68.406641   61.244314   \n",
       "std     19.147342   16.151085   18.394320   28.090968   27.785430   34.008386   \n",
       "min     20.000000   20.000000   20.000000   23.000000   17.000000    4.000000   \n",
       "25%     54.000000   60.000000   58.500000   57.000000   44.000000   37.500000   \n",
       "50%     70.000000   72.000000   68.000000   85.000000   68.000000   59.000000   \n",
       "75%     80.000000   84.000000   80.000000  103.000000   90.000000   81.000000   \n",
       "max    118.000000  110.000000  104.000000  145.000000  129.000000  170.000000   \n",
       "\n",
       "            QD_EH        QD_R  \n",
       "count  256.000000  256.000000  \n",
       "mean    71.271094   78.201953  \n",
       "std     28.770276   32.901806  \n",
       "min     17.000000   21.000000  \n",
       "25%     49.500000   46.000000  \n",
       "50%     74.500000   78.500000  \n",
       "75%     92.000000  103.000000  \n",
       "max    147.000000  156.000000  "
      ]
     },
     "execution_count": 22,
     "metadata": {},
     "output_type": "execute_result"
    }
   ],
   "source": [
    "statistics_df_excluded = df_excluded.describe()\n",
    "statistics_df_excluded"
   ]
  },
  {
   "cell_type": "code",
   "execution_count": 23,
   "metadata": {},
   "outputs": [],
   "source": [
    "# calculate mean and sd for variables of interest \n",
    "included_ms = statistics_df_included.loc[[\"mean\", 'std'], :].transpose().apply(lambda x: \"{} ({})\".format(x['mean'].round(2), x['std'].round(2)), axis=1)"
   ]
  },
  {
   "cell_type": "code",
   "execution_count": 24,
   "metadata": {},
   "outputs": [],
   "source": [
    "# calculate mean and sd for variables of interest \n",
    "excluded_ms = statistics_df_excluded.loc[[\"mean\", 'std'], :].transpose().apply(lambda x: \"{} ({})\".format(x['mean'].round(2), x['std'].round(2)), axis=1)"
   ]
  },
  {
   "cell_type": "code",
   "execution_count": 25,
   "metadata": {},
   "outputs": [],
   "source": [
    "# vizualize mean and sd of the two populations (dataframes)\n",
    "dataframes = [included_ms, excluded_ms]\n",
    "concat_df = pd.concat(dataframes, axis = 1)"
   ]
  },
  {
   "cell_type": "code",
   "execution_count": 26,
   "metadata": {},
   "outputs": [],
   "source": [
    "concat_df.columns = ['Included', 'Excluded']"
   ]
  },
  {
   "cell_type": "code",
   "execution_count": 27,
   "metadata": {},
   "outputs": [
    {
     "data": {
      "text/html": [
       "<div>\n",
       "<style scoped>\n",
       "    .dataframe tbody tr th:only-of-type {\n",
       "        vertical-align: middle;\n",
       "    }\n",
       "\n",
       "    .dataframe tbody tr th {\n",
       "        vertical-align: top;\n",
       "    }\n",
       "\n",
       "    .dataframe thead th {\n",
       "        text-align: right;\n",
       "    }\n",
       "</style>\n",
       "<table border=\"1\" class=\"dataframe\">\n",
       "  <thead>\n",
       "    <tr style=\"text-align: right;\">\n",
       "      <th></th>\n",
       "      <th>Included</th>\n",
       "      <th>Excluded</th>\n",
       "    </tr>\n",
       "  </thead>\n",
       "  <tbody>\n",
       "    <tr>\n",
       "      <th>HC</th>\n",
       "      <td>34.7 (3.24)</td>\n",
       "      <td>34.53 (2.33)</td>\n",
       "    </tr>\n",
       "    <tr>\n",
       "      <th>Apgar_1</th>\n",
       "      <td>8.56 (1.25)</td>\n",
       "      <td>8.63 (1.33)</td>\n",
       "    </tr>\n",
       "    <tr>\n",
       "      <th>Apgar_5</th>\n",
       "      <td>9.82 (0.52)</td>\n",
       "      <td>9.82 (0.54)</td>\n",
       "    </tr>\n",
       "    <tr>\n",
       "      <th>Diag_Age</th>\n",
       "      <td>3.67 (1.56)</td>\n",
       "      <td>6.61 (3.62)</td>\n",
       "    </tr>\n",
       "    <tr>\n",
       "      <th>Walk_Age</th>\n",
       "      <td>14.62 (3.76)</td>\n",
       "      <td>15.57 (5.76)</td>\n",
       "    </tr>\n",
       "    <tr>\n",
       "      <th>First_Words_Age</th>\n",
       "      <td>24.27 (12.03)</td>\n",
       "      <td>26.02 (15.35)</td>\n",
       "    </tr>\n",
       "    <tr>\n",
       "      <th>First_Phrases_Age</th>\n",
       "      <td>44.75 (16.25)</td>\n",
       "      <td>43.34 (18.22)</td>\n",
       "    </tr>\n",
       "    <tr>\n",
       "      <th>ADIR_Soc</th>\n",
       "      <td>18.97 (6.52)</td>\n",
       "      <td>16.2 (9.31)</td>\n",
       "    </tr>\n",
       "    <tr>\n",
       "      <th>ADIR_RRB</th>\n",
       "      <td>4.49 (2.0)</td>\n",
       "      <td>4.11 (2.77)</td>\n",
       "    </tr>\n",
       "    <tr>\n",
       "      <th>ADIR_AbDev</th>\n",
       "      <td>4.03 (1.56)</td>\n",
       "      <td>3.79 (1.44)</td>\n",
       "    </tr>\n",
       "    <tr>\n",
       "      <th>VABS_Com</th>\n",
       "      <td>63.8 (22.35)</td>\n",
       "      <td>67.25 (19.15)</td>\n",
       "    </tr>\n",
       "    <tr>\n",
       "      <th>VABS_Soc</th>\n",
       "      <td>66.18 (17.54)</td>\n",
       "      <td>71.43 (16.15)</td>\n",
       "    </tr>\n",
       "    <tr>\n",
       "      <th>VABS_Aut</th>\n",
       "      <td>60.47 (19.4)</td>\n",
       "      <td>66.89 (18.39)</td>\n",
       "    </tr>\n",
       "    <tr>\n",
       "      <th>QD_M</th>\n",
       "      <td>87.17 (20.6)</td>\n",
       "      <td>81.34 (28.09)</td>\n",
       "    </tr>\n",
       "    <tr>\n",
       "      <th>QD_PS</th>\n",
       "      <td>70.35 (22.23)</td>\n",
       "      <td>68.41 (27.79)</td>\n",
       "    </tr>\n",
       "    <tr>\n",
       "      <th>QD_L</th>\n",
       "      <td>63.01 (32.09)</td>\n",
       "      <td>61.24 (34.01)</td>\n",
       "    </tr>\n",
       "    <tr>\n",
       "      <th>QD_EH</th>\n",
       "      <td>74.62 (25.98)</td>\n",
       "      <td>71.27 (28.77)</td>\n",
       "    </tr>\n",
       "    <tr>\n",
       "      <th>QD_R</th>\n",
       "      <td>81.78 (27.32)</td>\n",
       "      <td>78.2 (32.9)</td>\n",
       "    </tr>\n",
       "  </tbody>\n",
       "</table>\n",
       "</div>"
      ],
      "text/plain": [
       "                        Included       Excluded\n",
       "HC                   34.7 (3.24)   34.53 (2.33)\n",
       "Apgar_1              8.56 (1.25)    8.63 (1.33)\n",
       "Apgar_5              9.82 (0.52)    9.82 (0.54)\n",
       "Diag_Age             3.67 (1.56)    6.61 (3.62)\n",
       "Walk_Age            14.62 (3.76)   15.57 (5.76)\n",
       "First_Words_Age    24.27 (12.03)  26.02 (15.35)\n",
       "First_Phrases_Age  44.75 (16.25)  43.34 (18.22)\n",
       "ADIR_Soc            18.97 (6.52)    16.2 (9.31)\n",
       "ADIR_RRB              4.49 (2.0)    4.11 (2.77)\n",
       "ADIR_AbDev           4.03 (1.56)    3.79 (1.44)\n",
       "VABS_Com            63.8 (22.35)  67.25 (19.15)\n",
       "VABS_Soc           66.18 (17.54)  71.43 (16.15)\n",
       "VABS_Aut            60.47 (19.4)  66.89 (18.39)\n",
       "QD_M                87.17 (20.6)  81.34 (28.09)\n",
       "QD_PS              70.35 (22.23)  68.41 (27.79)\n",
       "QD_L               63.01 (32.09)  61.24 (34.01)\n",
       "QD_EH              74.62 (25.98)  71.27 (28.77)\n",
       "QD_R               81.78 (27.32)    78.2 (32.9)"
      ]
     },
     "execution_count": 27,
     "metadata": {},
     "output_type": "execute_result"
    }
   ],
   "source": [
    "# vizualize mean and sd of the two populations (dataframes)\n",
    "concat_df"
   ]
  },
  {
   "cell_type": "markdown",
   "metadata": {},
   "source": [
    "### Number of samples for each variable"
   ]
  },
  {
   "cell_type": "code",
   "execution_count": 28,
   "metadata": {},
   "outputs": [
    {
     "data": {
      "text/plain": [
       "661"
      ]
     },
     "execution_count": 28,
     "metadata": {},
     "output_type": "execute_result"
    }
   ],
   "source": [
    "len(df_included)"
   ]
  },
  {
   "cell_type": "code",
   "execution_count": 29,
   "metadata": {},
   "outputs": [
    {
     "data": {
      "text/plain": [
       "Race                 657\n",
       "Gender               661\n",
       "ADOS_Sev             557\n",
       "ADIR_quot            643\n",
       "Dysmorphysm          639\n",
       "Language_Regr        625\n",
       "Audition             638\n",
       "Vision               602\n",
       "Verbal               638\n",
       "Psyc_Family_Hist     648\n",
       "PMD_Regression       619\n",
       "PMD_Delay            642\n",
       "HC                   580\n",
       "Apgar_1              482\n",
       "Apgar_5              619\n",
       "Diag_Age             480\n",
       "Walk_Age             655\n",
       "First_Words_Age      610\n",
       "First_Phrases_Age    503\n",
       "ADIR_Soc             638\n",
       "ADIR_RRB             637\n",
       "ADIR_AbDev           629\n",
       "VABS_Com             524\n",
       "VABS_Soc             526\n",
       "VABS_Aut             524\n",
       "QD_M                 628\n",
       "QD_PS                628\n",
       "QD_L                 640\n",
       "QD_EH                628\n",
       "QD_R                 628\n",
       "dtype: int64"
      ]
     },
     "execution_count": 29,
     "metadata": {},
     "output_type": "execute_result"
    }
   ],
   "source": [
    "df_included.count()"
   ]
  },
  {
   "cell_type": "code",
   "execution_count": 30,
   "metadata": {},
   "outputs": [
    {
     "data": {
      "text/plain": [
       "356"
      ]
     },
     "execution_count": 30,
     "metadata": {},
     "output_type": "execute_result"
    }
   ],
   "source": [
    "len(df_excluded)"
   ]
  },
  {
   "cell_type": "code",
   "execution_count": 31,
   "metadata": {},
   "outputs": [
    {
     "data": {
      "text/plain": [
       "Race                 354\n",
       "Gender               356\n",
       "ADOS_Sev             233\n",
       "ADIR_quot            291\n",
       "Dysmorphysm          319\n",
       "Language_Regr        338\n",
       "Audition             321\n",
       "Vision               310\n",
       "Verbal               164\n",
       "Psyc_Family_Hist     347\n",
       "PMD_Regression       341\n",
       "PMD_Delay            338\n",
       "HC                   256\n",
       "Apgar_1              247\n",
       "Apgar_5              312\n",
       "Diag_Age             188\n",
       "Walk_Age             353\n",
       "First_Words_Age      332\n",
       "First_Phrases_Age    270\n",
       "ADIR_Soc             287\n",
       "ADIR_RRB             287\n",
       "ADIR_AbDev           276\n",
       "VABS_Com             191\n",
       "VABS_Soc             191\n",
       "VABS_Aut             191\n",
       "QD_M                 256\n",
       "QD_PS                256\n",
       "QD_L                 255\n",
       "QD_EH                256\n",
       "QD_R                 256\n",
       "dtype: int64"
      ]
     },
     "execution_count": 31,
     "metadata": {},
     "output_type": "execute_result"
    }
   ],
   "source": [
    "df_excluded.count()"
   ]
  },
  {
   "cell_type": "markdown",
   "metadata": {},
   "source": [
    "### Mann Wihtineyu Test for Numeric Variables "
   ]
  },
  {
   "cell_type": "code",
   "execution_count": 32,
   "metadata": {},
   "outputs": [
    {
     "name": "stdout",
     "output_type": "stream",
     "text": [
      "VABS_Com\n",
      "statistics: 46042.5 p_value: 0.1017\n",
      "\n",
      "VABS_Aut\n",
      "statistics: 40396.5 p_value: 0.0001\n",
      "\n",
      "VABS_Soc\n",
      "statistics: 42380.0 p_value: 0.0014\n",
      "\n",
      "ADIR_Soc\n",
      "statistics: 105834.5 p_value: 0.0001\n",
      "\n",
      "ADIR_RRB\n",
      "statistics: 99006.0 p_value: 0.0399\n",
      "\n",
      "ADIR_AbDev\n",
      "statistics: 92902.0 p_value: 0.0729\n",
      "\n",
      "QD_M\n",
      "statistics: 88004.0 p_value: 0.0269\n",
      "\n",
      "QD_PS\n",
      "statistics: 83776.5 p_value: 0.3245\n",
      "\n",
      "QD_L\n",
      "statistics: 85787.5 p_value: 0.2303\n",
      "\n",
      "QD_EH\n",
      "statistics: 85751.0 p_value: 0.1191\n",
      "\n",
      "QD_R\n",
      "statistics: 85441.5 p_value: 0.1419\n",
      "\n",
      "Diag_Age\n",
      "statistics: 23333.5 p_value: 0.0\n",
      "\n"
     ]
    }
   ],
   "source": [
    "# Mann Witneyu test\n",
    "for t in ['VABS_Com','VABS_Aut','VABS_Soc',\n",
    "          'ADIR_Soc','ADIR_RRB','ADIR_AbDev',\n",
    "          'QD_M', 'QD_PS','QD_L', 'QD_EH','QD_R',\n",
    "          'Diag_Age']:\n",
    "    pvalue = stats.mannwhitneyu(df_included[t].dropna(), df_excluded[t].dropna())\n",
    "    print(t)\n",
    "    print(\"statistics:\", pvalue[0], \"p_value:\", (pvalue[1]).round(4))\n",
    "    print(\"\")"
   ]
  },
  {
   "cell_type": "markdown",
   "metadata": {},
   "source": [
    "### Contigency/Frequency Tables and Fisher Test for Categorical Variables"
   ]
  },
  {
   "cell_type": "code",
   "execution_count": 33,
   "metadata": {
    "scrolled": true
   },
   "outputs": [
    {
     "data": {
      "text/plain": [
       "M    586\n",
       "F     75\n",
       "Name: Gender, dtype: int64"
      ]
     },
     "execution_count": 33,
     "metadata": {},
     "output_type": "execute_result"
    }
   ],
   "source": [
    "# number of females and males in data included\n",
    "df_included['Gender'].value_counts()"
   ]
  },
  {
   "cell_type": "code",
   "execution_count": 34,
   "metadata": {},
   "outputs": [
    {
     "data": {
      "text/plain": [
       "M    295\n",
       "F     61\n",
       "Name: Gender, dtype: int64"
      ]
     },
     "execution_count": 34,
     "metadata": {},
     "output_type": "execute_result"
    }
   ],
   "source": [
    "# number of females and males in data excluded\n",
    "df_excluded['Gender'].value_counts()"
   ]
  },
  {
   "cell_type": "code",
   "execution_count": 35,
   "metadata": {},
   "outputs": [],
   "source": [
    "ci = Counter(df_included['Gender'])\n",
    "ce = Counter(df_excluded['Gender'])"
   ]
  },
  {
   "cell_type": "code",
   "execution_count": 36,
   "metadata": {},
   "outputs": [],
   "source": [
    "# sex contigency table \n",
    "ctable_sex = [[ci[\"M\"], ce[\"M\"]],\n",
    "               [ci[\"F\"], ce[\"F\"]]]"
   ]
  },
  {
   "cell_type": "code",
   "execution_count": 37,
   "metadata": {},
   "outputs": [
    {
     "data": {
      "text/plain": [
       "[[0.886535552193646,\n",
       "  0.8286516853932584,\n",
       "  0.11346444780635401,\n",
       "  0.17134831460674158]]"
      ]
     },
     "execution_count": 37,
     "metadata": {},
     "output_type": "execute_result"
    }
   ],
   "source": [
    "# find proportions \n",
    "freq_sex = [[len(df_included[df_included.Gender == 'M'])/len(df_included.Gender), \n",
    "             len(df_excluded[df_excluded.Gender == 'M'])/len(df_excluded.Gender),\n",
    "             len(df_included[df_included.Gender == 'F'])/len(df_included.Gender),\n",
    "             len(df_excluded[df_excluded.Gender == 'F'])/len(df_excluded.Gender)]]\n",
    "freq_sex "
   ]
  },
  {
   "cell_type": "code",
   "execution_count": 38,
   "metadata": {},
   "outputs": [
    {
     "data": {
      "text/plain": [
       "(6.201913162706191,\n",
       " 0.012761230236009353,\n",
       " 1,\n",
       " array([[572.60668633, 308.39331367],\n",
       "        [ 88.39331367,  47.60668633]]))"
      ]
     },
     "execution_count": 38,
     "metadata": {},
     "output_type": "execute_result"
    }
   ],
   "source": [
    "chi2_contingency(ctable_sex)"
   ]
  },
  {
   "cell_type": "code",
   "execution_count": 39,
   "metadata": {},
   "outputs": [
    {
     "data": {
      "text/plain": [
       "(1.6156384180790961, 0.011871333339651418)"
      ]
     },
     "execution_count": 39,
     "metadata": {},
     "output_type": "execute_result"
    }
   ],
   "source": [
    "# fisher test \n",
    "stats.fisher_exact(ctable_sex)"
   ]
  },
  {
   "cell_type": "code",
   "execution_count": 40,
   "metadata": {},
   "outputs": [],
   "source": [
    "import rpy2.robjects.numpy2ri\n",
    "from rpy2.robjects.packages import importr\n",
    "rpy2.robjects.numpy2ri.activate()\n",
    "stats = importr('stats')"
   ]
  },
  {
   "cell_type": "code",
   "execution_count": 41,
   "metadata": {},
   "outputs": [
    {
     "data": {
      "text/plain": [
       "Counter({'White': 640, 'African American': 16, nan: 4, 'Asian': 1})"
      ]
     },
     "execution_count": 41,
     "metadata": {},
     "output_type": "execute_result"
    }
   ],
   "source": [
    "# number of each race in data included\n",
    "Counter(df_included.Race)"
   ]
  },
  {
   "cell_type": "code",
   "execution_count": 42,
   "metadata": {},
   "outputs": [
    {
     "data": {
      "text/plain": [
       "Counter({'White': 349, 'African American': 5, nan: 2})"
      ]
     },
     "execution_count": 42,
     "metadata": {},
     "output_type": "execute_result"
    }
   ],
   "source": [
    "# number of each race in data excluded\n",
    "Counter(df_excluded.Race)"
   ]
  },
  {
   "cell_type": "code",
   "execution_count": 43,
   "metadata": {},
   "outputs": [],
   "source": [
    "ci = Counter(df_included['Race'])\n",
    "ce = Counter(df_excluded['Race'])"
   ]
  },
  {
   "cell_type": "code",
   "execution_count": 44,
   "metadata": {},
   "outputs": [],
   "source": [
    "# race contigency table\n",
    "ctable_race = np.array([[ci['White'], ce['White']],\n",
    "                        [ci['African American'], ce['African American']],\n",
    "                        [ci['Asian'], ce['Asian']]])"
   ]
  },
  {
   "cell_type": "code",
   "execution_count": 45,
   "metadata": {},
   "outputs": [
    {
     "data": {
      "text/plain": [
       "[[0.974124809741248,\n",
       "  0.9858757062146892,\n",
       "  0.0243531202435312,\n",
       "  0.014124293785310734,\n",
       "  0.0015220700152207,\n",
       "  0.0]]"
      ]
     },
     "execution_count": 45,
     "metadata": {},
     "output_type": "execute_result"
    }
   ],
   "source": [
    "# find proportions \n",
    "freq_race = [[len(df_included[df_included.Race == 'White'])/df_included.Race.count(), \n",
    "             len(df_excluded[df_excluded.Race  == 'White'])/df_excluded.Race.count(),\n",
    "             len(df_included[df_included.Race  == 'African American'])/df_included.Race.count(),\n",
    "             len(df_excluded[df_excluded.Race  == 'African American'])/df_excluded.Race.count(),\n",
    "             len(df_included[df_included.Race  == 'Asian'])/df_included.Race.count(),\n",
    "             len(df_excluded[df_excluded.Race  == 'Asian'])/df_excluded.Race.count()]]\n",
    "freq_race "
   ]
  },
  {
   "cell_type": "code",
   "execution_count": 46,
   "metadata": {},
   "outputs": [
    {
     "name": "stdout",
     "output_type": "stream",
     "text": [
      "p-value: 0.58278154990688\n"
     ]
    }
   ],
   "source": [
    "race_ft = stats.fisher_test(ctable_race)\n",
    "print('p-value: {}'.format(race_ft[0][0]))"
   ]
  },
  {
   "cell_type": "code",
   "execution_count": 47,
   "metadata": {},
   "outputs": [
    {
     "data": {
      "text/plain": [
       "(1.730065093434809,\n",
       " 0.4210378490044304,\n",
       " 2,\n",
       " array([[6.42703264e+02, 3.46296736e+02],\n",
       "        [1.36468843e+01, 7.35311573e+00],\n",
       "        [6.49851632e-01, 3.50148368e-01]]))"
      ]
     },
     "execution_count": 47,
     "metadata": {},
     "output_type": "execute_result"
    }
   ],
   "source": [
    "chi2_contingency(ctable_race)"
   ]
  },
  {
   "cell_type": "code",
   "execution_count": 48,
   "metadata": {},
   "outputs": [
    {
     "data": {
      "text/plain": [
       "Autism          443\n",
       "ASD             108\n",
       "Non Spectrum      6\n",
       "Name: ADOS_Sev, dtype: int64"
      ]
     },
     "execution_count": 48,
     "metadata": {},
     "output_type": "execute_result"
    }
   ],
   "source": [
    "# number of categories of ADOS severity in data included\n",
    "df_included['ADOS_Sev'].value_counts()"
   ]
  },
  {
   "cell_type": "code",
   "execution_count": 49,
   "metadata": {},
   "outputs": [
    {
     "data": {
      "text/plain": [
       "Autism          126\n",
       "Non Spectrum     66\n",
       "ASD              41\n",
       "Name: ADOS_Sev, dtype: int64"
      ]
     },
     "execution_count": 49,
     "metadata": {},
     "output_type": "execute_result"
    }
   ],
   "source": [
    "# number of categories of ADOS severity in data excluded\n",
    "df_excluded['ADOS_Sev'].value_counts()"
   ]
  },
  {
   "cell_type": "code",
   "execution_count": 50,
   "metadata": {},
   "outputs": [],
   "source": [
    "ci = Counter(df_included['ADOS_Sev'])\n",
    "ce = Counter(df_excluded['ADOS_Sev'])"
   ]
  },
  {
   "cell_type": "code",
   "execution_count": 51,
   "metadata": {},
   "outputs": [],
   "source": [
    "# ADOS severity contigency table\n",
    "ct_ados = np.array([[ci['Autism'], ce['Autism']],\n",
    "               [ci['ASD'], ce['ASD']],\n",
    "               [ci['Non Spectrum'], ce['Non Spectrum']]])"
   ]
  },
  {
   "cell_type": "code",
   "execution_count": 52,
   "metadata": {},
   "outputs": [
    {
     "data": {
      "text/plain": [
       "[[0.7953321364452424,\n",
       "  0.5407725321888412,\n",
       "  0.19389587073608616,\n",
       "  0.1759656652360515,\n",
       "  0.010771992818671455,\n",
       "  0.2832618025751073]]"
      ]
     },
     "execution_count": 52,
     "metadata": {},
     "output_type": "execute_result"
    }
   ],
   "source": [
    "# find proportions \n",
    "freq_ados = [[len(df_included[df_included.ADOS_Sev == 'Autism'])/df_included.ADOS_Sev.count(), \n",
    "             len(df_excluded[df_excluded.ADOS_Sev  == 'Autism'])/df_excluded.ADOS_Sev.count(),\n",
    "             len(df_included[df_included.ADOS_Sev  == 'ASD'])/df_included.ADOS_Sev.count(),\n",
    "             len(df_excluded[df_excluded.ADOS_Sev  == 'ASD'])/df_excluded.ADOS_Sev.count(),\n",
    "             len(df_included[df_included.ADOS_Sev  == 'Non Spectrum'])/df_included.ADOS_Sev.count(),\n",
    "             len(df_excluded[df_excluded.ADOS_Sev  == 'Non Spectrum'])/df_excluded.ADOS_Sev.count()]]\n",
    "freq_ados "
   ]
  },
  {
   "cell_type": "code",
   "execution_count": 53,
   "metadata": {},
   "outputs": [
    {
     "name": "stdout",
     "output_type": "stream",
     "text": [
      "p-value: 3.259820771058504e-31\n"
     ]
    }
   ],
   "source": [
    "ados_ft = stats.fisher_test(ct_ados)\n",
    "print('p-value: {}'.format(ados_ft[0][0]))"
   ]
  },
  {
   "cell_type": "code",
   "execution_count": 54,
   "metadata": {},
   "outputs": [
    {
     "data": {
      "text/plain": [
       "(148.89805101107984,\n",
       " 4.647282142622786e-33,\n",
       " 2,\n",
       " array([[401.18101266, 167.81898734],\n",
       "        [105.05443038,  43.94556962],\n",
       "        [ 50.76455696,  21.23544304]]))"
      ]
     },
     "execution_count": 54,
     "metadata": {},
     "output_type": "execute_result"
    }
   ],
   "source": [
    "chi2_contingency(ct_ados)"
   ]
  }
 ],
 "metadata": {
  "kernelspec": {
   "display_name": "Python 3",
   "language": "python",
   "name": "python3"
  },
  "language_info": {
   "codemirror_mode": {
    "name": "ipython",
    "version": 3
   },
   "file_extension": ".py",
   "mimetype": "text/x-python",
   "name": "python",
   "nbconvert_exporter": "python",
   "pygments_lexer": "ipython3",
   "version": "3.8.5"
  }
 },
 "nbformat": 4,
 "nbformat_minor": 5
}
